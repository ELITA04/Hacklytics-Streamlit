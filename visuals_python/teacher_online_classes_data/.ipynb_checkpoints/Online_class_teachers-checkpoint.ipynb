{
 "cells": [
  {
   "cell_type": "code",
   "execution_count": 255,
   "metadata": {},
   "outputs": [],
   "source": [
    "import pandas as pd"
   ]
  },
  {
   "cell_type": "code",
   "execution_count": 256,
   "metadata": {},
   "outputs": [],
   "source": [
    "data = pd.read_csv('teachers.csv')"
   ]
  },
  {
   "cell_type": "code",
   "execution_count": 257,
   "metadata": {},
   "outputs": [
    {
     "data": {
      "text/html": [
       "<div>\n",
       "<style scoped>\n",
       "    .dataframe tbody tr th:only-of-type {\n",
       "        vertical-align: middle;\n",
       "    }\n",
       "\n",
       "    .dataframe tbody tr th {\n",
       "        vertical-align: top;\n",
       "    }\n",
       "\n",
       "    .dataframe thead th {\n",
       "        text-align: right;\n",
       "    }\n",
       "</style>\n",
       "<table border=\"1\" class=\"dataframe\">\n",
       "  <thead>\n",
       "    <tr style=\"text-align: right;\">\n",
       "      <th></th>\n",
       "      <th>Gender</th>\n",
       "      <th>Age</th>\n",
       "      <th>Marital status</th>\n",
       "      <th>No of children</th>\n",
       "      <th>Teaching class</th>\n",
       "      <th>Anxiety Score</th>\n",
       "      <th>Stress Score</th>\n",
       "      <th>Hrs involved in teaching</th>\n",
       "      <th>Unnamed: 8</th>\n",
       "      <th>Unnamed: 9</th>\n",
       "    </tr>\n",
       "  </thead>\n",
       "  <tbody>\n",
       "    <tr>\n",
       "      <th>0</th>\n",
       "      <td>Female</td>\n",
       "      <td>28</td>\n",
       "      <td>Married</td>\n",
       "      <td>2</td>\n",
       "      <td>Secondary</td>\n",
       "      <td>12</td>\n",
       "      <td>21</td>\n",
       "      <td>three-four</td>\n",
       "      <td>NaN</td>\n",
       "      <td>NaN</td>\n",
       "    </tr>\n",
       "    <tr>\n",
       "      <th>1</th>\n",
       "      <td>Female</td>\n",
       "      <td>39</td>\n",
       "      <td>Married</td>\n",
       "      <td>3</td>\n",
       "      <td>Secondary</td>\n",
       "      <td>10</td>\n",
       "      <td>20</td>\n",
       "      <td>three-four</td>\n",
       "      <td>NaN</td>\n",
       "      <td>NaN</td>\n",
       "    </tr>\n",
       "    <tr>\n",
       "      <th>2</th>\n",
       "      <td>Female</td>\n",
       "      <td>40</td>\n",
       "      <td>Married</td>\n",
       "      <td>3</td>\n",
       "      <td>Secondary</td>\n",
       "      <td>12</td>\n",
       "      <td>18</td>\n",
       "      <td>five -six</td>\n",
       "      <td>NaN</td>\n",
       "      <td>NaN</td>\n",
       "    </tr>\n",
       "    <tr>\n",
       "      <th>3</th>\n",
       "      <td>Female</td>\n",
       "      <td>34</td>\n",
       "      <td>Married</td>\n",
       "      <td>2</td>\n",
       "      <td>Secondary</td>\n",
       "      <td>10</td>\n",
       "      <td>20</td>\n",
       "      <td>three-four</td>\n",
       "      <td>NaN</td>\n",
       "      <td>NaN</td>\n",
       "    </tr>\n",
       "    <tr>\n",
       "      <th>4</th>\n",
       "      <td>Female</td>\n",
       "      <td>27</td>\n",
       "      <td>Married</td>\n",
       "      <td>1</td>\n",
       "      <td>Secondary</td>\n",
       "      <td>11</td>\n",
       "      <td>19</td>\n",
       "      <td>three-four</td>\n",
       "      <td>NaN</td>\n",
       "      <td>NaN</td>\n",
       "    </tr>\n",
       "    <tr>\n",
       "      <th>...</th>\n",
       "      <td>...</td>\n",
       "      <td>...</td>\n",
       "      <td>...</td>\n",
       "      <td>...</td>\n",
       "      <td>...</td>\n",
       "      <td>...</td>\n",
       "      <td>...</td>\n",
       "      <td>...</td>\n",
       "      <td>...</td>\n",
       "      <td>...</td>\n",
       "    </tr>\n",
       "    <tr>\n",
       "      <th>534</th>\n",
       "      <td>Male</td>\n",
       "      <td>55</td>\n",
       "      <td>Married</td>\n",
       "      <td>2</td>\n",
       "      <td>Pre primary</td>\n",
       "      <td>14</td>\n",
       "      <td>34</td>\n",
       "      <td>Three-Four</td>\n",
       "      <td>NaN</td>\n",
       "      <td>NaN</td>\n",
       "    </tr>\n",
       "    <tr>\n",
       "      <th>535</th>\n",
       "      <td>Male</td>\n",
       "      <td>40</td>\n",
       "      <td>Married</td>\n",
       "      <td>2</td>\n",
       "      <td>Pre primary</td>\n",
       "      <td>11</td>\n",
       "      <td>32</td>\n",
       "      <td>Three-Four</td>\n",
       "      <td>NaN</td>\n",
       "      <td>NaN</td>\n",
       "    </tr>\n",
       "    <tr>\n",
       "      <th>536</th>\n",
       "      <td>Female</td>\n",
       "      <td>43</td>\n",
       "      <td>Married</td>\n",
       "      <td>2</td>\n",
       "      <td>Pre primary</td>\n",
       "      <td>10</td>\n",
       "      <td>29</td>\n",
       "      <td>Three-Four</td>\n",
       "      <td>NaN</td>\n",
       "      <td>NaN</td>\n",
       "    </tr>\n",
       "    <tr>\n",
       "      <th>537</th>\n",
       "      <td>Female</td>\n",
       "      <td>60</td>\n",
       "      <td>Married</td>\n",
       "      <td>2</td>\n",
       "      <td>Pre primary</td>\n",
       "      <td>14</td>\n",
       "      <td>28</td>\n",
       "      <td>Three-Four</td>\n",
       "      <td>NaN</td>\n",
       "      <td>NaN</td>\n",
       "    </tr>\n",
       "    <tr>\n",
       "      <th>538</th>\n",
       "      <td>Female</td>\n",
       "      <td>40</td>\n",
       "      <td>Married</td>\n",
       "      <td>2</td>\n",
       "      <td>Pre primary</td>\n",
       "      <td>11</td>\n",
       "      <td>31</td>\n",
       "      <td>Three-Four</td>\n",
       "      <td>NaN</td>\n",
       "      <td>NaN</td>\n",
       "    </tr>\n",
       "  </tbody>\n",
       "</table>\n",
       "<p>539 rows × 10 columns</p>\n",
       "</div>"
      ],
      "text/plain": [
       "     Gender  Age Marital status  No of children Teaching class  Anxiety Score  \\\n",
       "0    Female   28        Married               2      Secondary             12   \n",
       "1    Female   39        Married               3      Secondary             10   \n",
       "2    Female   40        Married               3      Secondary             12   \n",
       "3    Female   34        Married               2      Secondary             10   \n",
       "4    Female   27        Married               1      Secondary             11   \n",
       "..      ...  ...            ...             ...            ...            ...   \n",
       "534    Male   55        Married               2   Pre primary              14   \n",
       "535    Male   40        Married               2   Pre primary              11   \n",
       "536  Female   43        Married               2   Pre primary              10   \n",
       "537  Female   60        Married               2   Pre primary              14   \n",
       "538  Female   40        Married               2   Pre primary              11   \n",
       "\n",
       "     Stress Score Hrs involved in teaching  Unnamed: 8  Unnamed: 9  \n",
       "0              21               three-four         NaN         NaN  \n",
       "1              20               three-four         NaN         NaN  \n",
       "2              18                five -six         NaN         NaN  \n",
       "3              20               three-four         NaN         NaN  \n",
       "4              19               three-four         NaN         NaN  \n",
       "..            ...                      ...         ...         ...  \n",
       "534            34               Three-Four         NaN         NaN  \n",
       "535            32               Three-Four         NaN         NaN  \n",
       "536            29               Three-Four         NaN         NaN  \n",
       "537            28               Three-Four         NaN         NaN  \n",
       "538            31               Three-Four         NaN         NaN  \n",
       "\n",
       "[539 rows x 10 columns]"
      ]
     },
     "execution_count": 257,
     "metadata": {},
     "output_type": "execute_result"
    }
   ],
   "source": [
    "data"
   ]
  },
  {
   "cell_type": "code",
   "execution_count": 258,
   "metadata": {},
   "outputs": [
    {
     "data": {
      "text/plain": [
       "Index(['Gender', 'Age', 'Marital status', 'No of children', 'Teaching class',\n",
       "       'Anxiety Score', 'Stress Score', 'Hrs involved in teaching',\n",
       "       'Unnamed: 8', 'Unnamed: 9'],\n",
       "      dtype='object')"
      ]
     },
     "execution_count": 258,
     "metadata": {},
     "output_type": "execute_result"
    }
   ],
   "source": [
    "data.columns"
   ]
  },
  {
   "cell_type": "code",
   "execution_count": 259,
   "metadata": {
    "scrolled": true
   },
   "outputs": [
    {
     "data": {
      "text/html": [
       "<div>\n",
       "<style scoped>\n",
       "    .dataframe tbody tr th:only-of-type {\n",
       "        vertical-align: middle;\n",
       "    }\n",
       "\n",
       "    .dataframe tbody tr th {\n",
       "        vertical-align: top;\n",
       "    }\n",
       "\n",
       "    .dataframe thead th {\n",
       "        text-align: right;\n",
       "    }\n",
       "</style>\n",
       "<table border=\"1\" class=\"dataframe\">\n",
       "  <thead>\n",
       "    <tr style=\"text-align: right;\">\n",
       "      <th></th>\n",
       "      <th>Gender</th>\n",
       "      <th>Age</th>\n",
       "      <th>Marital status</th>\n",
       "      <th>No of children</th>\n",
       "      <th>Teaching class</th>\n",
       "      <th>Anxiety Score</th>\n",
       "      <th>Stress Score</th>\n",
       "      <th>Hrs involved in teaching</th>\n",
       "    </tr>\n",
       "  </thead>\n",
       "  <tbody>\n",
       "    <tr>\n",
       "      <th>0</th>\n",
       "      <td>Female</td>\n",
       "      <td>28</td>\n",
       "      <td>Married</td>\n",
       "      <td>2</td>\n",
       "      <td>Secondary</td>\n",
       "      <td>12</td>\n",
       "      <td>21</td>\n",
       "      <td>three-four</td>\n",
       "    </tr>\n",
       "    <tr>\n",
       "      <th>1</th>\n",
       "      <td>Female</td>\n",
       "      <td>39</td>\n",
       "      <td>Married</td>\n",
       "      <td>3</td>\n",
       "      <td>Secondary</td>\n",
       "      <td>10</td>\n",
       "      <td>20</td>\n",
       "      <td>three-four</td>\n",
       "    </tr>\n",
       "    <tr>\n",
       "      <th>2</th>\n",
       "      <td>Female</td>\n",
       "      <td>40</td>\n",
       "      <td>Married</td>\n",
       "      <td>3</td>\n",
       "      <td>Secondary</td>\n",
       "      <td>12</td>\n",
       "      <td>18</td>\n",
       "      <td>five -six</td>\n",
       "    </tr>\n",
       "    <tr>\n",
       "      <th>3</th>\n",
       "      <td>Female</td>\n",
       "      <td>34</td>\n",
       "      <td>Married</td>\n",
       "      <td>2</td>\n",
       "      <td>Secondary</td>\n",
       "      <td>10</td>\n",
       "      <td>20</td>\n",
       "      <td>three-four</td>\n",
       "    </tr>\n",
       "    <tr>\n",
       "      <th>4</th>\n",
       "      <td>Female</td>\n",
       "      <td>27</td>\n",
       "      <td>Married</td>\n",
       "      <td>1</td>\n",
       "      <td>Secondary</td>\n",
       "      <td>11</td>\n",
       "      <td>19</td>\n",
       "      <td>three-four</td>\n",
       "    </tr>\n",
       "    <tr>\n",
       "      <th>...</th>\n",
       "      <td>...</td>\n",
       "      <td>...</td>\n",
       "      <td>...</td>\n",
       "      <td>...</td>\n",
       "      <td>...</td>\n",
       "      <td>...</td>\n",
       "      <td>...</td>\n",
       "      <td>...</td>\n",
       "    </tr>\n",
       "    <tr>\n",
       "      <th>534</th>\n",
       "      <td>Male</td>\n",
       "      <td>55</td>\n",
       "      <td>Married</td>\n",
       "      <td>2</td>\n",
       "      <td>Pre primary</td>\n",
       "      <td>14</td>\n",
       "      <td>34</td>\n",
       "      <td>Three-Four</td>\n",
       "    </tr>\n",
       "    <tr>\n",
       "      <th>535</th>\n",
       "      <td>Male</td>\n",
       "      <td>40</td>\n",
       "      <td>Married</td>\n",
       "      <td>2</td>\n",
       "      <td>Pre primary</td>\n",
       "      <td>11</td>\n",
       "      <td>32</td>\n",
       "      <td>Three-Four</td>\n",
       "    </tr>\n",
       "    <tr>\n",
       "      <th>536</th>\n",
       "      <td>Female</td>\n",
       "      <td>43</td>\n",
       "      <td>Married</td>\n",
       "      <td>2</td>\n",
       "      <td>Pre primary</td>\n",
       "      <td>10</td>\n",
       "      <td>29</td>\n",
       "      <td>Three-Four</td>\n",
       "    </tr>\n",
       "    <tr>\n",
       "      <th>537</th>\n",
       "      <td>Female</td>\n",
       "      <td>60</td>\n",
       "      <td>Married</td>\n",
       "      <td>2</td>\n",
       "      <td>Pre primary</td>\n",
       "      <td>14</td>\n",
       "      <td>28</td>\n",
       "      <td>Three-Four</td>\n",
       "    </tr>\n",
       "    <tr>\n",
       "      <th>538</th>\n",
       "      <td>Female</td>\n",
       "      <td>40</td>\n",
       "      <td>Married</td>\n",
       "      <td>2</td>\n",
       "      <td>Pre primary</td>\n",
       "      <td>11</td>\n",
       "      <td>31</td>\n",
       "      <td>Three-Four</td>\n",
       "    </tr>\n",
       "  </tbody>\n",
       "</table>\n",
       "<p>539 rows × 8 columns</p>\n",
       "</div>"
      ],
      "text/plain": [
       "     Gender  Age Marital status  No of children Teaching class  Anxiety Score  \\\n",
       "0    Female   28        Married               2      Secondary             12   \n",
       "1    Female   39        Married               3      Secondary             10   \n",
       "2    Female   40        Married               3      Secondary             12   \n",
       "3    Female   34        Married               2      Secondary             10   \n",
       "4    Female   27        Married               1      Secondary             11   \n",
       "..      ...  ...            ...             ...            ...            ...   \n",
       "534    Male   55        Married               2   Pre primary              14   \n",
       "535    Male   40        Married               2   Pre primary              11   \n",
       "536  Female   43        Married               2   Pre primary              10   \n",
       "537  Female   60        Married               2   Pre primary              14   \n",
       "538  Female   40        Married               2   Pre primary              11   \n",
       "\n",
       "     Stress Score Hrs involved in teaching  \n",
       "0              21               three-four  \n",
       "1              20               three-four  \n",
       "2              18                five -six  \n",
       "3              20               three-four  \n",
       "4              19               three-four  \n",
       "..            ...                      ...  \n",
       "534            34               Three-Four  \n",
       "535            32               Three-Four  \n",
       "536            29               Three-Four  \n",
       "537            28               Three-Four  \n",
       "538            31               Three-Four  \n",
       "\n",
       "[539 rows x 8 columns]"
      ]
     },
     "execution_count": 259,
     "metadata": {},
     "output_type": "execute_result"
    }
   ],
   "source": [
    "data = data.drop(['Unnamed: 8', 'Unnamed: 9'],axis=1)\n",
    "data"
   ]
  },
  {
   "cell_type": "code",
   "execution_count": 260,
   "metadata": {},
   "outputs": [
    {
     "data": {
      "text/plain": [
       "Gender                      object\n",
       "Age                          int64\n",
       "Marital status              object\n",
       "No of children               int64\n",
       "Teaching class              object\n",
       "Anxiety Score                int64\n",
       "Stress Score                 int64\n",
       "Hrs involved in teaching    object\n",
       "dtype: object"
      ]
     },
     "execution_count": 260,
     "metadata": {},
     "output_type": "execute_result"
    }
   ],
   "source": [
    "data.dtypes"
   ]
  },
  {
   "cell_type": "code",
   "execution_count": 261,
   "metadata": {},
   "outputs": [
    {
     "data": {
      "text/plain": [
       "['Gender', 'Marital status', 'Teaching class', 'Hrs involved in teaching']"
      ]
     },
     "execution_count": 261,
     "metadata": {},
     "output_type": "execute_result"
    }
   ],
   "source": [
    "str_columns = [i for i in data.columns if data[i].dtypes == 'object']\n",
    "str_columns"
   ]
  },
  {
   "cell_type": "code",
   "execution_count": 262,
   "metadata": {},
   "outputs": [],
   "source": [
    "for i in str_columns:\n",
    "    data[i] = data[i].str.lower()\n",
    "    data[i] = data[i].str.replace(' ', '') "
   ]
  },
  {
   "cell_type": "code",
   "execution_count": 263,
   "metadata": {},
   "outputs": [
    {
     "data": {
      "text/html": [
       "<div>\n",
       "<style scoped>\n",
       "    .dataframe tbody tr th:only-of-type {\n",
       "        vertical-align: middle;\n",
       "    }\n",
       "\n",
       "    .dataframe tbody tr th {\n",
       "        vertical-align: top;\n",
       "    }\n",
       "\n",
       "    .dataframe thead th {\n",
       "        text-align: right;\n",
       "    }\n",
       "</style>\n",
       "<table border=\"1\" class=\"dataframe\">\n",
       "  <thead>\n",
       "    <tr style=\"text-align: right;\">\n",
       "      <th></th>\n",
       "      <th>Gender</th>\n",
       "      <th>Age</th>\n",
       "      <th>Marital status</th>\n",
       "      <th>No of children</th>\n",
       "      <th>Teaching class</th>\n",
       "      <th>Anxiety Score</th>\n",
       "      <th>Stress Score</th>\n",
       "      <th>Hrs involved in teaching</th>\n",
       "    </tr>\n",
       "  </thead>\n",
       "  <tbody>\n",
       "    <tr>\n",
       "      <th>0</th>\n",
       "      <td>female</td>\n",
       "      <td>28</td>\n",
       "      <td>married</td>\n",
       "      <td>2</td>\n",
       "      <td>secondary</td>\n",
       "      <td>12</td>\n",
       "      <td>21</td>\n",
       "      <td>three-four</td>\n",
       "    </tr>\n",
       "    <tr>\n",
       "      <th>1</th>\n",
       "      <td>female</td>\n",
       "      <td>39</td>\n",
       "      <td>married</td>\n",
       "      <td>3</td>\n",
       "      <td>secondary</td>\n",
       "      <td>10</td>\n",
       "      <td>20</td>\n",
       "      <td>three-four</td>\n",
       "    </tr>\n",
       "    <tr>\n",
       "      <th>2</th>\n",
       "      <td>female</td>\n",
       "      <td>40</td>\n",
       "      <td>married</td>\n",
       "      <td>3</td>\n",
       "      <td>secondary</td>\n",
       "      <td>12</td>\n",
       "      <td>18</td>\n",
       "      <td>five-six</td>\n",
       "    </tr>\n",
       "    <tr>\n",
       "      <th>3</th>\n",
       "      <td>female</td>\n",
       "      <td>34</td>\n",
       "      <td>married</td>\n",
       "      <td>2</td>\n",
       "      <td>secondary</td>\n",
       "      <td>10</td>\n",
       "      <td>20</td>\n",
       "      <td>three-four</td>\n",
       "    </tr>\n",
       "    <tr>\n",
       "      <th>4</th>\n",
       "      <td>female</td>\n",
       "      <td>27</td>\n",
       "      <td>married</td>\n",
       "      <td>1</td>\n",
       "      <td>secondary</td>\n",
       "      <td>11</td>\n",
       "      <td>19</td>\n",
       "      <td>three-four</td>\n",
       "    </tr>\n",
       "    <tr>\n",
       "      <th>...</th>\n",
       "      <td>...</td>\n",
       "      <td>...</td>\n",
       "      <td>...</td>\n",
       "      <td>...</td>\n",
       "      <td>...</td>\n",
       "      <td>...</td>\n",
       "      <td>...</td>\n",
       "      <td>...</td>\n",
       "    </tr>\n",
       "    <tr>\n",
       "      <th>534</th>\n",
       "      <td>male</td>\n",
       "      <td>55</td>\n",
       "      <td>married</td>\n",
       "      <td>2</td>\n",
       "      <td>preprimary</td>\n",
       "      <td>14</td>\n",
       "      <td>34</td>\n",
       "      <td>three-four</td>\n",
       "    </tr>\n",
       "    <tr>\n",
       "      <th>535</th>\n",
       "      <td>male</td>\n",
       "      <td>40</td>\n",
       "      <td>married</td>\n",
       "      <td>2</td>\n",
       "      <td>preprimary</td>\n",
       "      <td>11</td>\n",
       "      <td>32</td>\n",
       "      <td>three-four</td>\n",
       "    </tr>\n",
       "    <tr>\n",
       "      <th>536</th>\n",
       "      <td>female</td>\n",
       "      <td>43</td>\n",
       "      <td>married</td>\n",
       "      <td>2</td>\n",
       "      <td>preprimary</td>\n",
       "      <td>10</td>\n",
       "      <td>29</td>\n",
       "      <td>three-four</td>\n",
       "    </tr>\n",
       "    <tr>\n",
       "      <th>537</th>\n",
       "      <td>female</td>\n",
       "      <td>60</td>\n",
       "      <td>married</td>\n",
       "      <td>2</td>\n",
       "      <td>preprimary</td>\n",
       "      <td>14</td>\n",
       "      <td>28</td>\n",
       "      <td>three-four</td>\n",
       "    </tr>\n",
       "    <tr>\n",
       "      <th>538</th>\n",
       "      <td>female</td>\n",
       "      <td>40</td>\n",
       "      <td>married</td>\n",
       "      <td>2</td>\n",
       "      <td>preprimary</td>\n",
       "      <td>11</td>\n",
       "      <td>31</td>\n",
       "      <td>three-four</td>\n",
       "    </tr>\n",
       "  </tbody>\n",
       "</table>\n",
       "<p>539 rows × 8 columns</p>\n",
       "</div>"
      ],
      "text/plain": [
       "     Gender  Age Marital status  No of children Teaching class  Anxiety Score  \\\n",
       "0    female   28        married               2      secondary             12   \n",
       "1    female   39        married               3      secondary             10   \n",
       "2    female   40        married               3      secondary             12   \n",
       "3    female   34        married               2      secondary             10   \n",
       "4    female   27        married               1      secondary             11   \n",
       "..      ...  ...            ...             ...            ...            ...   \n",
       "534    male   55        married               2     preprimary             14   \n",
       "535    male   40        married               2     preprimary             11   \n",
       "536  female   43        married               2     preprimary             10   \n",
       "537  female   60        married               2     preprimary             14   \n",
       "538  female   40        married               2     preprimary             11   \n",
       "\n",
       "     Stress Score Hrs involved in teaching  \n",
       "0              21               three-four  \n",
       "1              20               three-four  \n",
       "2              18                 five-six  \n",
       "3              20               three-four  \n",
       "4              19               three-four  \n",
       "..            ...                      ...  \n",
       "534            34               three-four  \n",
       "535            32               three-four  \n",
       "536            29               three-four  \n",
       "537            28               three-four  \n",
       "538            31               three-four  \n",
       "\n",
       "[539 rows x 8 columns]"
      ]
     },
     "execution_count": 263,
     "metadata": {},
     "output_type": "execute_result"
    }
   ],
   "source": [
    "data"
   ]
  },
  {
   "cell_type": "code",
   "execution_count": 264,
   "metadata": {},
   "outputs": [
    {
     "data": {
      "text/plain": [
       "Gender                      0\n",
       "Age                         0\n",
       "Marital status              0\n",
       "No of children              0\n",
       "Teaching class              0\n",
       "Anxiety Score               0\n",
       "Stress Score                0\n",
       "Hrs involved in teaching    0\n",
       "dtype: int64"
      ]
     },
     "execution_count": 264,
     "metadata": {},
     "output_type": "execute_result"
    }
   ],
   "source": [
    "data.isnull().sum()"
   ]
  },
  {
   "cell_type": "code",
   "execution_count": 265,
   "metadata": {},
   "outputs": [
    {
     "data": {
      "text/plain": [
       "array(['three-four', 'five-six', 'one-two'], dtype=object)"
      ]
     },
     "execution_count": 265,
     "metadata": {},
     "output_type": "execute_result"
    }
   ],
   "source": [
    "data['Hrs involved in teaching'].unique()"
   ]
  },
  {
   "cell_type": "code",
   "execution_count": 266,
   "metadata": {},
   "outputs": [],
   "source": [
    "data['Hrs involved in teaching'] = data['Hrs involved in teaching'].map({'three-four': 3.5, 'five-six': 5.5, 'one-two': 1.5})"
   ]
  },
  {
   "cell_type": "code",
   "execution_count": 267,
   "metadata": {},
   "outputs": [
    {
     "data": {
      "text/plain": [
       "0      3.5\n",
       "1      3.5\n",
       "2      5.5\n",
       "3      3.5\n",
       "4      3.5\n",
       "      ... \n",
       "534    3.5\n",
       "535    3.5\n",
       "536    3.5\n",
       "537    3.5\n",
       "538    3.5\n",
       "Name: Hrs involved in teaching, Length: 539, dtype: float64"
      ]
     },
     "execution_count": 267,
     "metadata": {},
     "output_type": "execute_result"
    }
   ],
   "source": [
    "data['Hrs involved in teaching']"
   ]
  },
  {
   "cell_type": "code",
   "execution_count": 268,
   "metadata": {},
   "outputs": [
    {
     "data": {
      "text/plain": [
       "array([3.5, 5.5, 1.5])"
      ]
     },
     "execution_count": 268,
     "metadata": {},
     "output_type": "execute_result"
    }
   ],
   "source": [
    "data['Hrs involved in teaching'].unique()"
   ]
  },
  {
   "cell_type": "code",
   "execution_count": 269,
   "metadata": {},
   "outputs": [
    {
     "data": {
      "text/html": [
       "<div>\n",
       "<style scoped>\n",
       "    .dataframe tbody tr th:only-of-type {\n",
       "        vertical-align: middle;\n",
       "    }\n",
       "\n",
       "    .dataframe tbody tr th {\n",
       "        vertical-align: top;\n",
       "    }\n",
       "\n",
       "    .dataframe thead th {\n",
       "        text-align: right;\n",
       "    }\n",
       "</style>\n",
       "<table border=\"1\" class=\"dataframe\">\n",
       "  <thead>\n",
       "    <tr style=\"text-align: right;\">\n",
       "      <th></th>\n",
       "      <th>Age</th>\n",
       "      <th>No of children</th>\n",
       "      <th>Anxiety Score</th>\n",
       "      <th>Stress Score</th>\n",
       "      <th>Hrs involved in teaching</th>\n",
       "    </tr>\n",
       "  </thead>\n",
       "  <tbody>\n",
       "    <tr>\n",
       "      <th>Age</th>\n",
       "      <td>1.000000</td>\n",
       "      <td>0.639726</td>\n",
       "      <td>0.497190</td>\n",
       "      <td>0.525020</td>\n",
       "      <td>0.248525</td>\n",
       "    </tr>\n",
       "    <tr>\n",
       "      <th>No of children</th>\n",
       "      <td>0.639726</td>\n",
       "      <td>1.000000</td>\n",
       "      <td>0.632941</td>\n",
       "      <td>0.600457</td>\n",
       "      <td>0.208731</td>\n",
       "    </tr>\n",
       "    <tr>\n",
       "      <th>Anxiety Score</th>\n",
       "      <td>0.497190</td>\n",
       "      <td>0.632941</td>\n",
       "      <td>1.000000</td>\n",
       "      <td>0.649154</td>\n",
       "      <td>0.198593</td>\n",
       "    </tr>\n",
       "    <tr>\n",
       "      <th>Stress Score</th>\n",
       "      <td>0.525020</td>\n",
       "      <td>0.600457</td>\n",
       "      <td>0.649154</td>\n",
       "      <td>1.000000</td>\n",
       "      <td>0.243716</td>\n",
       "    </tr>\n",
       "    <tr>\n",
       "      <th>Hrs involved in teaching</th>\n",
       "      <td>0.248525</td>\n",
       "      <td>0.208731</td>\n",
       "      <td>0.198593</td>\n",
       "      <td>0.243716</td>\n",
       "      <td>1.000000</td>\n",
       "    </tr>\n",
       "  </tbody>\n",
       "</table>\n",
       "</div>"
      ],
      "text/plain": [
       "                               Age  No of children  Anxiety Score  \\\n",
       "Age                       1.000000        0.639726       0.497190   \n",
       "No of children            0.639726        1.000000       0.632941   \n",
       "Anxiety Score             0.497190        0.632941       1.000000   \n",
       "Stress Score              0.525020        0.600457       0.649154   \n",
       "Hrs involved in teaching  0.248525        0.208731       0.198593   \n",
       "\n",
       "                          Stress Score  Hrs involved in teaching  \n",
       "Age                           0.525020                  0.248525  \n",
       "No of children                0.600457                  0.208731  \n",
       "Anxiety Score                 0.649154                  0.198593  \n",
       "Stress Score                  1.000000                  0.243716  \n",
       "Hrs involved in teaching      0.243716                  1.000000  "
      ]
     },
     "execution_count": 269,
     "metadata": {},
     "output_type": "execute_result"
    }
   ],
   "source": [
    "data.corr()"
   ]
  },
  {
   "cell_type": "code",
   "execution_count": 270,
   "metadata": {},
   "outputs": [],
   "source": [
    "import plotly.offline as pyo"
   ]
  },
  {
   "cell_type": "code",
   "execution_count": 271,
   "metadata": {},
   "outputs": [
    {
     "data": {
      "application/vnd.plotly.v1+json": {
       "config": {
        "plotlyServerURL": "https://plot.ly"
       },
       "data": [
        {
         "hovertemplate": "Gender=female<br>Stress Score=%{x}<br>Anxiety Score=%{y}<extra></extra>",
         "legendgroup": "female",
         "marker": {
          "color": "#636efa",
          "symbol": "circle"
         },
         "mode": "markers",
         "name": "female",
         "orientation": "v",
         "showlegend": true,
         "type": "scatter",
         "x": [
          21,
          20,
          18,
          20,
          19,
          24,
          20,
          26,
          6,
          32,
          6,
          25,
          18,
          20,
          27,
          26,
          21,
          21,
          20,
          20,
          23,
          21,
          23,
          19,
          22,
          22,
          21,
          23,
          21,
          20,
          19,
          23,
          20,
          18,
          14,
          21,
          23,
          26,
          14,
          21,
          20,
          21,
          6,
          30,
          29,
          22,
          19,
          18,
          19,
          15,
          17,
          14,
          22,
          14,
          16,
          19,
          26,
          23,
          5,
          30,
          5,
          29,
          32,
          29,
          25,
          26,
          23,
          18,
          28,
          27,
          29,
          27,
          35,
          29,
          27,
          34,
          31,
          29,
          27,
          31,
          32,
          28,
          33,
          28,
          30,
          20,
          20,
          29,
          30,
          32,
          28,
          27,
          28,
          28,
          29,
          31,
          30,
          29,
          28,
          29,
          28,
          26,
          14,
          22,
          20,
          21,
          21,
          19,
          18,
          19,
          5,
          21,
          20,
          19,
          19,
          20,
          6,
          13,
          20,
          19,
          20,
          21,
          23,
          18,
          19,
          24,
          15,
          17,
          14,
          22,
          6,
          8,
          7,
          4,
          6,
          11,
          2,
          16,
          17,
          16,
          14,
          16,
          19,
          26,
          24,
          25,
          19,
          23,
          24,
          26,
          24,
          23,
          24,
          26,
          23,
          25,
          26,
          23,
          18,
          24,
          25,
          25,
          15,
          24,
          17,
          21,
          19,
          22,
          17,
          19,
          22,
          19,
          18,
          19,
          23,
          24,
          26,
          24,
          23,
          24,
          26,
          18,
          21,
          20,
          25,
          15,
          24,
          20,
          18,
          7,
          24,
          18,
          14,
          19,
          19,
          18,
          20,
          26,
          25,
          18,
          20,
          19,
          26,
          16,
          23,
          25,
          26,
          23,
          5,
          0,
          6,
          18,
          24,
          25,
          19,
          20,
          21,
          19,
          22,
          19,
          19,
          26,
          25,
          15,
          24,
          17,
          19,
          20,
          21,
          19,
          22,
          19,
          22,
          21,
          34,
          19,
          24,
          20,
          26,
          25,
          18,
          20,
          19,
          19,
          26,
          23,
          25,
          23,
          5,
          18,
          24,
          25,
          19,
          20,
          21,
          19,
          22,
          19,
          26,
          25,
          24,
          17,
          19,
          20,
          21,
          20,
          18,
          19,
          20,
          26,
          25,
          24,
          20,
          26,
          18,
          20,
          21,
          21,
          28,
          39,
          40,
          34,
          27,
          36,
          35,
          27,
          30,
          31,
          29,
          33,
          34,
          29,
          27,
          28,
          29,
          32,
          29,
          30,
          35,
          27,
          30,
          31,
          32,
          28,
          31,
          29,
          37,
          28,
          34,
          33,
          28,
          20,
          20,
          10,
          23,
          20,
          18,
          20,
          20,
          18,
          20,
          5,
          19,
          24,
          21,
          23,
          19,
          22,
          22,
          21,
          21,
          20,
          19,
          23,
          6,
          26,
          14,
          21,
          22,
          38,
          21,
          21,
          22,
          29,
          32,
          34,
          28,
          31,
          35,
          29,
          29,
          30,
          28,
          32,
          31,
          33,
          32,
          32,
          28,
          36,
          32,
          19,
          18,
          19,
          25,
          24,
          34,
          28,
          27,
          29,
          29,
          34,
          29,
          30,
          27,
          17,
          13,
          21,
          12,
          8,
          15,
          8,
          4,
          15,
          24,
          26,
          14,
          7,
          10,
          12,
          8,
          3,
          11,
          6,
          8,
          5,
          4,
          7,
          5,
          7,
          4,
          4,
          6,
          7,
          7,
          5,
          6,
          29,
          28,
          31
         ],
         "xaxis": "x",
         "y": [
          12,
          10,
          12,
          10,
          11,
          10,
          10,
          14,
          3,
          15,
          4,
          12,
          13,
          14,
          17,
          11,
          10,
          10,
          10,
          12,
          13,
          10,
          10,
          13,
          14,
          14,
          14,
          14,
          14,
          13,
          12,
          14,
          11,
          10,
          14,
          14,
          11,
          14,
          13,
          12,
          12,
          10,
          3,
          18,
          17,
          10,
          10,
          14,
          12,
          10,
          11,
          12,
          11,
          10,
          10,
          12,
          10,
          11,
          0,
          16,
          1,
          20,
          21,
          15,
          10,
          10,
          10,
          12,
          16,
          18,
          19,
          17,
          10,
          14,
          11,
          14,
          13,
          12,
          10,
          12,
          15,
          10,
          11,
          10,
          10,
          8,
          5,
          14,
          12,
          13,
          14,
          14,
          13,
          15,
          14,
          12,
          10,
          11,
          12,
          10,
          11,
          12,
          11,
          11,
          10,
          10,
          10,
          13,
          10,
          10,
          7,
          13,
          14,
          14,
          14,
          14,
          7,
          7,
          14,
          14,
          11,
          10,
          13,
          12,
          14,
          11,
          10,
          14,
          11,
          10,
          5,
          8,
          5,
          6,
          3,
          6,
          6,
          14,
          11,
          14,
          13,
          12,
          10,
          12,
          13,
          10,
          10,
          13,
          14,
          14,
          14,
          14,
          14,
          13,
          10,
          11,
          10,
          10,
          14,
          12,
          13,
          12,
          14,
          11,
          12,
          7,
          6,
          7,
          10,
          14,
          11,
          14,
          13,
          14,
          13,
          14,
          13,
          14,
          12,
          10,
          11,
          5,
          5,
          7,
          12,
          10,
          11,
          6,
          7,
          3,
          6,
          7,
          9,
          9,
          10,
          12,
          14,
          14,
          14,
          13,
          12,
          14,
          11,
          5,
          10,
          14,
          11,
          10,
          7,
          6,
          7,
          14,
          11,
          14,
          6,
          7,
          9,
          5,
          5,
          8,
          13,
          12,
          10,
          12,
          10,
          11,
          10,
          10,
          14,
          12,
          13,
          7,
          7,
          14,
          12,
          10,
          11,
          12,
          10,
          11,
          12,
          11,
          10,
          9,
          7,
          7,
          8,
          7,
          6,
          7,
          6,
          5,
          11,
          10,
          11,
          10,
          10,
          9,
          7,
          5,
          9,
          7,
          6,
          8,
          10,
          8,
          5,
          6,
          8,
          7,
          6,
          7,
          7,
          6,
          7,
          7,
          8,
          8,
          15,
          15,
          17,
          15,
          11,
          13,
          12,
          13,
          10,
          10,
          13,
          14,
          14,
          14,
          14,
          14,
          13,
          12,
          14,
          11,
          10,
          14,
          11,
          10,
          14,
          13,
          10,
          12,
          10,
          11,
          10,
          14,
          11,
          7,
          8,
          9,
          5,
          10,
          10,
          13,
          13,
          14,
          12,
          5,
          14,
          14,
          6,
          5,
          6,
          6,
          7,
          7,
          5,
          7,
          7,
          6,
          5,
          10,
          7,
          9,
          5,
          18,
          8,
          6,
          5,
          14,
          12,
          13,
          14,
          13,
          14,
          13,
          14,
          12,
          10,
          11,
          10,
          12,
          10,
          11,
          12,
          11,
          10,
          6,
          7,
          7,
          6,
          8,
          10,
          10,
          13,
          14,
          14,
          14,
          14,
          14,
          13,
          7,
          7,
          5,
          6,
          8,
          8,
          8,
          3,
          7,
          7,
          6,
          6,
          8,
          7,
          6,
          6,
          6,
          7,
          7,
          6,
          6,
          6,
          9,
          8,
          5,
          7,
          7,
          9,
          5,
          3,
          3,
          4,
          10,
          14,
          11
         ],
         "yaxis": "y"
        },
        {
         "hovertemplate": "Gender=male<br>Stress Score=%{x}<br>Anxiety Score=%{y}<extra></extra>",
         "legendgroup": "male",
         "marker": {
          "color": "#EF553B",
          "symbol": "circle"
         },
         "mode": "markers",
         "name": "male",
         "orientation": "v",
         "showlegend": true,
         "type": "scatter",
         "x": [
          7,
          7,
          16,
          22,
          22,
          21,
          8,
          21,
          20,
          19,
          19,
          20,
          20,
          23,
          18,
          19,
          24,
          16,
          17,
          16,
          4,
          4,
          6,
          7,
          5,
          7,
          21,
          18,
          29,
          21,
          22,
          7,
          6,
          7,
          7,
          6,
          5,
          6,
          7,
          6,
          18,
          6,
          5,
          20,
          19,
          14,
          8,
          19,
          18,
          26,
          15,
          4,
          5,
          19,
          20,
          25,
          19,
          26,
          37,
          27,
          7,
          21,
          5,
          23,
          20,
          7,
          9,
          29,
          32,
          30,
          28,
          34,
          29,
          31,
          6,
          18,
          14,
          16,
          22,
          21,
          23,
          8,
          20,
          6,
          15,
          18,
          7,
          20,
          21,
          17,
          4,
          4,
          8,
          3,
          8,
          6,
          5,
          11,
          7,
          5,
          9,
          7,
          8,
          10,
          6,
          4,
          7,
          6,
          6,
          7,
          6,
          4,
          0,
          7,
          6,
          7,
          7,
          6,
          6,
          5,
          5,
          8,
          6,
          7,
          7,
          6,
          29,
          34,
          32
         ],
         "xaxis": "x",
         "y": [
          4,
          4,
          11,
          10,
          10,
          11,
          4,
          13,
          14,
          13,
          14,
          13,
          14,
          12,
          10,
          11,
          12,
          10,
          11,
          10,
          3,
          4,
          4,
          3,
          2,
          4,
          5,
          6,
          13,
          10,
          12,
          5,
          8,
          6,
          2,
          6,
          7,
          6,
          7,
          5,
          5,
          4,
          4,
          7,
          6,
          6,
          8,
          14,
          13,
          6,
          8,
          6,
          7,
          6,
          6,
          5,
          6,
          6,
          16,
          15,
          5,
          13,
          6,
          6,
          6,
          5,
          5,
          11,
          10,
          10,
          10,
          15,
          12,
          13,
          8,
          8,
          8,
          7,
          6,
          8,
          7,
          7,
          5,
          6,
          6,
          6,
          5,
          5,
          5,
          6,
          4,
          3,
          4,
          5,
          8,
          7,
          9,
          6,
          7,
          6,
          9,
          7,
          6,
          5,
          7,
          7,
          6,
          6,
          7,
          5,
          5,
          6,
          5,
          6,
          7,
          5,
          5,
          8,
          6,
          5,
          7,
          6,
          5,
          8,
          4,
          4,
          12,
          14,
          11
         ],
         "yaxis": "y"
        }
       ],
       "layout": {
        "legend": {
         "title": {
          "text": "Gender"
         },
         "tracegroupgap": 0
        },
        "template": {
         "data": {
          "bar": [
           {
            "error_x": {
             "color": "#2a3f5f"
            },
            "error_y": {
             "color": "#2a3f5f"
            },
            "marker": {
             "line": {
              "color": "#E5ECF6",
              "width": 0.5
             }
            },
            "type": "bar"
           }
          ],
          "barpolar": [
           {
            "marker": {
             "line": {
              "color": "#E5ECF6",
              "width": 0.5
             }
            },
            "type": "barpolar"
           }
          ],
          "carpet": [
           {
            "aaxis": {
             "endlinecolor": "#2a3f5f",
             "gridcolor": "white",
             "linecolor": "white",
             "minorgridcolor": "white",
             "startlinecolor": "#2a3f5f"
            },
            "baxis": {
             "endlinecolor": "#2a3f5f",
             "gridcolor": "white",
             "linecolor": "white",
             "minorgridcolor": "white",
             "startlinecolor": "#2a3f5f"
            },
            "type": "carpet"
           }
          ],
          "choropleth": [
           {
            "colorbar": {
             "outlinewidth": 0,
             "ticks": ""
            },
            "type": "choropleth"
           }
          ],
          "contour": [
           {
            "colorbar": {
             "outlinewidth": 0,
             "ticks": ""
            },
            "colorscale": [
             [
              0,
              "#0d0887"
             ],
             [
              0.1111111111111111,
              "#46039f"
             ],
             [
              0.2222222222222222,
              "#7201a8"
             ],
             [
              0.3333333333333333,
              "#9c179e"
             ],
             [
              0.4444444444444444,
              "#bd3786"
             ],
             [
              0.5555555555555556,
              "#d8576b"
             ],
             [
              0.6666666666666666,
              "#ed7953"
             ],
             [
              0.7777777777777778,
              "#fb9f3a"
             ],
             [
              0.8888888888888888,
              "#fdca26"
             ],
             [
              1,
              "#f0f921"
             ]
            ],
            "type": "contour"
           }
          ],
          "contourcarpet": [
           {
            "colorbar": {
             "outlinewidth": 0,
             "ticks": ""
            },
            "type": "contourcarpet"
           }
          ],
          "heatmap": [
           {
            "colorbar": {
             "outlinewidth": 0,
             "ticks": ""
            },
            "colorscale": [
             [
              0,
              "#0d0887"
             ],
             [
              0.1111111111111111,
              "#46039f"
             ],
             [
              0.2222222222222222,
              "#7201a8"
             ],
             [
              0.3333333333333333,
              "#9c179e"
             ],
             [
              0.4444444444444444,
              "#bd3786"
             ],
             [
              0.5555555555555556,
              "#d8576b"
             ],
             [
              0.6666666666666666,
              "#ed7953"
             ],
             [
              0.7777777777777778,
              "#fb9f3a"
             ],
             [
              0.8888888888888888,
              "#fdca26"
             ],
             [
              1,
              "#f0f921"
             ]
            ],
            "type": "heatmap"
           }
          ],
          "heatmapgl": [
           {
            "colorbar": {
             "outlinewidth": 0,
             "ticks": ""
            },
            "colorscale": [
             [
              0,
              "#0d0887"
             ],
             [
              0.1111111111111111,
              "#46039f"
             ],
             [
              0.2222222222222222,
              "#7201a8"
             ],
             [
              0.3333333333333333,
              "#9c179e"
             ],
             [
              0.4444444444444444,
              "#bd3786"
             ],
             [
              0.5555555555555556,
              "#d8576b"
             ],
             [
              0.6666666666666666,
              "#ed7953"
             ],
             [
              0.7777777777777778,
              "#fb9f3a"
             ],
             [
              0.8888888888888888,
              "#fdca26"
             ],
             [
              1,
              "#f0f921"
             ]
            ],
            "type": "heatmapgl"
           }
          ],
          "histogram": [
           {
            "marker": {
             "colorbar": {
              "outlinewidth": 0,
              "ticks": ""
             }
            },
            "type": "histogram"
           }
          ],
          "histogram2d": [
           {
            "colorbar": {
             "outlinewidth": 0,
             "ticks": ""
            },
            "colorscale": [
             [
              0,
              "#0d0887"
             ],
             [
              0.1111111111111111,
              "#46039f"
             ],
             [
              0.2222222222222222,
              "#7201a8"
             ],
             [
              0.3333333333333333,
              "#9c179e"
             ],
             [
              0.4444444444444444,
              "#bd3786"
             ],
             [
              0.5555555555555556,
              "#d8576b"
             ],
             [
              0.6666666666666666,
              "#ed7953"
             ],
             [
              0.7777777777777778,
              "#fb9f3a"
             ],
             [
              0.8888888888888888,
              "#fdca26"
             ],
             [
              1,
              "#f0f921"
             ]
            ],
            "type": "histogram2d"
           }
          ],
          "histogram2dcontour": [
           {
            "colorbar": {
             "outlinewidth": 0,
             "ticks": ""
            },
            "colorscale": [
             [
              0,
              "#0d0887"
             ],
             [
              0.1111111111111111,
              "#46039f"
             ],
             [
              0.2222222222222222,
              "#7201a8"
             ],
             [
              0.3333333333333333,
              "#9c179e"
             ],
             [
              0.4444444444444444,
              "#bd3786"
             ],
             [
              0.5555555555555556,
              "#d8576b"
             ],
             [
              0.6666666666666666,
              "#ed7953"
             ],
             [
              0.7777777777777778,
              "#fb9f3a"
             ],
             [
              0.8888888888888888,
              "#fdca26"
             ],
             [
              1,
              "#f0f921"
             ]
            ],
            "type": "histogram2dcontour"
           }
          ],
          "mesh3d": [
           {
            "colorbar": {
             "outlinewidth": 0,
             "ticks": ""
            },
            "type": "mesh3d"
           }
          ],
          "parcoords": [
           {
            "line": {
             "colorbar": {
              "outlinewidth": 0,
              "ticks": ""
             }
            },
            "type": "parcoords"
           }
          ],
          "pie": [
           {
            "automargin": true,
            "type": "pie"
           }
          ],
          "scatter": [
           {
            "marker": {
             "colorbar": {
              "outlinewidth": 0,
              "ticks": ""
             }
            },
            "type": "scatter"
           }
          ],
          "scatter3d": [
           {
            "line": {
             "colorbar": {
              "outlinewidth": 0,
              "ticks": ""
             }
            },
            "marker": {
             "colorbar": {
              "outlinewidth": 0,
              "ticks": ""
             }
            },
            "type": "scatter3d"
           }
          ],
          "scattercarpet": [
           {
            "marker": {
             "colorbar": {
              "outlinewidth": 0,
              "ticks": ""
             }
            },
            "type": "scattercarpet"
           }
          ],
          "scattergeo": [
           {
            "marker": {
             "colorbar": {
              "outlinewidth": 0,
              "ticks": ""
             }
            },
            "type": "scattergeo"
           }
          ],
          "scattergl": [
           {
            "marker": {
             "colorbar": {
              "outlinewidth": 0,
              "ticks": ""
             }
            },
            "type": "scattergl"
           }
          ],
          "scattermapbox": [
           {
            "marker": {
             "colorbar": {
              "outlinewidth": 0,
              "ticks": ""
             }
            },
            "type": "scattermapbox"
           }
          ],
          "scatterpolar": [
           {
            "marker": {
             "colorbar": {
              "outlinewidth": 0,
              "ticks": ""
             }
            },
            "type": "scatterpolar"
           }
          ],
          "scatterpolargl": [
           {
            "marker": {
             "colorbar": {
              "outlinewidth": 0,
              "ticks": ""
             }
            },
            "type": "scatterpolargl"
           }
          ],
          "scatterternary": [
           {
            "marker": {
             "colorbar": {
              "outlinewidth": 0,
              "ticks": ""
             }
            },
            "type": "scatterternary"
           }
          ],
          "surface": [
           {
            "colorbar": {
             "outlinewidth": 0,
             "ticks": ""
            },
            "colorscale": [
             [
              0,
              "#0d0887"
             ],
             [
              0.1111111111111111,
              "#46039f"
             ],
             [
              0.2222222222222222,
              "#7201a8"
             ],
             [
              0.3333333333333333,
              "#9c179e"
             ],
             [
              0.4444444444444444,
              "#bd3786"
             ],
             [
              0.5555555555555556,
              "#d8576b"
             ],
             [
              0.6666666666666666,
              "#ed7953"
             ],
             [
              0.7777777777777778,
              "#fb9f3a"
             ],
             [
              0.8888888888888888,
              "#fdca26"
             ],
             [
              1,
              "#f0f921"
             ]
            ],
            "type": "surface"
           }
          ],
          "table": [
           {
            "cells": {
             "fill": {
              "color": "#EBF0F8"
             },
             "line": {
              "color": "white"
             }
            },
            "header": {
             "fill": {
              "color": "#C8D4E3"
             },
             "line": {
              "color": "white"
             }
            },
            "type": "table"
           }
          ]
         },
         "layout": {
          "annotationdefaults": {
           "arrowcolor": "#2a3f5f",
           "arrowhead": 0,
           "arrowwidth": 1
          },
          "coloraxis": {
           "colorbar": {
            "outlinewidth": 0,
            "ticks": ""
           }
          },
          "colorscale": {
           "diverging": [
            [
             0,
             "#8e0152"
            ],
            [
             0.1,
             "#c51b7d"
            ],
            [
             0.2,
             "#de77ae"
            ],
            [
             0.3,
             "#f1b6da"
            ],
            [
             0.4,
             "#fde0ef"
            ],
            [
             0.5,
             "#f7f7f7"
            ],
            [
             0.6,
             "#e6f5d0"
            ],
            [
             0.7,
             "#b8e186"
            ],
            [
             0.8,
             "#7fbc41"
            ],
            [
             0.9,
             "#4d9221"
            ],
            [
             1,
             "#276419"
            ]
           ],
           "sequential": [
            [
             0,
             "#0d0887"
            ],
            [
             0.1111111111111111,
             "#46039f"
            ],
            [
             0.2222222222222222,
             "#7201a8"
            ],
            [
             0.3333333333333333,
             "#9c179e"
            ],
            [
             0.4444444444444444,
             "#bd3786"
            ],
            [
             0.5555555555555556,
             "#d8576b"
            ],
            [
             0.6666666666666666,
             "#ed7953"
            ],
            [
             0.7777777777777778,
             "#fb9f3a"
            ],
            [
             0.8888888888888888,
             "#fdca26"
            ],
            [
             1,
             "#f0f921"
            ]
           ],
           "sequentialminus": [
            [
             0,
             "#0d0887"
            ],
            [
             0.1111111111111111,
             "#46039f"
            ],
            [
             0.2222222222222222,
             "#7201a8"
            ],
            [
             0.3333333333333333,
             "#9c179e"
            ],
            [
             0.4444444444444444,
             "#bd3786"
            ],
            [
             0.5555555555555556,
             "#d8576b"
            ],
            [
             0.6666666666666666,
             "#ed7953"
            ],
            [
             0.7777777777777778,
             "#fb9f3a"
            ],
            [
             0.8888888888888888,
             "#fdca26"
            ],
            [
             1,
             "#f0f921"
            ]
           ]
          },
          "colorway": [
           "#636efa",
           "#EF553B",
           "#00cc96",
           "#ab63fa",
           "#FFA15A",
           "#19d3f3",
           "#FF6692",
           "#B6E880",
           "#FF97FF",
           "#FECB52"
          ],
          "font": {
           "color": "#2a3f5f"
          },
          "geo": {
           "bgcolor": "white",
           "lakecolor": "white",
           "landcolor": "#E5ECF6",
           "showlakes": true,
           "showland": true,
           "subunitcolor": "white"
          },
          "hoverlabel": {
           "align": "left"
          },
          "hovermode": "closest",
          "mapbox": {
           "style": "light"
          },
          "paper_bgcolor": "white",
          "plot_bgcolor": "#E5ECF6",
          "polar": {
           "angularaxis": {
            "gridcolor": "white",
            "linecolor": "white",
            "ticks": ""
           },
           "bgcolor": "#E5ECF6",
           "radialaxis": {
            "gridcolor": "white",
            "linecolor": "white",
            "ticks": ""
           }
          },
          "scene": {
           "xaxis": {
            "backgroundcolor": "#E5ECF6",
            "gridcolor": "white",
            "gridwidth": 2,
            "linecolor": "white",
            "showbackground": true,
            "ticks": "",
            "zerolinecolor": "white"
           },
           "yaxis": {
            "backgroundcolor": "#E5ECF6",
            "gridcolor": "white",
            "gridwidth": 2,
            "linecolor": "white",
            "showbackground": true,
            "ticks": "",
            "zerolinecolor": "white"
           },
           "zaxis": {
            "backgroundcolor": "#E5ECF6",
            "gridcolor": "white",
            "gridwidth": 2,
            "linecolor": "white",
            "showbackground": true,
            "ticks": "",
            "zerolinecolor": "white"
           }
          },
          "shapedefaults": {
           "line": {
            "color": "#2a3f5f"
           }
          },
          "ternary": {
           "aaxis": {
            "gridcolor": "white",
            "linecolor": "white",
            "ticks": ""
           },
           "baxis": {
            "gridcolor": "white",
            "linecolor": "white",
            "ticks": ""
           },
           "bgcolor": "#E5ECF6",
           "caxis": {
            "gridcolor": "white",
            "linecolor": "white",
            "ticks": ""
           }
          },
          "title": {
           "x": 0.05
          },
          "xaxis": {
           "automargin": true,
           "gridcolor": "white",
           "linecolor": "white",
           "ticks": "",
           "title": {
            "standoff": 15
           },
           "zerolinecolor": "white",
           "zerolinewidth": 2
          },
          "yaxis": {
           "automargin": true,
           "gridcolor": "white",
           "linecolor": "white",
           "ticks": "",
           "title": {
            "standoff": 15
           },
           "zerolinecolor": "white",
           "zerolinewidth": 2
          }
         }
        },
        "title": {
         "text": "Stress vs Anxiety(Gender)"
        },
        "xaxis": {
         "anchor": "y",
         "domain": [
          0,
          1
         ],
         "title": {
          "text": "Stress Score"
         }
        },
        "yaxis": {
         "anchor": "x",
         "domain": [
          0,
          1
         ],
         "title": {
          "text": "Anxiety Score"
         }
        }
       }
      },
      "text/html": [
       "<div>\n",
       "        \n",
       "        \n",
       "            <div id=\"630afd80-b995-4139-896f-862a46c1fc1c\" class=\"plotly-graph-div\" style=\"height:525px; width:100%;\"></div>\n",
       "            <script type=\"text/javascript\">\n",
       "                require([\"plotly\"], function(Plotly) {\n",
       "                    window.PLOTLYENV=window.PLOTLYENV || {};\n",
       "                    \n",
       "                if (document.getElementById(\"630afd80-b995-4139-896f-862a46c1fc1c\")) {\n",
       "                    Plotly.newPlot(\n",
       "                        '630afd80-b995-4139-896f-862a46c1fc1c',\n",
       "                        [{\"hovertemplate\": \"Gender=female<br>Stress Score=%{x}<br>Anxiety Score=%{y}<extra></extra>\", \"legendgroup\": \"female\", \"marker\": {\"color\": \"#636efa\", \"symbol\": \"circle\"}, \"mode\": \"markers\", \"name\": \"female\", \"orientation\": \"v\", \"showlegend\": true, \"type\": \"scatter\", \"x\": [21, 20, 18, 20, 19, 24, 20, 26, 6, 32, 6, 25, 18, 20, 27, 26, 21, 21, 20, 20, 23, 21, 23, 19, 22, 22, 21, 23, 21, 20, 19, 23, 20, 18, 14, 21, 23, 26, 14, 21, 20, 21, 6, 30, 29, 22, 19, 18, 19, 15, 17, 14, 22, 14, 16, 19, 26, 23, 5, 30, 5, 29, 32, 29, 25, 26, 23, 18, 28, 27, 29, 27, 35, 29, 27, 34, 31, 29, 27, 31, 32, 28, 33, 28, 30, 20, 20, 29, 30, 32, 28, 27, 28, 28, 29, 31, 30, 29, 28, 29, 28, 26, 14, 22, 20, 21, 21, 19, 18, 19, 5, 21, 20, 19, 19, 20, 6, 13, 20, 19, 20, 21, 23, 18, 19, 24, 15, 17, 14, 22, 6, 8, 7, 4, 6, 11, 2, 16, 17, 16, 14, 16, 19, 26, 24, 25, 19, 23, 24, 26, 24, 23, 24, 26, 23, 25, 26, 23, 18, 24, 25, 25, 15, 24, 17, 21, 19, 22, 17, 19, 22, 19, 18, 19, 23, 24, 26, 24, 23, 24, 26, 18, 21, 20, 25, 15, 24, 20, 18, 7, 24, 18, 14, 19, 19, 18, 20, 26, 25, 18, 20, 19, 26, 16, 23, 25, 26, 23, 5, 0, 6, 18, 24, 25, 19, 20, 21, 19, 22, 19, 19, 26, 25, 15, 24, 17, 19, 20, 21, 19, 22, 19, 22, 21, 34, 19, 24, 20, 26, 25, 18, 20, 19, 19, 26, 23, 25, 23, 5, 18, 24, 25, 19, 20, 21, 19, 22, 19, 26, 25, 24, 17, 19, 20, 21, 20, 18, 19, 20, 26, 25, 24, 20, 26, 18, 20, 21, 21, 28, 39, 40, 34, 27, 36, 35, 27, 30, 31, 29, 33, 34, 29, 27, 28, 29, 32, 29, 30, 35, 27, 30, 31, 32, 28, 31, 29, 37, 28, 34, 33, 28, 20, 20, 10, 23, 20, 18, 20, 20, 18, 20, 5, 19, 24, 21, 23, 19, 22, 22, 21, 21, 20, 19, 23, 6, 26, 14, 21, 22, 38, 21, 21, 22, 29, 32, 34, 28, 31, 35, 29, 29, 30, 28, 32, 31, 33, 32, 32, 28, 36, 32, 19, 18, 19, 25, 24, 34, 28, 27, 29, 29, 34, 29, 30, 27, 17, 13, 21, 12, 8, 15, 8, 4, 15, 24, 26, 14, 7, 10, 12, 8, 3, 11, 6, 8, 5, 4, 7, 5, 7, 4, 4, 6, 7, 7, 5, 6, 29, 28, 31], \"xaxis\": \"x\", \"y\": [12, 10, 12, 10, 11, 10, 10, 14, 3, 15, 4, 12, 13, 14, 17, 11, 10, 10, 10, 12, 13, 10, 10, 13, 14, 14, 14, 14, 14, 13, 12, 14, 11, 10, 14, 14, 11, 14, 13, 12, 12, 10, 3, 18, 17, 10, 10, 14, 12, 10, 11, 12, 11, 10, 10, 12, 10, 11, 0, 16, 1, 20, 21, 15, 10, 10, 10, 12, 16, 18, 19, 17, 10, 14, 11, 14, 13, 12, 10, 12, 15, 10, 11, 10, 10, 8, 5, 14, 12, 13, 14, 14, 13, 15, 14, 12, 10, 11, 12, 10, 11, 12, 11, 11, 10, 10, 10, 13, 10, 10, 7, 13, 14, 14, 14, 14, 7, 7, 14, 14, 11, 10, 13, 12, 14, 11, 10, 14, 11, 10, 5, 8, 5, 6, 3, 6, 6, 14, 11, 14, 13, 12, 10, 12, 13, 10, 10, 13, 14, 14, 14, 14, 14, 13, 10, 11, 10, 10, 14, 12, 13, 12, 14, 11, 12, 7, 6, 7, 10, 14, 11, 14, 13, 14, 13, 14, 13, 14, 12, 10, 11, 5, 5, 7, 12, 10, 11, 6, 7, 3, 6, 7, 9, 9, 10, 12, 14, 14, 14, 13, 12, 14, 11, 5, 10, 14, 11, 10, 7, 6, 7, 14, 11, 14, 6, 7, 9, 5, 5, 8, 13, 12, 10, 12, 10, 11, 10, 10, 14, 12, 13, 7, 7, 14, 12, 10, 11, 12, 10, 11, 12, 11, 10, 9, 7, 7, 8, 7, 6, 7, 6, 5, 11, 10, 11, 10, 10, 9, 7, 5, 9, 7, 6, 8, 10, 8, 5, 6, 8, 7, 6, 7, 7, 6, 7, 7, 8, 8, 15, 15, 17, 15, 11, 13, 12, 13, 10, 10, 13, 14, 14, 14, 14, 14, 13, 12, 14, 11, 10, 14, 11, 10, 14, 13, 10, 12, 10, 11, 10, 14, 11, 7, 8, 9, 5, 10, 10, 13, 13, 14, 12, 5, 14, 14, 6, 5, 6, 6, 7, 7, 5, 7, 7, 6, 5, 10, 7, 9, 5, 18, 8, 6, 5, 14, 12, 13, 14, 13, 14, 13, 14, 12, 10, 11, 10, 12, 10, 11, 12, 11, 10, 6, 7, 7, 6, 8, 10, 10, 13, 14, 14, 14, 14, 14, 13, 7, 7, 5, 6, 8, 8, 8, 3, 7, 7, 6, 6, 8, 7, 6, 6, 6, 7, 7, 6, 6, 6, 9, 8, 5, 7, 7, 9, 5, 3, 3, 4, 10, 14, 11], \"yaxis\": \"y\"}, {\"hovertemplate\": \"Gender=male<br>Stress Score=%{x}<br>Anxiety Score=%{y}<extra></extra>\", \"legendgroup\": \"male\", \"marker\": {\"color\": \"#EF553B\", \"symbol\": \"circle\"}, \"mode\": \"markers\", \"name\": \"male\", \"orientation\": \"v\", \"showlegend\": true, \"type\": \"scatter\", \"x\": [7, 7, 16, 22, 22, 21, 8, 21, 20, 19, 19, 20, 20, 23, 18, 19, 24, 16, 17, 16, 4, 4, 6, 7, 5, 7, 21, 18, 29, 21, 22, 7, 6, 7, 7, 6, 5, 6, 7, 6, 18, 6, 5, 20, 19, 14, 8, 19, 18, 26, 15, 4, 5, 19, 20, 25, 19, 26, 37, 27, 7, 21, 5, 23, 20, 7, 9, 29, 32, 30, 28, 34, 29, 31, 6, 18, 14, 16, 22, 21, 23, 8, 20, 6, 15, 18, 7, 20, 21, 17, 4, 4, 8, 3, 8, 6, 5, 11, 7, 5, 9, 7, 8, 10, 6, 4, 7, 6, 6, 7, 6, 4, 0, 7, 6, 7, 7, 6, 6, 5, 5, 8, 6, 7, 7, 6, 29, 34, 32], \"xaxis\": \"x\", \"y\": [4, 4, 11, 10, 10, 11, 4, 13, 14, 13, 14, 13, 14, 12, 10, 11, 12, 10, 11, 10, 3, 4, 4, 3, 2, 4, 5, 6, 13, 10, 12, 5, 8, 6, 2, 6, 7, 6, 7, 5, 5, 4, 4, 7, 6, 6, 8, 14, 13, 6, 8, 6, 7, 6, 6, 5, 6, 6, 16, 15, 5, 13, 6, 6, 6, 5, 5, 11, 10, 10, 10, 15, 12, 13, 8, 8, 8, 7, 6, 8, 7, 7, 5, 6, 6, 6, 5, 5, 5, 6, 4, 3, 4, 5, 8, 7, 9, 6, 7, 6, 9, 7, 6, 5, 7, 7, 6, 6, 7, 5, 5, 6, 5, 6, 7, 5, 5, 8, 6, 5, 7, 6, 5, 8, 4, 4, 12, 14, 11], \"yaxis\": \"y\"}],\n",
       "                        {\"legend\": {\"title\": {\"text\": \"Gender\"}, \"tracegroupgap\": 0}, \"template\": {\"data\": {\"bar\": [{\"error_x\": {\"color\": \"#2a3f5f\"}, \"error_y\": {\"color\": \"#2a3f5f\"}, \"marker\": {\"line\": {\"color\": \"#E5ECF6\", \"width\": 0.5}}, \"type\": \"bar\"}], \"barpolar\": [{\"marker\": {\"line\": {\"color\": \"#E5ECF6\", \"width\": 0.5}}, \"type\": \"barpolar\"}], \"carpet\": [{\"aaxis\": {\"endlinecolor\": \"#2a3f5f\", \"gridcolor\": \"white\", \"linecolor\": \"white\", \"minorgridcolor\": \"white\", \"startlinecolor\": \"#2a3f5f\"}, \"baxis\": {\"endlinecolor\": \"#2a3f5f\", \"gridcolor\": \"white\", \"linecolor\": \"white\", \"minorgridcolor\": \"white\", \"startlinecolor\": \"#2a3f5f\"}, \"type\": \"carpet\"}], \"choropleth\": [{\"colorbar\": {\"outlinewidth\": 0, \"ticks\": \"\"}, \"type\": \"choropleth\"}], \"contour\": [{\"colorbar\": {\"outlinewidth\": 0, \"ticks\": \"\"}, \"colorscale\": [[0.0, \"#0d0887\"], [0.1111111111111111, \"#46039f\"], [0.2222222222222222, \"#7201a8\"], [0.3333333333333333, \"#9c179e\"], [0.4444444444444444, \"#bd3786\"], [0.5555555555555556, \"#d8576b\"], [0.6666666666666666, \"#ed7953\"], [0.7777777777777778, \"#fb9f3a\"], [0.8888888888888888, \"#fdca26\"], [1.0, \"#f0f921\"]], \"type\": \"contour\"}], \"contourcarpet\": [{\"colorbar\": {\"outlinewidth\": 0, \"ticks\": \"\"}, \"type\": \"contourcarpet\"}], \"heatmap\": [{\"colorbar\": {\"outlinewidth\": 0, \"ticks\": \"\"}, \"colorscale\": [[0.0, \"#0d0887\"], [0.1111111111111111, \"#46039f\"], [0.2222222222222222, \"#7201a8\"], [0.3333333333333333, \"#9c179e\"], [0.4444444444444444, \"#bd3786\"], [0.5555555555555556, \"#d8576b\"], [0.6666666666666666, \"#ed7953\"], [0.7777777777777778, \"#fb9f3a\"], [0.8888888888888888, \"#fdca26\"], [1.0, \"#f0f921\"]], \"type\": \"heatmap\"}], \"heatmapgl\": [{\"colorbar\": {\"outlinewidth\": 0, \"ticks\": \"\"}, \"colorscale\": [[0.0, \"#0d0887\"], [0.1111111111111111, \"#46039f\"], [0.2222222222222222, \"#7201a8\"], [0.3333333333333333, \"#9c179e\"], [0.4444444444444444, \"#bd3786\"], [0.5555555555555556, \"#d8576b\"], [0.6666666666666666, \"#ed7953\"], [0.7777777777777778, \"#fb9f3a\"], [0.8888888888888888, \"#fdca26\"], [1.0, \"#f0f921\"]], \"type\": \"heatmapgl\"}], \"histogram\": [{\"marker\": {\"colorbar\": {\"outlinewidth\": 0, \"ticks\": \"\"}}, \"type\": \"histogram\"}], \"histogram2d\": [{\"colorbar\": {\"outlinewidth\": 0, \"ticks\": \"\"}, \"colorscale\": [[0.0, \"#0d0887\"], [0.1111111111111111, \"#46039f\"], [0.2222222222222222, \"#7201a8\"], [0.3333333333333333, \"#9c179e\"], [0.4444444444444444, \"#bd3786\"], [0.5555555555555556, \"#d8576b\"], [0.6666666666666666, \"#ed7953\"], [0.7777777777777778, \"#fb9f3a\"], [0.8888888888888888, \"#fdca26\"], [1.0, \"#f0f921\"]], \"type\": \"histogram2d\"}], \"histogram2dcontour\": [{\"colorbar\": {\"outlinewidth\": 0, \"ticks\": \"\"}, \"colorscale\": [[0.0, \"#0d0887\"], [0.1111111111111111, \"#46039f\"], [0.2222222222222222, \"#7201a8\"], [0.3333333333333333, \"#9c179e\"], [0.4444444444444444, \"#bd3786\"], [0.5555555555555556, \"#d8576b\"], [0.6666666666666666, \"#ed7953\"], [0.7777777777777778, \"#fb9f3a\"], [0.8888888888888888, \"#fdca26\"], [1.0, \"#f0f921\"]], \"type\": \"histogram2dcontour\"}], \"mesh3d\": [{\"colorbar\": {\"outlinewidth\": 0, \"ticks\": \"\"}, \"type\": \"mesh3d\"}], \"parcoords\": [{\"line\": {\"colorbar\": {\"outlinewidth\": 0, \"ticks\": \"\"}}, \"type\": \"parcoords\"}], \"pie\": [{\"automargin\": true, \"type\": \"pie\"}], \"scatter\": [{\"marker\": {\"colorbar\": {\"outlinewidth\": 0, \"ticks\": \"\"}}, \"type\": \"scatter\"}], \"scatter3d\": [{\"line\": {\"colorbar\": {\"outlinewidth\": 0, \"ticks\": \"\"}}, \"marker\": {\"colorbar\": {\"outlinewidth\": 0, \"ticks\": \"\"}}, \"type\": \"scatter3d\"}], \"scattercarpet\": [{\"marker\": {\"colorbar\": {\"outlinewidth\": 0, \"ticks\": \"\"}}, \"type\": \"scattercarpet\"}], \"scattergeo\": [{\"marker\": {\"colorbar\": {\"outlinewidth\": 0, \"ticks\": \"\"}}, \"type\": \"scattergeo\"}], \"scattergl\": [{\"marker\": {\"colorbar\": {\"outlinewidth\": 0, \"ticks\": \"\"}}, \"type\": \"scattergl\"}], \"scattermapbox\": [{\"marker\": {\"colorbar\": {\"outlinewidth\": 0, \"ticks\": \"\"}}, \"type\": \"scattermapbox\"}], \"scatterpolar\": [{\"marker\": {\"colorbar\": {\"outlinewidth\": 0, \"ticks\": \"\"}}, \"type\": \"scatterpolar\"}], \"scatterpolargl\": [{\"marker\": {\"colorbar\": {\"outlinewidth\": 0, \"ticks\": \"\"}}, \"type\": \"scatterpolargl\"}], \"scatterternary\": [{\"marker\": {\"colorbar\": {\"outlinewidth\": 0, \"ticks\": \"\"}}, \"type\": \"scatterternary\"}], \"surface\": [{\"colorbar\": {\"outlinewidth\": 0, \"ticks\": \"\"}, \"colorscale\": [[0.0, \"#0d0887\"], [0.1111111111111111, \"#46039f\"], [0.2222222222222222, \"#7201a8\"], [0.3333333333333333, \"#9c179e\"], [0.4444444444444444, \"#bd3786\"], [0.5555555555555556, \"#d8576b\"], [0.6666666666666666, \"#ed7953\"], [0.7777777777777778, \"#fb9f3a\"], [0.8888888888888888, \"#fdca26\"], [1.0, \"#f0f921\"]], \"type\": \"surface\"}], \"table\": [{\"cells\": {\"fill\": {\"color\": \"#EBF0F8\"}, \"line\": {\"color\": \"white\"}}, \"header\": {\"fill\": {\"color\": \"#C8D4E3\"}, \"line\": {\"color\": \"white\"}}, \"type\": \"table\"}]}, \"layout\": {\"annotationdefaults\": {\"arrowcolor\": \"#2a3f5f\", \"arrowhead\": 0, \"arrowwidth\": 1}, \"coloraxis\": {\"colorbar\": {\"outlinewidth\": 0, \"ticks\": \"\"}}, \"colorscale\": {\"diverging\": [[0, \"#8e0152\"], [0.1, \"#c51b7d\"], [0.2, \"#de77ae\"], [0.3, \"#f1b6da\"], [0.4, \"#fde0ef\"], [0.5, \"#f7f7f7\"], [0.6, \"#e6f5d0\"], [0.7, \"#b8e186\"], [0.8, \"#7fbc41\"], [0.9, \"#4d9221\"], [1, \"#276419\"]], \"sequential\": [[0.0, \"#0d0887\"], [0.1111111111111111, \"#46039f\"], [0.2222222222222222, \"#7201a8\"], [0.3333333333333333, \"#9c179e\"], [0.4444444444444444, \"#bd3786\"], [0.5555555555555556, \"#d8576b\"], [0.6666666666666666, \"#ed7953\"], [0.7777777777777778, \"#fb9f3a\"], [0.8888888888888888, \"#fdca26\"], [1.0, \"#f0f921\"]], \"sequentialminus\": [[0.0, \"#0d0887\"], [0.1111111111111111, \"#46039f\"], [0.2222222222222222, \"#7201a8\"], [0.3333333333333333, \"#9c179e\"], [0.4444444444444444, \"#bd3786\"], [0.5555555555555556, \"#d8576b\"], [0.6666666666666666, \"#ed7953\"], [0.7777777777777778, \"#fb9f3a\"], [0.8888888888888888, \"#fdca26\"], [1.0, \"#f0f921\"]]}, \"colorway\": [\"#636efa\", \"#EF553B\", \"#00cc96\", \"#ab63fa\", \"#FFA15A\", \"#19d3f3\", \"#FF6692\", \"#B6E880\", \"#FF97FF\", \"#FECB52\"], \"font\": {\"color\": \"#2a3f5f\"}, \"geo\": {\"bgcolor\": \"white\", \"lakecolor\": \"white\", \"landcolor\": \"#E5ECF6\", \"showlakes\": true, \"showland\": true, \"subunitcolor\": \"white\"}, \"hoverlabel\": {\"align\": \"left\"}, \"hovermode\": \"closest\", \"mapbox\": {\"style\": \"light\"}, \"paper_bgcolor\": \"white\", \"plot_bgcolor\": \"#E5ECF6\", \"polar\": {\"angularaxis\": {\"gridcolor\": \"white\", \"linecolor\": \"white\", \"ticks\": \"\"}, \"bgcolor\": \"#E5ECF6\", \"radialaxis\": {\"gridcolor\": \"white\", \"linecolor\": \"white\", \"ticks\": \"\"}}, \"scene\": {\"xaxis\": {\"backgroundcolor\": \"#E5ECF6\", \"gridcolor\": \"white\", \"gridwidth\": 2, \"linecolor\": \"white\", \"showbackground\": true, \"ticks\": \"\", \"zerolinecolor\": \"white\"}, \"yaxis\": {\"backgroundcolor\": \"#E5ECF6\", \"gridcolor\": \"white\", \"gridwidth\": 2, \"linecolor\": \"white\", \"showbackground\": true, \"ticks\": \"\", \"zerolinecolor\": \"white\"}, \"zaxis\": {\"backgroundcolor\": \"#E5ECF6\", \"gridcolor\": \"white\", \"gridwidth\": 2, \"linecolor\": \"white\", \"showbackground\": true, \"ticks\": \"\", \"zerolinecolor\": \"white\"}}, \"shapedefaults\": {\"line\": {\"color\": \"#2a3f5f\"}}, \"ternary\": {\"aaxis\": {\"gridcolor\": \"white\", \"linecolor\": \"white\", \"ticks\": \"\"}, \"baxis\": {\"gridcolor\": \"white\", \"linecolor\": \"white\", \"ticks\": \"\"}, \"bgcolor\": \"#E5ECF6\", \"caxis\": {\"gridcolor\": \"white\", \"linecolor\": \"white\", \"ticks\": \"\"}}, \"title\": {\"x\": 0.05}, \"xaxis\": {\"automargin\": true, \"gridcolor\": \"white\", \"linecolor\": \"white\", \"ticks\": \"\", \"title\": {\"standoff\": 15}, \"zerolinecolor\": \"white\", \"zerolinewidth\": 2}, \"yaxis\": {\"automargin\": true, \"gridcolor\": \"white\", \"linecolor\": \"white\", \"ticks\": \"\", \"title\": {\"standoff\": 15}, \"zerolinecolor\": \"white\", \"zerolinewidth\": 2}}}, \"title\": {\"text\": \"Stress vs Anxiety(Gender)\"}, \"xaxis\": {\"anchor\": \"y\", \"domain\": [0.0, 1.0], \"title\": {\"text\": \"Stress Score\"}}, \"yaxis\": {\"anchor\": \"x\", \"domain\": [0.0, 1.0], \"title\": {\"text\": \"Anxiety Score\"}}},\n",
       "                        {\"responsive\": true}\n",
       "                    ).then(function(){\n",
       "                            \n",
       "var gd = document.getElementById('630afd80-b995-4139-896f-862a46c1fc1c');\n",
       "var x = new MutationObserver(function (mutations, observer) {{\n",
       "        var display = window.getComputedStyle(gd).display;\n",
       "        if (!display || display === 'none') {{\n",
       "            console.log([gd, 'removed!']);\n",
       "            Plotly.purge(gd);\n",
       "            observer.disconnect();\n",
       "        }}\n",
       "}});\n",
       "\n",
       "// Listen for the removal of the full notebook cells\n",
       "var notebookContainer = gd.closest('#notebook-container');\n",
       "if (notebookContainer) {{\n",
       "    x.observe(notebookContainer, {childList: true});\n",
       "}}\n",
       "\n",
       "// Listen for the clearing of the current output cell\n",
       "var outputEl = gd.closest('.output');\n",
       "if (outputEl) {{\n",
       "    x.observe(outputEl, {childList: true});\n",
       "}}\n",
       "\n",
       "                        })\n",
       "                };\n",
       "                });\n",
       "            </script>\n",
       "        </div>"
      ]
     },
     "metadata": {},
     "output_type": "display_data"
    }
   ],
   "source": [
    "#Line plot for stress vs anxiety\n",
    "fig = px.scatter(data, x='Stress Score', y='Anxiety Score', color='Gender', title='Stress vs Anxiety(Gender)')\n",
    "fig.show()"
   ]
  },
  {
   "cell_type": "code",
   "execution_count": 272,
   "metadata": {},
   "outputs": [
    {
     "data": {
      "application/vnd.plotly.v1+json": {
       "config": {
        "plotlyServerURL": "https://plot.ly"
       },
       "data": [
        {
         "hovertemplate": "Marital status=married<br>Stress Score=%{x}<br>Anxiety Score=%{y}<extra></extra>",
         "legendgroup": "married",
         "marker": {
          "color": "#636efa",
          "symbol": "circle"
         },
         "mode": "markers",
         "name": "married",
         "orientation": "v",
         "showlegend": true,
         "type": "scatter",
         "x": [
          21,
          20,
          18,
          20,
          19,
          24,
          20,
          26,
          7,
          32,
          6,
          25,
          18,
          20,
          27,
          26,
          21,
          21,
          20,
          20,
          23,
          21,
          23,
          19,
          22,
          22,
          21,
          23,
          21,
          20,
          19,
          23,
          20,
          18,
          14,
          16,
          22,
          21,
          26,
          14,
          22,
          20,
          30,
          29,
          19,
          18,
          19,
          21,
          19,
          19,
          20,
          20,
          23,
          18,
          19,
          24,
          15,
          17,
          14,
          22,
          16,
          17,
          16,
          14,
          16,
          19,
          26,
          23,
          30,
          5,
          7,
          29,
          32,
          29,
          25,
          26,
          23,
          18,
          28,
          27,
          29,
          27,
          35,
          29,
          27,
          34,
          31,
          29,
          27,
          31,
          32,
          28,
          33,
          28,
          30,
          21,
          20,
          18,
          20,
          29,
          30,
          32,
          28,
          29,
          27,
          28,
          28,
          29,
          31,
          30,
          29,
          28,
          29,
          28,
          26,
          14,
          21,
          22,
          20,
          21,
          21,
          22,
          19,
          18,
          19,
          5,
          21,
          20,
          19,
          19,
          20,
          13,
          20,
          19,
          20,
          21,
          23,
          18,
          19,
          24,
          15,
          17,
          14,
          22,
          6,
          8,
          7,
          7,
          4,
          11,
          16,
          17,
          16,
          14,
          16,
          19,
          24,
          25,
          19,
          23,
          24,
          26,
          24,
          23,
          24,
          26,
          23,
          25,
          26,
          23,
          18,
          24,
          25,
          25,
          15,
          24,
          17,
          21,
          19,
          22,
          17,
          19,
          22,
          19,
          18,
          19,
          23,
          24,
          26,
          24,
          23,
          24,
          26,
          18,
          21,
          20,
          18,
          25,
          15,
          24,
          20,
          18,
          20,
          19,
          24,
          18,
          14,
          19,
          19,
          18,
          20,
          26,
          25,
          18,
          20,
          19,
          26,
          14,
          16,
          23,
          25,
          26,
          23,
          5,
          0,
          8,
          6,
          18,
          24,
          25,
          19,
          20,
          21,
          19,
          22,
          19,
          19,
          26,
          25,
          15,
          24,
          17,
          19,
          20,
          21,
          19,
          22,
          19,
          22,
          19,
          18,
          21,
          34,
          19,
          24,
          20,
          26,
          25,
          18,
          20,
          19,
          19,
          26,
          23,
          25,
          26,
          23,
          5,
          18,
          24,
          25,
          19,
          20,
          21,
          19,
          22,
          19,
          26,
          25,
          15,
          24,
          17,
          19,
          20,
          21,
          19,
          20,
          20,
          18,
          19,
          20,
          26,
          25,
          24,
          20,
          26,
          25,
          18,
          20,
          19,
          26,
          21,
          21,
          37,
          27,
          28,
          39,
          40,
          34,
          27,
          36,
          35,
          27,
          30,
          31,
          29,
          33,
          34,
          29,
          27,
          28,
          29,
          32,
          29,
          30,
          35,
          27,
          30,
          31,
          32,
          28,
          31,
          29,
          37,
          28,
          34,
          33,
          28,
          20,
          20,
          23,
          21,
          20,
          18,
          20,
          20,
          18,
          20,
          19,
          24,
          21,
          23,
          19,
          22,
          22,
          21,
          23,
          21,
          20,
          19,
          23,
          20,
          7,
          9,
          29,
          32,
          30,
          28,
          34,
          29,
          31,
          6,
          18,
          14,
          16,
          22,
          21,
          23,
          26,
          14,
          21,
          22,
          20,
          38,
          21,
          21,
          6,
          22,
          29,
          32,
          34,
          28,
          31,
          35,
          29,
          29,
          30,
          28,
          32,
          31,
          33,
          32,
          32,
          28,
          36,
          32,
          19,
          18,
          19,
          25,
          15,
          24,
          34,
          28,
          27,
          29,
          29,
          34,
          29,
          30,
          27,
          17,
          18,
          13,
          21,
          8,
          20,
          21,
          15,
          8,
          17,
          15,
          24,
          26,
          14,
          7,
          10,
          12,
          8,
          6,
          5,
          11,
          7,
          11,
          5,
          6,
          9,
          8,
          10,
          5,
          6,
          4,
          7,
          5,
          7,
          7,
          6,
          7,
          6,
          0,
          7,
          6,
          7,
          5,
          8,
          6,
          7,
          29,
          34,
          32,
          29,
          28,
          31
         ],
         "xaxis": "x",
         "y": [
          12,
          10,
          12,
          10,
          11,
          10,
          10,
          14,
          4,
          15,
          4,
          12,
          13,
          14,
          17,
          11,
          10,
          10,
          10,
          12,
          13,
          10,
          10,
          13,
          14,
          14,
          14,
          14,
          14,
          13,
          12,
          14,
          11,
          10,
          14,
          11,
          10,
          14,
          14,
          13,
          10,
          12,
          18,
          17,
          10,
          14,
          12,
          13,
          13,
          14,
          13,
          14,
          12,
          10,
          11,
          12,
          10,
          11,
          12,
          11,
          10,
          11,
          10,
          10,
          10,
          12,
          10,
          11,
          16,
          1,
          3,
          20,
          21,
          15,
          10,
          10,
          10,
          12,
          16,
          18,
          19,
          17,
          10,
          14,
          11,
          14,
          13,
          12,
          10,
          12,
          15,
          10,
          11,
          10,
          10,
          5,
          8,
          6,
          5,
          14,
          12,
          13,
          14,
          13,
          14,
          13,
          15,
          14,
          12,
          10,
          11,
          12,
          10,
          11,
          12,
          11,
          10,
          11,
          10,
          10,
          10,
          12,
          13,
          10,
          10,
          7,
          13,
          14,
          14,
          14,
          14,
          7,
          14,
          14,
          11,
          10,
          13,
          12,
          14,
          11,
          10,
          14,
          11,
          10,
          5,
          8,
          6,
          5,
          6,
          6,
          14,
          11,
          14,
          13,
          12,
          10,
          13,
          10,
          10,
          13,
          14,
          14,
          14,
          14,
          14,
          13,
          10,
          11,
          10,
          10,
          14,
          12,
          13,
          12,
          14,
          11,
          12,
          7,
          6,
          7,
          10,
          14,
          11,
          14,
          13,
          14,
          13,
          14,
          13,
          14,
          12,
          10,
          11,
          5,
          5,
          7,
          5,
          12,
          10,
          11,
          6,
          7,
          7,
          6,
          6,
          7,
          9,
          9,
          10,
          12,
          14,
          14,
          14,
          13,
          12,
          14,
          11,
          6,
          5,
          10,
          14,
          11,
          10,
          7,
          6,
          8,
          7,
          14,
          11,
          14,
          6,
          7,
          9,
          5,
          5,
          8,
          13,
          12,
          10,
          12,
          10,
          11,
          10,
          10,
          14,
          12,
          13,
          7,
          7,
          14,
          13,
          14,
          12,
          10,
          11,
          12,
          10,
          11,
          12,
          11,
          10,
          9,
          7,
          7,
          8,
          6,
          7,
          6,
          7,
          6,
          5,
          11,
          10,
          11,
          10,
          10,
          9,
          7,
          5,
          8,
          9,
          7,
          6,
          8,
          10,
          6,
          6,
          8,
          5,
          6,
          8,
          7,
          6,
          7,
          7,
          6,
          5,
          7,
          7,
          6,
          6,
          8,
          8,
          16,
          15,
          15,
          15,
          17,
          15,
          11,
          13,
          12,
          13,
          10,
          10,
          13,
          14,
          14,
          14,
          14,
          14,
          13,
          12,
          14,
          11,
          10,
          14,
          11,
          10,
          14,
          13,
          10,
          12,
          10,
          11,
          10,
          14,
          11,
          7,
          8,
          5,
          13,
          10,
          10,
          13,
          13,
          14,
          12,
          14,
          14,
          6,
          5,
          6,
          6,
          7,
          7,
          6,
          5,
          7,
          7,
          6,
          6,
          5,
          5,
          11,
          10,
          10,
          10,
          15,
          12,
          13,
          8,
          8,
          8,
          7,
          6,
          8,
          7,
          10,
          7,
          9,
          5,
          5,
          18,
          8,
          6,
          6,
          5,
          14,
          12,
          13,
          14,
          13,
          14,
          13,
          14,
          12,
          10,
          11,
          10,
          12,
          10,
          11,
          12,
          11,
          10,
          6,
          7,
          7,
          6,
          6,
          8,
          10,
          10,
          13,
          14,
          14,
          14,
          14,
          14,
          13,
          7,
          6,
          7,
          5,
          8,
          5,
          5,
          8,
          8,
          6,
          7,
          7,
          6,
          6,
          8,
          7,
          6,
          6,
          7,
          9,
          6,
          7,
          7,
          6,
          7,
          9,
          6,
          5,
          6,
          7,
          7,
          9,
          8,
          6,
          5,
          6,
          5,
          5,
          5,
          6,
          7,
          5,
          7,
          6,
          5,
          8,
          12,
          14,
          11,
          10,
          14,
          11
         ],
         "yaxis": "y"
        },
        {
         "hovertemplate": "Marital status=single<br>Stress Score=%{x}<br>Anxiety Score=%{y}<extra></extra>",
         "legendgroup": "single",
         "marker": {
          "color": "#EF553B",
          "symbol": "circle"
         },
         "mode": "markers",
         "name": "single",
         "orientation": "v",
         "showlegend": true,
         "type": "scatter",
         "x": [
          6,
          7,
          23,
          21,
          21,
          21,
          6,
          8,
          22,
          20,
          4,
          4,
          5,
          6,
          5,
          7,
          7,
          6,
          6,
          6,
          7,
          6,
          2,
          5,
          6,
          26,
          7,
          6,
          7,
          6,
          5,
          4,
          5,
          10,
          7,
          5,
          5,
          8,
          6,
          12,
          7,
          4,
          4,
          4,
          8,
          3,
          8,
          3,
          8,
          7,
          4,
          6,
          4,
          4,
          4,
          6,
          7,
          7,
          6,
          6,
          5,
          7,
          5,
          7,
          6,
          6
         ],
         "xaxis": "x",
         "y": [
          3,
          4,
          11,
          12,
          10,
          11,
          3,
          4,
          10,
          14,
          3,
          4,
          0,
          4,
          2,
          4,
          5,
          8,
          7,
          3,
          2,
          6,
          6,
          7,
          6,
          12,
          7,
          5,
          3,
          4,
          4,
          6,
          7,
          9,
          5,
          5,
          6,
          7,
          5,
          6,
          5,
          4,
          3,
          3,
          4,
          5,
          8,
          6,
          6,
          7,
          6,
          7,
          7,
          6,
          7,
          9,
          5,
          5,
          8,
          6,
          5,
          3,
          3,
          4,
          4,
          4
         ],
         "yaxis": "y"
        }
       ],
       "layout": {
        "legend": {
         "title": {
          "text": "Marital status"
         },
         "tracegroupgap": 0
        },
        "template": {
         "data": {
          "bar": [
           {
            "error_x": {
             "color": "#2a3f5f"
            },
            "error_y": {
             "color": "#2a3f5f"
            },
            "marker": {
             "line": {
              "color": "#E5ECF6",
              "width": 0.5
             }
            },
            "type": "bar"
           }
          ],
          "barpolar": [
           {
            "marker": {
             "line": {
              "color": "#E5ECF6",
              "width": 0.5
             }
            },
            "type": "barpolar"
           }
          ],
          "carpet": [
           {
            "aaxis": {
             "endlinecolor": "#2a3f5f",
             "gridcolor": "white",
             "linecolor": "white",
             "minorgridcolor": "white",
             "startlinecolor": "#2a3f5f"
            },
            "baxis": {
             "endlinecolor": "#2a3f5f",
             "gridcolor": "white",
             "linecolor": "white",
             "minorgridcolor": "white",
             "startlinecolor": "#2a3f5f"
            },
            "type": "carpet"
           }
          ],
          "choropleth": [
           {
            "colorbar": {
             "outlinewidth": 0,
             "ticks": ""
            },
            "type": "choropleth"
           }
          ],
          "contour": [
           {
            "colorbar": {
             "outlinewidth": 0,
             "ticks": ""
            },
            "colorscale": [
             [
              0,
              "#0d0887"
             ],
             [
              0.1111111111111111,
              "#46039f"
             ],
             [
              0.2222222222222222,
              "#7201a8"
             ],
             [
              0.3333333333333333,
              "#9c179e"
             ],
             [
              0.4444444444444444,
              "#bd3786"
             ],
             [
              0.5555555555555556,
              "#d8576b"
             ],
             [
              0.6666666666666666,
              "#ed7953"
             ],
             [
              0.7777777777777778,
              "#fb9f3a"
             ],
             [
              0.8888888888888888,
              "#fdca26"
             ],
             [
              1,
              "#f0f921"
             ]
            ],
            "type": "contour"
           }
          ],
          "contourcarpet": [
           {
            "colorbar": {
             "outlinewidth": 0,
             "ticks": ""
            },
            "type": "contourcarpet"
           }
          ],
          "heatmap": [
           {
            "colorbar": {
             "outlinewidth": 0,
             "ticks": ""
            },
            "colorscale": [
             [
              0,
              "#0d0887"
             ],
             [
              0.1111111111111111,
              "#46039f"
             ],
             [
              0.2222222222222222,
              "#7201a8"
             ],
             [
              0.3333333333333333,
              "#9c179e"
             ],
             [
              0.4444444444444444,
              "#bd3786"
             ],
             [
              0.5555555555555556,
              "#d8576b"
             ],
             [
              0.6666666666666666,
              "#ed7953"
             ],
             [
              0.7777777777777778,
              "#fb9f3a"
             ],
             [
              0.8888888888888888,
              "#fdca26"
             ],
             [
              1,
              "#f0f921"
             ]
            ],
            "type": "heatmap"
           }
          ],
          "heatmapgl": [
           {
            "colorbar": {
             "outlinewidth": 0,
             "ticks": ""
            },
            "colorscale": [
             [
              0,
              "#0d0887"
             ],
             [
              0.1111111111111111,
              "#46039f"
             ],
             [
              0.2222222222222222,
              "#7201a8"
             ],
             [
              0.3333333333333333,
              "#9c179e"
             ],
             [
              0.4444444444444444,
              "#bd3786"
             ],
             [
              0.5555555555555556,
              "#d8576b"
             ],
             [
              0.6666666666666666,
              "#ed7953"
             ],
             [
              0.7777777777777778,
              "#fb9f3a"
             ],
             [
              0.8888888888888888,
              "#fdca26"
             ],
             [
              1,
              "#f0f921"
             ]
            ],
            "type": "heatmapgl"
           }
          ],
          "histogram": [
           {
            "marker": {
             "colorbar": {
              "outlinewidth": 0,
              "ticks": ""
             }
            },
            "type": "histogram"
           }
          ],
          "histogram2d": [
           {
            "colorbar": {
             "outlinewidth": 0,
             "ticks": ""
            },
            "colorscale": [
             [
              0,
              "#0d0887"
             ],
             [
              0.1111111111111111,
              "#46039f"
             ],
             [
              0.2222222222222222,
              "#7201a8"
             ],
             [
              0.3333333333333333,
              "#9c179e"
             ],
             [
              0.4444444444444444,
              "#bd3786"
             ],
             [
              0.5555555555555556,
              "#d8576b"
             ],
             [
              0.6666666666666666,
              "#ed7953"
             ],
             [
              0.7777777777777778,
              "#fb9f3a"
             ],
             [
              0.8888888888888888,
              "#fdca26"
             ],
             [
              1,
              "#f0f921"
             ]
            ],
            "type": "histogram2d"
           }
          ],
          "histogram2dcontour": [
           {
            "colorbar": {
             "outlinewidth": 0,
             "ticks": ""
            },
            "colorscale": [
             [
              0,
              "#0d0887"
             ],
             [
              0.1111111111111111,
              "#46039f"
             ],
             [
              0.2222222222222222,
              "#7201a8"
             ],
             [
              0.3333333333333333,
              "#9c179e"
             ],
             [
              0.4444444444444444,
              "#bd3786"
             ],
             [
              0.5555555555555556,
              "#d8576b"
             ],
             [
              0.6666666666666666,
              "#ed7953"
             ],
             [
              0.7777777777777778,
              "#fb9f3a"
             ],
             [
              0.8888888888888888,
              "#fdca26"
             ],
             [
              1,
              "#f0f921"
             ]
            ],
            "type": "histogram2dcontour"
           }
          ],
          "mesh3d": [
           {
            "colorbar": {
             "outlinewidth": 0,
             "ticks": ""
            },
            "type": "mesh3d"
           }
          ],
          "parcoords": [
           {
            "line": {
             "colorbar": {
              "outlinewidth": 0,
              "ticks": ""
             }
            },
            "type": "parcoords"
           }
          ],
          "pie": [
           {
            "automargin": true,
            "type": "pie"
           }
          ],
          "scatter": [
           {
            "marker": {
             "colorbar": {
              "outlinewidth": 0,
              "ticks": ""
             }
            },
            "type": "scatter"
           }
          ],
          "scatter3d": [
           {
            "line": {
             "colorbar": {
              "outlinewidth": 0,
              "ticks": ""
             }
            },
            "marker": {
             "colorbar": {
              "outlinewidth": 0,
              "ticks": ""
             }
            },
            "type": "scatter3d"
           }
          ],
          "scattercarpet": [
           {
            "marker": {
             "colorbar": {
              "outlinewidth": 0,
              "ticks": ""
             }
            },
            "type": "scattercarpet"
           }
          ],
          "scattergeo": [
           {
            "marker": {
             "colorbar": {
              "outlinewidth": 0,
              "ticks": ""
             }
            },
            "type": "scattergeo"
           }
          ],
          "scattergl": [
           {
            "marker": {
             "colorbar": {
              "outlinewidth": 0,
              "ticks": ""
             }
            },
            "type": "scattergl"
           }
          ],
          "scattermapbox": [
           {
            "marker": {
             "colorbar": {
              "outlinewidth": 0,
              "ticks": ""
             }
            },
            "type": "scattermapbox"
           }
          ],
          "scatterpolar": [
           {
            "marker": {
             "colorbar": {
              "outlinewidth": 0,
              "ticks": ""
             }
            },
            "type": "scatterpolar"
           }
          ],
          "scatterpolargl": [
           {
            "marker": {
             "colorbar": {
              "outlinewidth": 0,
              "ticks": ""
             }
            },
            "type": "scatterpolargl"
           }
          ],
          "scatterternary": [
           {
            "marker": {
             "colorbar": {
              "outlinewidth": 0,
              "ticks": ""
             }
            },
            "type": "scatterternary"
           }
          ],
          "surface": [
           {
            "colorbar": {
             "outlinewidth": 0,
             "ticks": ""
            },
            "colorscale": [
             [
              0,
              "#0d0887"
             ],
             [
              0.1111111111111111,
              "#46039f"
             ],
             [
              0.2222222222222222,
              "#7201a8"
             ],
             [
              0.3333333333333333,
              "#9c179e"
             ],
             [
              0.4444444444444444,
              "#bd3786"
             ],
             [
              0.5555555555555556,
              "#d8576b"
             ],
             [
              0.6666666666666666,
              "#ed7953"
             ],
             [
              0.7777777777777778,
              "#fb9f3a"
             ],
             [
              0.8888888888888888,
              "#fdca26"
             ],
             [
              1,
              "#f0f921"
             ]
            ],
            "type": "surface"
           }
          ],
          "table": [
           {
            "cells": {
             "fill": {
              "color": "#EBF0F8"
             },
             "line": {
              "color": "white"
             }
            },
            "header": {
             "fill": {
              "color": "#C8D4E3"
             },
             "line": {
              "color": "white"
             }
            },
            "type": "table"
           }
          ]
         },
         "layout": {
          "annotationdefaults": {
           "arrowcolor": "#2a3f5f",
           "arrowhead": 0,
           "arrowwidth": 1
          },
          "coloraxis": {
           "colorbar": {
            "outlinewidth": 0,
            "ticks": ""
           }
          },
          "colorscale": {
           "diverging": [
            [
             0,
             "#8e0152"
            ],
            [
             0.1,
             "#c51b7d"
            ],
            [
             0.2,
             "#de77ae"
            ],
            [
             0.3,
             "#f1b6da"
            ],
            [
             0.4,
             "#fde0ef"
            ],
            [
             0.5,
             "#f7f7f7"
            ],
            [
             0.6,
             "#e6f5d0"
            ],
            [
             0.7,
             "#b8e186"
            ],
            [
             0.8,
             "#7fbc41"
            ],
            [
             0.9,
             "#4d9221"
            ],
            [
             1,
             "#276419"
            ]
           ],
           "sequential": [
            [
             0,
             "#0d0887"
            ],
            [
             0.1111111111111111,
             "#46039f"
            ],
            [
             0.2222222222222222,
             "#7201a8"
            ],
            [
             0.3333333333333333,
             "#9c179e"
            ],
            [
             0.4444444444444444,
             "#bd3786"
            ],
            [
             0.5555555555555556,
             "#d8576b"
            ],
            [
             0.6666666666666666,
             "#ed7953"
            ],
            [
             0.7777777777777778,
             "#fb9f3a"
            ],
            [
             0.8888888888888888,
             "#fdca26"
            ],
            [
             1,
             "#f0f921"
            ]
           ],
           "sequentialminus": [
            [
             0,
             "#0d0887"
            ],
            [
             0.1111111111111111,
             "#46039f"
            ],
            [
             0.2222222222222222,
             "#7201a8"
            ],
            [
             0.3333333333333333,
             "#9c179e"
            ],
            [
             0.4444444444444444,
             "#bd3786"
            ],
            [
             0.5555555555555556,
             "#d8576b"
            ],
            [
             0.6666666666666666,
             "#ed7953"
            ],
            [
             0.7777777777777778,
             "#fb9f3a"
            ],
            [
             0.8888888888888888,
             "#fdca26"
            ],
            [
             1,
             "#f0f921"
            ]
           ]
          },
          "colorway": [
           "#636efa",
           "#EF553B",
           "#00cc96",
           "#ab63fa",
           "#FFA15A",
           "#19d3f3",
           "#FF6692",
           "#B6E880",
           "#FF97FF",
           "#FECB52"
          ],
          "font": {
           "color": "#2a3f5f"
          },
          "geo": {
           "bgcolor": "white",
           "lakecolor": "white",
           "landcolor": "#E5ECF6",
           "showlakes": true,
           "showland": true,
           "subunitcolor": "white"
          },
          "hoverlabel": {
           "align": "left"
          },
          "hovermode": "closest",
          "mapbox": {
           "style": "light"
          },
          "paper_bgcolor": "white",
          "plot_bgcolor": "#E5ECF6",
          "polar": {
           "angularaxis": {
            "gridcolor": "white",
            "linecolor": "white",
            "ticks": ""
           },
           "bgcolor": "#E5ECF6",
           "radialaxis": {
            "gridcolor": "white",
            "linecolor": "white",
            "ticks": ""
           }
          },
          "scene": {
           "xaxis": {
            "backgroundcolor": "#E5ECF6",
            "gridcolor": "white",
            "gridwidth": 2,
            "linecolor": "white",
            "showbackground": true,
            "ticks": "",
            "zerolinecolor": "white"
           },
           "yaxis": {
            "backgroundcolor": "#E5ECF6",
            "gridcolor": "white",
            "gridwidth": 2,
            "linecolor": "white",
            "showbackground": true,
            "ticks": "",
            "zerolinecolor": "white"
           },
           "zaxis": {
            "backgroundcolor": "#E5ECF6",
            "gridcolor": "white",
            "gridwidth": 2,
            "linecolor": "white",
            "showbackground": true,
            "ticks": "",
            "zerolinecolor": "white"
           }
          },
          "shapedefaults": {
           "line": {
            "color": "#2a3f5f"
           }
          },
          "ternary": {
           "aaxis": {
            "gridcolor": "white",
            "linecolor": "white",
            "ticks": ""
           },
           "baxis": {
            "gridcolor": "white",
            "linecolor": "white",
            "ticks": ""
           },
           "bgcolor": "#E5ECF6",
           "caxis": {
            "gridcolor": "white",
            "linecolor": "white",
            "ticks": ""
           }
          },
          "title": {
           "x": 0.05
          },
          "xaxis": {
           "automargin": true,
           "gridcolor": "white",
           "linecolor": "white",
           "ticks": "",
           "title": {
            "standoff": 15
           },
           "zerolinecolor": "white",
           "zerolinewidth": 2
          },
          "yaxis": {
           "automargin": true,
           "gridcolor": "white",
           "linecolor": "white",
           "ticks": "",
           "title": {
            "standoff": 15
           },
           "zerolinecolor": "white",
           "zerolinewidth": 2
          }
         }
        },
        "title": {
         "text": "Stress vs Anxiety(Marital Status)"
        },
        "xaxis": {
         "anchor": "y",
         "domain": [
          0,
          1
         ],
         "title": {
          "text": "Stress Score"
         }
        },
        "yaxis": {
         "anchor": "x",
         "domain": [
          0,
          1
         ],
         "title": {
          "text": "Anxiety Score"
         }
        }
       }
      },
      "text/html": [
       "<div>\n",
       "        \n",
       "        \n",
       "            <div id=\"3ff35a0a-43bb-4699-a868-5a12b10f2aed\" class=\"plotly-graph-div\" style=\"height:525px; width:100%;\"></div>\n",
       "            <script type=\"text/javascript\">\n",
       "                require([\"plotly\"], function(Plotly) {\n",
       "                    window.PLOTLYENV=window.PLOTLYENV || {};\n",
       "                    \n",
       "                if (document.getElementById(\"3ff35a0a-43bb-4699-a868-5a12b10f2aed\")) {\n",
       "                    Plotly.newPlot(\n",
       "                        '3ff35a0a-43bb-4699-a868-5a12b10f2aed',\n",
       "                        [{\"hovertemplate\": \"Marital status=married<br>Stress Score=%{x}<br>Anxiety Score=%{y}<extra></extra>\", \"legendgroup\": \"married\", \"marker\": {\"color\": \"#636efa\", \"symbol\": \"circle\"}, \"mode\": \"markers\", \"name\": \"married\", \"orientation\": \"v\", \"showlegend\": true, \"type\": \"scatter\", \"x\": [21, 20, 18, 20, 19, 24, 20, 26, 7, 32, 6, 25, 18, 20, 27, 26, 21, 21, 20, 20, 23, 21, 23, 19, 22, 22, 21, 23, 21, 20, 19, 23, 20, 18, 14, 16, 22, 21, 26, 14, 22, 20, 30, 29, 19, 18, 19, 21, 19, 19, 20, 20, 23, 18, 19, 24, 15, 17, 14, 22, 16, 17, 16, 14, 16, 19, 26, 23, 30, 5, 7, 29, 32, 29, 25, 26, 23, 18, 28, 27, 29, 27, 35, 29, 27, 34, 31, 29, 27, 31, 32, 28, 33, 28, 30, 21, 20, 18, 20, 29, 30, 32, 28, 29, 27, 28, 28, 29, 31, 30, 29, 28, 29, 28, 26, 14, 21, 22, 20, 21, 21, 22, 19, 18, 19, 5, 21, 20, 19, 19, 20, 13, 20, 19, 20, 21, 23, 18, 19, 24, 15, 17, 14, 22, 6, 8, 7, 7, 4, 11, 16, 17, 16, 14, 16, 19, 24, 25, 19, 23, 24, 26, 24, 23, 24, 26, 23, 25, 26, 23, 18, 24, 25, 25, 15, 24, 17, 21, 19, 22, 17, 19, 22, 19, 18, 19, 23, 24, 26, 24, 23, 24, 26, 18, 21, 20, 18, 25, 15, 24, 20, 18, 20, 19, 24, 18, 14, 19, 19, 18, 20, 26, 25, 18, 20, 19, 26, 14, 16, 23, 25, 26, 23, 5, 0, 8, 6, 18, 24, 25, 19, 20, 21, 19, 22, 19, 19, 26, 25, 15, 24, 17, 19, 20, 21, 19, 22, 19, 22, 19, 18, 21, 34, 19, 24, 20, 26, 25, 18, 20, 19, 19, 26, 23, 25, 26, 23, 5, 18, 24, 25, 19, 20, 21, 19, 22, 19, 26, 25, 15, 24, 17, 19, 20, 21, 19, 20, 20, 18, 19, 20, 26, 25, 24, 20, 26, 25, 18, 20, 19, 26, 21, 21, 37, 27, 28, 39, 40, 34, 27, 36, 35, 27, 30, 31, 29, 33, 34, 29, 27, 28, 29, 32, 29, 30, 35, 27, 30, 31, 32, 28, 31, 29, 37, 28, 34, 33, 28, 20, 20, 23, 21, 20, 18, 20, 20, 18, 20, 19, 24, 21, 23, 19, 22, 22, 21, 23, 21, 20, 19, 23, 20, 7, 9, 29, 32, 30, 28, 34, 29, 31, 6, 18, 14, 16, 22, 21, 23, 26, 14, 21, 22, 20, 38, 21, 21, 6, 22, 29, 32, 34, 28, 31, 35, 29, 29, 30, 28, 32, 31, 33, 32, 32, 28, 36, 32, 19, 18, 19, 25, 15, 24, 34, 28, 27, 29, 29, 34, 29, 30, 27, 17, 18, 13, 21, 8, 20, 21, 15, 8, 17, 15, 24, 26, 14, 7, 10, 12, 8, 6, 5, 11, 7, 11, 5, 6, 9, 8, 10, 5, 6, 4, 7, 5, 7, 7, 6, 7, 6, 0, 7, 6, 7, 5, 8, 6, 7, 29, 34, 32, 29, 28, 31], \"xaxis\": \"x\", \"y\": [12, 10, 12, 10, 11, 10, 10, 14, 4, 15, 4, 12, 13, 14, 17, 11, 10, 10, 10, 12, 13, 10, 10, 13, 14, 14, 14, 14, 14, 13, 12, 14, 11, 10, 14, 11, 10, 14, 14, 13, 10, 12, 18, 17, 10, 14, 12, 13, 13, 14, 13, 14, 12, 10, 11, 12, 10, 11, 12, 11, 10, 11, 10, 10, 10, 12, 10, 11, 16, 1, 3, 20, 21, 15, 10, 10, 10, 12, 16, 18, 19, 17, 10, 14, 11, 14, 13, 12, 10, 12, 15, 10, 11, 10, 10, 5, 8, 6, 5, 14, 12, 13, 14, 13, 14, 13, 15, 14, 12, 10, 11, 12, 10, 11, 12, 11, 10, 11, 10, 10, 10, 12, 13, 10, 10, 7, 13, 14, 14, 14, 14, 7, 14, 14, 11, 10, 13, 12, 14, 11, 10, 14, 11, 10, 5, 8, 6, 5, 6, 6, 14, 11, 14, 13, 12, 10, 13, 10, 10, 13, 14, 14, 14, 14, 14, 13, 10, 11, 10, 10, 14, 12, 13, 12, 14, 11, 12, 7, 6, 7, 10, 14, 11, 14, 13, 14, 13, 14, 13, 14, 12, 10, 11, 5, 5, 7, 5, 12, 10, 11, 6, 7, 7, 6, 6, 7, 9, 9, 10, 12, 14, 14, 14, 13, 12, 14, 11, 6, 5, 10, 14, 11, 10, 7, 6, 8, 7, 14, 11, 14, 6, 7, 9, 5, 5, 8, 13, 12, 10, 12, 10, 11, 10, 10, 14, 12, 13, 7, 7, 14, 13, 14, 12, 10, 11, 12, 10, 11, 12, 11, 10, 9, 7, 7, 8, 6, 7, 6, 7, 6, 5, 11, 10, 11, 10, 10, 9, 7, 5, 8, 9, 7, 6, 8, 10, 6, 6, 8, 5, 6, 8, 7, 6, 7, 7, 6, 5, 7, 7, 6, 6, 8, 8, 16, 15, 15, 15, 17, 15, 11, 13, 12, 13, 10, 10, 13, 14, 14, 14, 14, 14, 13, 12, 14, 11, 10, 14, 11, 10, 14, 13, 10, 12, 10, 11, 10, 14, 11, 7, 8, 5, 13, 10, 10, 13, 13, 14, 12, 14, 14, 6, 5, 6, 6, 7, 7, 6, 5, 7, 7, 6, 6, 5, 5, 11, 10, 10, 10, 15, 12, 13, 8, 8, 8, 7, 6, 8, 7, 10, 7, 9, 5, 5, 18, 8, 6, 6, 5, 14, 12, 13, 14, 13, 14, 13, 14, 12, 10, 11, 10, 12, 10, 11, 12, 11, 10, 6, 7, 7, 6, 6, 8, 10, 10, 13, 14, 14, 14, 14, 14, 13, 7, 6, 7, 5, 8, 5, 5, 8, 8, 6, 7, 7, 6, 6, 8, 7, 6, 6, 7, 9, 6, 7, 7, 6, 7, 9, 6, 5, 6, 7, 7, 9, 8, 6, 5, 6, 5, 5, 5, 6, 7, 5, 7, 6, 5, 8, 12, 14, 11, 10, 14, 11], \"yaxis\": \"y\"}, {\"hovertemplate\": \"Marital status=single<br>Stress Score=%{x}<br>Anxiety Score=%{y}<extra></extra>\", \"legendgroup\": \"single\", \"marker\": {\"color\": \"#EF553B\", \"symbol\": \"circle\"}, \"mode\": \"markers\", \"name\": \"single\", \"orientation\": \"v\", \"showlegend\": true, \"type\": \"scatter\", \"x\": [6, 7, 23, 21, 21, 21, 6, 8, 22, 20, 4, 4, 5, 6, 5, 7, 7, 6, 6, 6, 7, 6, 2, 5, 6, 26, 7, 6, 7, 6, 5, 4, 5, 10, 7, 5, 5, 8, 6, 12, 7, 4, 4, 4, 8, 3, 8, 3, 8, 7, 4, 6, 4, 4, 4, 6, 7, 7, 6, 6, 5, 7, 5, 7, 6, 6], \"xaxis\": \"x\", \"y\": [3, 4, 11, 12, 10, 11, 3, 4, 10, 14, 3, 4, 0, 4, 2, 4, 5, 8, 7, 3, 2, 6, 6, 7, 6, 12, 7, 5, 3, 4, 4, 6, 7, 9, 5, 5, 6, 7, 5, 6, 5, 4, 3, 3, 4, 5, 8, 6, 6, 7, 6, 7, 7, 6, 7, 9, 5, 5, 8, 6, 5, 3, 3, 4, 4, 4], \"yaxis\": \"y\"}],\n",
       "                        {\"legend\": {\"title\": {\"text\": \"Marital status\"}, \"tracegroupgap\": 0}, \"template\": {\"data\": {\"bar\": [{\"error_x\": {\"color\": \"#2a3f5f\"}, \"error_y\": {\"color\": \"#2a3f5f\"}, \"marker\": {\"line\": {\"color\": \"#E5ECF6\", \"width\": 0.5}}, \"type\": \"bar\"}], \"barpolar\": [{\"marker\": {\"line\": {\"color\": \"#E5ECF6\", \"width\": 0.5}}, \"type\": \"barpolar\"}], \"carpet\": [{\"aaxis\": {\"endlinecolor\": \"#2a3f5f\", \"gridcolor\": \"white\", \"linecolor\": \"white\", \"minorgridcolor\": \"white\", \"startlinecolor\": \"#2a3f5f\"}, \"baxis\": {\"endlinecolor\": \"#2a3f5f\", \"gridcolor\": \"white\", \"linecolor\": \"white\", \"minorgridcolor\": \"white\", \"startlinecolor\": \"#2a3f5f\"}, \"type\": \"carpet\"}], \"choropleth\": [{\"colorbar\": {\"outlinewidth\": 0, \"ticks\": \"\"}, \"type\": \"choropleth\"}], \"contour\": [{\"colorbar\": {\"outlinewidth\": 0, \"ticks\": \"\"}, \"colorscale\": [[0.0, \"#0d0887\"], [0.1111111111111111, \"#46039f\"], [0.2222222222222222, \"#7201a8\"], [0.3333333333333333, \"#9c179e\"], [0.4444444444444444, \"#bd3786\"], [0.5555555555555556, \"#d8576b\"], [0.6666666666666666, \"#ed7953\"], [0.7777777777777778, \"#fb9f3a\"], [0.8888888888888888, \"#fdca26\"], [1.0, \"#f0f921\"]], \"type\": \"contour\"}], \"contourcarpet\": [{\"colorbar\": {\"outlinewidth\": 0, \"ticks\": \"\"}, \"type\": \"contourcarpet\"}], \"heatmap\": [{\"colorbar\": {\"outlinewidth\": 0, \"ticks\": \"\"}, \"colorscale\": [[0.0, \"#0d0887\"], [0.1111111111111111, \"#46039f\"], [0.2222222222222222, \"#7201a8\"], [0.3333333333333333, \"#9c179e\"], [0.4444444444444444, \"#bd3786\"], [0.5555555555555556, \"#d8576b\"], [0.6666666666666666, \"#ed7953\"], [0.7777777777777778, \"#fb9f3a\"], [0.8888888888888888, \"#fdca26\"], [1.0, \"#f0f921\"]], \"type\": \"heatmap\"}], \"heatmapgl\": [{\"colorbar\": {\"outlinewidth\": 0, \"ticks\": \"\"}, \"colorscale\": [[0.0, \"#0d0887\"], [0.1111111111111111, \"#46039f\"], [0.2222222222222222, \"#7201a8\"], [0.3333333333333333, \"#9c179e\"], [0.4444444444444444, \"#bd3786\"], [0.5555555555555556, \"#d8576b\"], [0.6666666666666666, \"#ed7953\"], [0.7777777777777778, \"#fb9f3a\"], [0.8888888888888888, \"#fdca26\"], [1.0, \"#f0f921\"]], \"type\": \"heatmapgl\"}], \"histogram\": [{\"marker\": {\"colorbar\": {\"outlinewidth\": 0, \"ticks\": \"\"}}, \"type\": \"histogram\"}], \"histogram2d\": [{\"colorbar\": {\"outlinewidth\": 0, \"ticks\": \"\"}, \"colorscale\": [[0.0, \"#0d0887\"], [0.1111111111111111, \"#46039f\"], [0.2222222222222222, \"#7201a8\"], [0.3333333333333333, \"#9c179e\"], [0.4444444444444444, \"#bd3786\"], [0.5555555555555556, \"#d8576b\"], [0.6666666666666666, \"#ed7953\"], [0.7777777777777778, \"#fb9f3a\"], [0.8888888888888888, \"#fdca26\"], [1.0, \"#f0f921\"]], \"type\": \"histogram2d\"}], \"histogram2dcontour\": [{\"colorbar\": {\"outlinewidth\": 0, \"ticks\": \"\"}, \"colorscale\": [[0.0, \"#0d0887\"], [0.1111111111111111, \"#46039f\"], [0.2222222222222222, \"#7201a8\"], [0.3333333333333333, \"#9c179e\"], [0.4444444444444444, \"#bd3786\"], [0.5555555555555556, \"#d8576b\"], [0.6666666666666666, \"#ed7953\"], [0.7777777777777778, \"#fb9f3a\"], [0.8888888888888888, \"#fdca26\"], [1.0, \"#f0f921\"]], \"type\": \"histogram2dcontour\"}], \"mesh3d\": [{\"colorbar\": {\"outlinewidth\": 0, \"ticks\": \"\"}, \"type\": \"mesh3d\"}], \"parcoords\": [{\"line\": {\"colorbar\": {\"outlinewidth\": 0, \"ticks\": \"\"}}, \"type\": \"parcoords\"}], \"pie\": [{\"automargin\": true, \"type\": \"pie\"}], \"scatter\": [{\"marker\": {\"colorbar\": {\"outlinewidth\": 0, \"ticks\": \"\"}}, \"type\": \"scatter\"}], \"scatter3d\": [{\"line\": {\"colorbar\": {\"outlinewidth\": 0, \"ticks\": \"\"}}, \"marker\": {\"colorbar\": {\"outlinewidth\": 0, \"ticks\": \"\"}}, \"type\": \"scatter3d\"}], \"scattercarpet\": [{\"marker\": {\"colorbar\": {\"outlinewidth\": 0, \"ticks\": \"\"}}, \"type\": \"scattercarpet\"}], \"scattergeo\": [{\"marker\": {\"colorbar\": {\"outlinewidth\": 0, \"ticks\": \"\"}}, \"type\": \"scattergeo\"}], \"scattergl\": [{\"marker\": {\"colorbar\": {\"outlinewidth\": 0, \"ticks\": \"\"}}, \"type\": \"scattergl\"}], \"scattermapbox\": [{\"marker\": {\"colorbar\": {\"outlinewidth\": 0, \"ticks\": \"\"}}, \"type\": \"scattermapbox\"}], \"scatterpolar\": [{\"marker\": {\"colorbar\": {\"outlinewidth\": 0, \"ticks\": \"\"}}, \"type\": \"scatterpolar\"}], \"scatterpolargl\": [{\"marker\": {\"colorbar\": {\"outlinewidth\": 0, \"ticks\": \"\"}}, \"type\": \"scatterpolargl\"}], \"scatterternary\": [{\"marker\": {\"colorbar\": {\"outlinewidth\": 0, \"ticks\": \"\"}}, \"type\": \"scatterternary\"}], \"surface\": [{\"colorbar\": {\"outlinewidth\": 0, \"ticks\": \"\"}, \"colorscale\": [[0.0, \"#0d0887\"], [0.1111111111111111, \"#46039f\"], [0.2222222222222222, \"#7201a8\"], [0.3333333333333333, \"#9c179e\"], [0.4444444444444444, \"#bd3786\"], [0.5555555555555556, \"#d8576b\"], [0.6666666666666666, \"#ed7953\"], [0.7777777777777778, \"#fb9f3a\"], [0.8888888888888888, \"#fdca26\"], [1.0, \"#f0f921\"]], \"type\": \"surface\"}], \"table\": [{\"cells\": {\"fill\": {\"color\": \"#EBF0F8\"}, \"line\": {\"color\": \"white\"}}, \"header\": {\"fill\": {\"color\": \"#C8D4E3\"}, \"line\": {\"color\": \"white\"}}, \"type\": \"table\"}]}, \"layout\": {\"annotationdefaults\": {\"arrowcolor\": \"#2a3f5f\", \"arrowhead\": 0, \"arrowwidth\": 1}, \"coloraxis\": {\"colorbar\": {\"outlinewidth\": 0, \"ticks\": \"\"}}, \"colorscale\": {\"diverging\": [[0, \"#8e0152\"], [0.1, \"#c51b7d\"], [0.2, \"#de77ae\"], [0.3, \"#f1b6da\"], [0.4, \"#fde0ef\"], [0.5, \"#f7f7f7\"], [0.6, \"#e6f5d0\"], [0.7, \"#b8e186\"], [0.8, \"#7fbc41\"], [0.9, \"#4d9221\"], [1, \"#276419\"]], \"sequential\": [[0.0, \"#0d0887\"], [0.1111111111111111, \"#46039f\"], [0.2222222222222222, \"#7201a8\"], [0.3333333333333333, \"#9c179e\"], [0.4444444444444444, \"#bd3786\"], [0.5555555555555556, \"#d8576b\"], [0.6666666666666666, \"#ed7953\"], [0.7777777777777778, \"#fb9f3a\"], [0.8888888888888888, \"#fdca26\"], [1.0, \"#f0f921\"]], \"sequentialminus\": [[0.0, \"#0d0887\"], [0.1111111111111111, \"#46039f\"], [0.2222222222222222, \"#7201a8\"], [0.3333333333333333, \"#9c179e\"], [0.4444444444444444, \"#bd3786\"], [0.5555555555555556, \"#d8576b\"], [0.6666666666666666, \"#ed7953\"], [0.7777777777777778, \"#fb9f3a\"], [0.8888888888888888, \"#fdca26\"], [1.0, \"#f0f921\"]]}, \"colorway\": [\"#636efa\", \"#EF553B\", \"#00cc96\", \"#ab63fa\", \"#FFA15A\", \"#19d3f3\", \"#FF6692\", \"#B6E880\", \"#FF97FF\", \"#FECB52\"], \"font\": {\"color\": \"#2a3f5f\"}, \"geo\": {\"bgcolor\": \"white\", \"lakecolor\": \"white\", \"landcolor\": \"#E5ECF6\", \"showlakes\": true, \"showland\": true, \"subunitcolor\": \"white\"}, \"hoverlabel\": {\"align\": \"left\"}, \"hovermode\": \"closest\", \"mapbox\": {\"style\": \"light\"}, \"paper_bgcolor\": \"white\", \"plot_bgcolor\": \"#E5ECF6\", \"polar\": {\"angularaxis\": {\"gridcolor\": \"white\", \"linecolor\": \"white\", \"ticks\": \"\"}, \"bgcolor\": \"#E5ECF6\", \"radialaxis\": {\"gridcolor\": \"white\", \"linecolor\": \"white\", \"ticks\": \"\"}}, \"scene\": {\"xaxis\": {\"backgroundcolor\": \"#E5ECF6\", \"gridcolor\": \"white\", \"gridwidth\": 2, \"linecolor\": \"white\", \"showbackground\": true, \"ticks\": \"\", \"zerolinecolor\": \"white\"}, \"yaxis\": {\"backgroundcolor\": \"#E5ECF6\", \"gridcolor\": \"white\", \"gridwidth\": 2, \"linecolor\": \"white\", \"showbackground\": true, \"ticks\": \"\", \"zerolinecolor\": \"white\"}, \"zaxis\": {\"backgroundcolor\": \"#E5ECF6\", \"gridcolor\": \"white\", \"gridwidth\": 2, \"linecolor\": \"white\", \"showbackground\": true, \"ticks\": \"\", \"zerolinecolor\": \"white\"}}, \"shapedefaults\": {\"line\": {\"color\": \"#2a3f5f\"}}, \"ternary\": {\"aaxis\": {\"gridcolor\": \"white\", \"linecolor\": \"white\", \"ticks\": \"\"}, \"baxis\": {\"gridcolor\": \"white\", \"linecolor\": \"white\", \"ticks\": \"\"}, \"bgcolor\": \"#E5ECF6\", \"caxis\": {\"gridcolor\": \"white\", \"linecolor\": \"white\", \"ticks\": \"\"}}, \"title\": {\"x\": 0.05}, \"xaxis\": {\"automargin\": true, \"gridcolor\": \"white\", \"linecolor\": \"white\", \"ticks\": \"\", \"title\": {\"standoff\": 15}, \"zerolinecolor\": \"white\", \"zerolinewidth\": 2}, \"yaxis\": {\"automargin\": true, \"gridcolor\": \"white\", \"linecolor\": \"white\", \"ticks\": \"\", \"title\": {\"standoff\": 15}, \"zerolinecolor\": \"white\", \"zerolinewidth\": 2}}}, \"title\": {\"text\": \"Stress vs Anxiety(Marital Status)\"}, \"xaxis\": {\"anchor\": \"y\", \"domain\": [0.0, 1.0], \"title\": {\"text\": \"Stress Score\"}}, \"yaxis\": {\"anchor\": \"x\", \"domain\": [0.0, 1.0], \"title\": {\"text\": \"Anxiety Score\"}}},\n",
       "                        {\"responsive\": true}\n",
       "                    ).then(function(){\n",
       "                            \n",
       "var gd = document.getElementById('3ff35a0a-43bb-4699-a868-5a12b10f2aed');\n",
       "var x = new MutationObserver(function (mutations, observer) {{\n",
       "        var display = window.getComputedStyle(gd).display;\n",
       "        if (!display || display === 'none') {{\n",
       "            console.log([gd, 'removed!']);\n",
       "            Plotly.purge(gd);\n",
       "            observer.disconnect();\n",
       "        }}\n",
       "}});\n",
       "\n",
       "// Listen for the removal of the full notebook cells\n",
       "var notebookContainer = gd.closest('#notebook-container');\n",
       "if (notebookContainer) {{\n",
       "    x.observe(notebookContainer, {childList: true});\n",
       "}}\n",
       "\n",
       "// Listen for the clearing of the current output cell\n",
       "var outputEl = gd.closest('.output');\n",
       "if (outputEl) {{\n",
       "    x.observe(outputEl, {childList: true});\n",
       "}}\n",
       "\n",
       "                        })\n",
       "                };\n",
       "                });\n",
       "            </script>\n",
       "        </div>"
      ]
     },
     "metadata": {},
     "output_type": "display_data"
    }
   ],
   "source": [
    "fig1 = px.scatter(data, x='Stress Score', y='Anxiety Score', color='Marital status', title='Stress vs Anxiety(Marital Status)')\n",
    "fig1.show()"
   ]
  },
  {
   "cell_type": "code",
   "execution_count": 273,
   "metadata": {},
   "outputs": [
    {
     "data": {
      "application/vnd.plotly.v1+json": {
       "config": {
        "plotlyServerURL": "https://plot.ly"
       },
       "data": [
        {
         "hovertemplate": "Gender=female<br>Stress Score=%{x}<br>Anxiety Score=%{y}<br>Age=%{z}<extra></extra>",
         "legendgroup": "female",
         "marker": {
          "color": "#636efa",
          "opacity": 0.7,
          "symbol": "circle"
         },
         "mode": "markers",
         "name": "female",
         "scene": "scene",
         "showlegend": true,
         "type": "scatter3d",
         "x": [
          21,
          20,
          18,
          20,
          19,
          24,
          20,
          26,
          6,
          32,
          6,
          25,
          18,
          20,
          27,
          26,
          21,
          21,
          20,
          20,
          23,
          21,
          23,
          19,
          22,
          22,
          21,
          23,
          21,
          20,
          19,
          23,
          20,
          18,
          14,
          21,
          23,
          26,
          14,
          21,
          20,
          21,
          6,
          30,
          29,
          22,
          19,
          18,
          19,
          15,
          17,
          14,
          22,
          14,
          16,
          19,
          26,
          23,
          5,
          30,
          5,
          29,
          32,
          29,
          25,
          26,
          23,
          18,
          28,
          27,
          29,
          27,
          35,
          29,
          27,
          34,
          31,
          29,
          27,
          31,
          32,
          28,
          33,
          28,
          30,
          20,
          20,
          29,
          30,
          32,
          28,
          27,
          28,
          28,
          29,
          31,
          30,
          29,
          28,
          29,
          28,
          26,
          14,
          22,
          20,
          21,
          21,
          19,
          18,
          19,
          5,
          21,
          20,
          19,
          19,
          20,
          6,
          13,
          20,
          19,
          20,
          21,
          23,
          18,
          19,
          24,
          15,
          17,
          14,
          22,
          6,
          8,
          7,
          4,
          6,
          11,
          2,
          16,
          17,
          16,
          14,
          16,
          19,
          26,
          24,
          25,
          19,
          23,
          24,
          26,
          24,
          23,
          24,
          26,
          23,
          25,
          26,
          23,
          18,
          24,
          25,
          25,
          15,
          24,
          17,
          21,
          19,
          22,
          17,
          19,
          22,
          19,
          18,
          19,
          23,
          24,
          26,
          24,
          23,
          24,
          26,
          18,
          21,
          20,
          25,
          15,
          24,
          20,
          18,
          7,
          24,
          18,
          14,
          19,
          19,
          18,
          20,
          26,
          25,
          18,
          20,
          19,
          26,
          16,
          23,
          25,
          26,
          23,
          5,
          0,
          6,
          18,
          24,
          25,
          19,
          20,
          21,
          19,
          22,
          19,
          19,
          26,
          25,
          15,
          24,
          17,
          19,
          20,
          21,
          19,
          22,
          19,
          22,
          21,
          34,
          19,
          24,
          20,
          26,
          25,
          18,
          20,
          19,
          19,
          26,
          23,
          25,
          23,
          5,
          18,
          24,
          25,
          19,
          20,
          21,
          19,
          22,
          19,
          26,
          25,
          24,
          17,
          19,
          20,
          21,
          20,
          18,
          19,
          20,
          26,
          25,
          24,
          20,
          26,
          18,
          20,
          21,
          21,
          28,
          39,
          40,
          34,
          27,
          36,
          35,
          27,
          30,
          31,
          29,
          33,
          34,
          29,
          27,
          28,
          29,
          32,
          29,
          30,
          35,
          27,
          30,
          31,
          32,
          28,
          31,
          29,
          37,
          28,
          34,
          33,
          28,
          20,
          20,
          10,
          23,
          20,
          18,
          20,
          20,
          18,
          20,
          5,
          19,
          24,
          21,
          23,
          19,
          22,
          22,
          21,
          21,
          20,
          19,
          23,
          6,
          26,
          14,
          21,
          22,
          38,
          21,
          21,
          22,
          29,
          32,
          34,
          28,
          31,
          35,
          29,
          29,
          30,
          28,
          32,
          31,
          33,
          32,
          32,
          28,
          36,
          32,
          19,
          18,
          19,
          25,
          24,
          34,
          28,
          27,
          29,
          29,
          34,
          29,
          30,
          27,
          17,
          13,
          21,
          12,
          8,
          15,
          8,
          4,
          15,
          24,
          26,
          14,
          7,
          10,
          12,
          8,
          3,
          11,
          6,
          8,
          5,
          4,
          7,
          5,
          7,
          4,
          4,
          6,
          7,
          7,
          5,
          6,
          29,
          28,
          31
         ],
         "y": [
          12,
          10,
          12,
          10,
          11,
          10,
          10,
          14,
          3,
          15,
          4,
          12,
          13,
          14,
          17,
          11,
          10,
          10,
          10,
          12,
          13,
          10,
          10,
          13,
          14,
          14,
          14,
          14,
          14,
          13,
          12,
          14,
          11,
          10,
          14,
          14,
          11,
          14,
          13,
          12,
          12,
          10,
          3,
          18,
          17,
          10,
          10,
          14,
          12,
          10,
          11,
          12,
          11,
          10,
          10,
          12,
          10,
          11,
          0,
          16,
          1,
          20,
          21,
          15,
          10,
          10,
          10,
          12,
          16,
          18,
          19,
          17,
          10,
          14,
          11,
          14,
          13,
          12,
          10,
          12,
          15,
          10,
          11,
          10,
          10,
          8,
          5,
          14,
          12,
          13,
          14,
          14,
          13,
          15,
          14,
          12,
          10,
          11,
          12,
          10,
          11,
          12,
          11,
          11,
          10,
          10,
          10,
          13,
          10,
          10,
          7,
          13,
          14,
          14,
          14,
          14,
          7,
          7,
          14,
          14,
          11,
          10,
          13,
          12,
          14,
          11,
          10,
          14,
          11,
          10,
          5,
          8,
          5,
          6,
          3,
          6,
          6,
          14,
          11,
          14,
          13,
          12,
          10,
          12,
          13,
          10,
          10,
          13,
          14,
          14,
          14,
          14,
          14,
          13,
          10,
          11,
          10,
          10,
          14,
          12,
          13,
          12,
          14,
          11,
          12,
          7,
          6,
          7,
          10,
          14,
          11,
          14,
          13,
          14,
          13,
          14,
          13,
          14,
          12,
          10,
          11,
          5,
          5,
          7,
          12,
          10,
          11,
          6,
          7,
          3,
          6,
          7,
          9,
          9,
          10,
          12,
          14,
          14,
          14,
          13,
          12,
          14,
          11,
          5,
          10,
          14,
          11,
          10,
          7,
          6,
          7,
          14,
          11,
          14,
          6,
          7,
          9,
          5,
          5,
          8,
          13,
          12,
          10,
          12,
          10,
          11,
          10,
          10,
          14,
          12,
          13,
          7,
          7,
          14,
          12,
          10,
          11,
          12,
          10,
          11,
          12,
          11,
          10,
          9,
          7,
          7,
          8,
          7,
          6,
          7,
          6,
          5,
          11,
          10,
          11,
          10,
          10,
          9,
          7,
          5,
          9,
          7,
          6,
          8,
          10,
          8,
          5,
          6,
          8,
          7,
          6,
          7,
          7,
          6,
          7,
          7,
          8,
          8,
          15,
          15,
          17,
          15,
          11,
          13,
          12,
          13,
          10,
          10,
          13,
          14,
          14,
          14,
          14,
          14,
          13,
          12,
          14,
          11,
          10,
          14,
          11,
          10,
          14,
          13,
          10,
          12,
          10,
          11,
          10,
          14,
          11,
          7,
          8,
          9,
          5,
          10,
          10,
          13,
          13,
          14,
          12,
          5,
          14,
          14,
          6,
          5,
          6,
          6,
          7,
          7,
          5,
          7,
          7,
          6,
          5,
          10,
          7,
          9,
          5,
          18,
          8,
          6,
          5,
          14,
          12,
          13,
          14,
          13,
          14,
          13,
          14,
          12,
          10,
          11,
          10,
          12,
          10,
          11,
          12,
          11,
          10,
          6,
          7,
          7,
          6,
          8,
          10,
          10,
          13,
          14,
          14,
          14,
          14,
          14,
          13,
          7,
          7,
          5,
          6,
          8,
          8,
          8,
          3,
          7,
          7,
          6,
          6,
          8,
          7,
          6,
          6,
          6,
          7,
          7,
          6,
          6,
          6,
          9,
          8,
          5,
          7,
          7,
          9,
          5,
          3,
          3,
          4,
          10,
          14,
          11
         ],
         "z": [
          28,
          39,
          40,
          34,
          27,
          36,
          35,
          27,
          25,
          52,
          32,
          30,
          31,
          29,
          57,
          29,
          32,
          34,
          28,
          31,
          35,
          29,
          29,
          30,
          28,
          32,
          33,
          32,
          32,
          28,
          36,
          32,
          29,
          32,
          30,
          31,
          34,
          28,
          27,
          29,
          34,
          29,
          28,
          58,
          54,
          27,
          29,
          34,
          32,
          31,
          28,
          33,
          28,
          32,
          28,
          29,
          27,
          28,
          25,
          56,
          25,
          56,
          52,
          59,
          29,
          31,
          30,
          29,
          58,
          53,
          55,
          51,
          40,
          41,
          57,
          40,
          40,
          50,
          40,
          45,
          45,
          60,
          52,
          42,
          40,
          28,
          33,
          42,
          45,
          40,
          40,
          42,
          41,
          52,
          42,
          45,
          43,
          44,
          41,
          42,
          40,
          42,
          45,
          41,
          41,
          40,
          42,
          42,
          45,
          43,
          38,
          44,
          41,
          42,
          40,
          42,
          32,
          29,
          45,
          29,
          30,
          27,
          42,
          41,
          41,
          40,
          42,
          41,
          42,
          45,
          45,
          42,
          44,
          30,
          31,
          54,
          32,
          43,
          44,
          41,
          42,
          40,
          42,
          45,
          28,
          29,
          28,
          27,
          32,
          29,
          30,
          32,
          28,
          29,
          42,
          41,
          41,
          40,
          42,
          41,
          42,
          27,
          28,
          29,
          29,
          28,
          31,
          35,
          32,
          34,
          38,
          37,
          29,
          30,
          35,
          27,
          30,
          31,
          33,
          28,
          32,
          28,
          34,
          31,
          28,
          34,
          31,
          30,
          32,
          29,
          27,
          29,
          30,
          29,
          32,
          27,
          34,
          38,
          37,
          27,
          28,
          39,
          40,
          27,
          34,
          27,
          36,
          35,
          32,
          30,
          29,
          27,
          30,
          31,
          30,
          29,
          28,
          29,
          28,
          27,
          29,
          33,
          34,
          29,
          27,
          28,
          29,
          32,
          29,
          30,
          35,
          31,
          29,
          31,
          53,
          28,
          34,
          31,
          29,
          37,
          28,
          34,
          31,
          33,
          34,
          29,
          27,
          29,
          27,
          32,
          29,
          30,
          37,
          28,
          34,
          31,
          29,
          35,
          27,
          30,
          33,
          28,
          32,
          28,
          34,
          34,
          29,
          32,
          28,
          29,
          32,
          32,
          28,
          36,
          29,
          32,
          29,
          31,
          51,
          55,
          50,
          56,
          50,
          45,
          45,
          42,
          45,
          41,
          40,
          45,
          41,
          43,
          45,
          48,
          40,
          46,
          48,
          40,
          47,
          48,
          55,
          54,
          40,
          42,
          52,
          42,
          53,
          40,
          40,
          56,
          54,
          34,
          28,
          31,
          27,
          29,
          32,
          29,
          33,
          28,
          32,
          28,
          30,
          27,
          29,
          29,
          34,
          29,
          30,
          27,
          34,
          32,
          29,
          28,
          28,
          27,
          31,
          28,
          33,
          53,
          30,
          29,
          30,
          47,
          42,
          40,
          41,
          49,
          45,
          42,
          45,
          47,
          42,
          40,
          40,
          48,
          48,
          40,
          53,
          43,
          50,
          32,
          28,
          29,
          27,
          29,
          40,
          42,
          40,
          50,
          40,
          31,
          32,
          42,
          41,
          31,
          32,
          29,
          32,
          28,
          38,
          43,
          29,
          39,
          40,
          34,
          27,
          36,
          35,
          45,
          27,
          32,
          44,
          42,
          32,
          31,
          34,
          28,
          29,
          52,
          29,
          28,
          29,
          27,
          28,
          29,
          26,
          43,
          60,
          40
         ]
        },
        {
         "hovertemplate": "Gender=male<br>Stress Score=%{x}<br>Anxiety Score=%{y}<br>Age=%{z}<extra></extra>",
         "legendgroup": "male",
         "marker": {
          "color": "#EF553B",
          "opacity": 0.7,
          "symbol": "circle"
         },
         "mode": "markers",
         "name": "male",
         "scene": "scene",
         "showlegend": true,
         "type": "scatter3d",
         "x": [
          7,
          7,
          16,
          22,
          22,
          21,
          8,
          21,
          20,
          19,
          19,
          20,
          20,
          23,
          18,
          19,
          24,
          16,
          17,
          16,
          4,
          4,
          6,
          7,
          5,
          7,
          21,
          18,
          29,
          21,
          22,
          7,
          6,
          7,
          7,
          6,
          5,
          6,
          7,
          6,
          18,
          6,
          5,
          20,
          19,
          14,
          8,
          19,
          18,
          26,
          15,
          4,
          5,
          19,
          20,
          25,
          19,
          26,
          37,
          27,
          7,
          21,
          5,
          23,
          20,
          7,
          9,
          29,
          32,
          30,
          28,
          34,
          29,
          31,
          6,
          18,
          14,
          16,
          22,
          21,
          23,
          8,
          20,
          6,
          15,
          18,
          7,
          20,
          21,
          17,
          4,
          4,
          8,
          3,
          8,
          6,
          5,
          11,
          7,
          5,
          9,
          7,
          8,
          10,
          6,
          4,
          7,
          6,
          6,
          7,
          6,
          4,
          0,
          7,
          6,
          7,
          7,
          6,
          6,
          5,
          5,
          8,
          6,
          7,
          7,
          6,
          29,
          34,
          32
         ],
         "y": [
          4,
          4,
          11,
          10,
          10,
          11,
          4,
          13,
          14,
          13,
          14,
          13,
          14,
          12,
          10,
          11,
          12,
          10,
          11,
          10,
          3,
          4,
          4,
          3,
          2,
          4,
          5,
          6,
          13,
          10,
          12,
          5,
          8,
          6,
          2,
          6,
          7,
          6,
          7,
          5,
          5,
          4,
          4,
          7,
          6,
          6,
          8,
          14,
          13,
          6,
          8,
          6,
          7,
          6,
          6,
          5,
          6,
          6,
          16,
          15,
          5,
          13,
          6,
          6,
          6,
          5,
          5,
          11,
          10,
          10,
          10,
          15,
          12,
          13,
          8,
          8,
          8,
          7,
          6,
          8,
          7,
          7,
          5,
          6,
          6,
          6,
          5,
          5,
          5,
          6,
          4,
          3,
          4,
          5,
          8,
          7,
          9,
          6,
          7,
          6,
          9,
          7,
          6,
          5,
          7,
          7,
          6,
          6,
          7,
          5,
          5,
          6,
          5,
          6,
          7,
          5,
          5,
          8,
          6,
          5,
          7,
          6,
          5,
          8,
          4,
          4,
          12,
          14,
          11
         ],
         "z": [
          26,
          25,
          28,
          29,
          29,
          30,
          29,
          29,
          28,
          31,
          35,
          29,
          27,
          34,
          31,
          29,
          27,
          30,
          29,
          30,
          27,
          25,
          25,
          29,
          26,
          30,
          30,
          32,
          40,
          42,
          41,
          29,
          29,
          43,
          30,
          30,
          33,
          32,
          28,
          36,
          29,
          28,
          29,
          28,
          29,
          37,
          28,
          27,
          30,
          28,
          31,
          31,
          35,
          37,
          32,
          32,
          30,
          28,
          50,
          50,
          35,
          28,
          29,
          29,
          31,
          29,
          33,
          50,
          50,
          41,
          41,
          58,
          40,
          45,
          34,
          35,
          29,
          27,
          34,
          31,
          29,
          27,
          28,
          27,
          28,
          32,
          28,
          27,
          34,
          28,
          25,
          27,
          26,
          29,
          29,
          30,
          31,
          28,
          29,
          41,
          40,
          32,
          29,
          27,
          34,
          49,
          34,
          30,
          27,
          29,
          29,
          32,
          27,
          31,
          33,
          34,
          30,
          31,
          29,
          27,
          28,
          28,
          29,
          30,
          30,
          35,
          50,
          55,
          40
         ]
        }
       ],
       "layout": {
        "legend": {
         "title": {
          "text": "Gender"
         },
         "tracegroupgap": 0
        },
        "scene": {
         "domain": {
          "x": [
           0,
           1
          ],
          "y": [
           0,
           1
          ]
         },
         "xaxis": {
          "title": {
           "text": "Stress Score"
          }
         },
         "yaxis": {
          "title": {
           "text": "Anxiety Score"
          }
         },
         "zaxis": {
          "title": {
           "text": "Age"
          }
         }
        },
        "template": {
         "data": {
          "bar": [
           {
            "error_x": {
             "color": "#2a3f5f"
            },
            "error_y": {
             "color": "#2a3f5f"
            },
            "marker": {
             "line": {
              "color": "#E5ECF6",
              "width": 0.5
             }
            },
            "type": "bar"
           }
          ],
          "barpolar": [
           {
            "marker": {
             "line": {
              "color": "#E5ECF6",
              "width": 0.5
             }
            },
            "type": "barpolar"
           }
          ],
          "carpet": [
           {
            "aaxis": {
             "endlinecolor": "#2a3f5f",
             "gridcolor": "white",
             "linecolor": "white",
             "minorgridcolor": "white",
             "startlinecolor": "#2a3f5f"
            },
            "baxis": {
             "endlinecolor": "#2a3f5f",
             "gridcolor": "white",
             "linecolor": "white",
             "minorgridcolor": "white",
             "startlinecolor": "#2a3f5f"
            },
            "type": "carpet"
           }
          ],
          "choropleth": [
           {
            "colorbar": {
             "outlinewidth": 0,
             "ticks": ""
            },
            "type": "choropleth"
           }
          ],
          "contour": [
           {
            "colorbar": {
             "outlinewidth": 0,
             "ticks": ""
            },
            "colorscale": [
             [
              0,
              "#0d0887"
             ],
             [
              0.1111111111111111,
              "#46039f"
             ],
             [
              0.2222222222222222,
              "#7201a8"
             ],
             [
              0.3333333333333333,
              "#9c179e"
             ],
             [
              0.4444444444444444,
              "#bd3786"
             ],
             [
              0.5555555555555556,
              "#d8576b"
             ],
             [
              0.6666666666666666,
              "#ed7953"
             ],
             [
              0.7777777777777778,
              "#fb9f3a"
             ],
             [
              0.8888888888888888,
              "#fdca26"
             ],
             [
              1,
              "#f0f921"
             ]
            ],
            "type": "contour"
           }
          ],
          "contourcarpet": [
           {
            "colorbar": {
             "outlinewidth": 0,
             "ticks": ""
            },
            "type": "contourcarpet"
           }
          ],
          "heatmap": [
           {
            "colorbar": {
             "outlinewidth": 0,
             "ticks": ""
            },
            "colorscale": [
             [
              0,
              "#0d0887"
             ],
             [
              0.1111111111111111,
              "#46039f"
             ],
             [
              0.2222222222222222,
              "#7201a8"
             ],
             [
              0.3333333333333333,
              "#9c179e"
             ],
             [
              0.4444444444444444,
              "#bd3786"
             ],
             [
              0.5555555555555556,
              "#d8576b"
             ],
             [
              0.6666666666666666,
              "#ed7953"
             ],
             [
              0.7777777777777778,
              "#fb9f3a"
             ],
             [
              0.8888888888888888,
              "#fdca26"
             ],
             [
              1,
              "#f0f921"
             ]
            ],
            "type": "heatmap"
           }
          ],
          "heatmapgl": [
           {
            "colorbar": {
             "outlinewidth": 0,
             "ticks": ""
            },
            "colorscale": [
             [
              0,
              "#0d0887"
             ],
             [
              0.1111111111111111,
              "#46039f"
             ],
             [
              0.2222222222222222,
              "#7201a8"
             ],
             [
              0.3333333333333333,
              "#9c179e"
             ],
             [
              0.4444444444444444,
              "#bd3786"
             ],
             [
              0.5555555555555556,
              "#d8576b"
             ],
             [
              0.6666666666666666,
              "#ed7953"
             ],
             [
              0.7777777777777778,
              "#fb9f3a"
             ],
             [
              0.8888888888888888,
              "#fdca26"
             ],
             [
              1,
              "#f0f921"
             ]
            ],
            "type": "heatmapgl"
           }
          ],
          "histogram": [
           {
            "marker": {
             "colorbar": {
              "outlinewidth": 0,
              "ticks": ""
             }
            },
            "type": "histogram"
           }
          ],
          "histogram2d": [
           {
            "colorbar": {
             "outlinewidth": 0,
             "ticks": ""
            },
            "colorscale": [
             [
              0,
              "#0d0887"
             ],
             [
              0.1111111111111111,
              "#46039f"
             ],
             [
              0.2222222222222222,
              "#7201a8"
             ],
             [
              0.3333333333333333,
              "#9c179e"
             ],
             [
              0.4444444444444444,
              "#bd3786"
             ],
             [
              0.5555555555555556,
              "#d8576b"
             ],
             [
              0.6666666666666666,
              "#ed7953"
             ],
             [
              0.7777777777777778,
              "#fb9f3a"
             ],
             [
              0.8888888888888888,
              "#fdca26"
             ],
             [
              1,
              "#f0f921"
             ]
            ],
            "type": "histogram2d"
           }
          ],
          "histogram2dcontour": [
           {
            "colorbar": {
             "outlinewidth": 0,
             "ticks": ""
            },
            "colorscale": [
             [
              0,
              "#0d0887"
             ],
             [
              0.1111111111111111,
              "#46039f"
             ],
             [
              0.2222222222222222,
              "#7201a8"
             ],
             [
              0.3333333333333333,
              "#9c179e"
             ],
             [
              0.4444444444444444,
              "#bd3786"
             ],
             [
              0.5555555555555556,
              "#d8576b"
             ],
             [
              0.6666666666666666,
              "#ed7953"
             ],
             [
              0.7777777777777778,
              "#fb9f3a"
             ],
             [
              0.8888888888888888,
              "#fdca26"
             ],
             [
              1,
              "#f0f921"
             ]
            ],
            "type": "histogram2dcontour"
           }
          ],
          "mesh3d": [
           {
            "colorbar": {
             "outlinewidth": 0,
             "ticks": ""
            },
            "type": "mesh3d"
           }
          ],
          "parcoords": [
           {
            "line": {
             "colorbar": {
              "outlinewidth": 0,
              "ticks": ""
             }
            },
            "type": "parcoords"
           }
          ],
          "pie": [
           {
            "automargin": true,
            "type": "pie"
           }
          ],
          "scatter": [
           {
            "marker": {
             "colorbar": {
              "outlinewidth": 0,
              "ticks": ""
             }
            },
            "type": "scatter"
           }
          ],
          "scatter3d": [
           {
            "line": {
             "colorbar": {
              "outlinewidth": 0,
              "ticks": ""
             }
            },
            "marker": {
             "colorbar": {
              "outlinewidth": 0,
              "ticks": ""
             }
            },
            "type": "scatter3d"
           }
          ],
          "scattercarpet": [
           {
            "marker": {
             "colorbar": {
              "outlinewidth": 0,
              "ticks": ""
             }
            },
            "type": "scattercarpet"
           }
          ],
          "scattergeo": [
           {
            "marker": {
             "colorbar": {
              "outlinewidth": 0,
              "ticks": ""
             }
            },
            "type": "scattergeo"
           }
          ],
          "scattergl": [
           {
            "marker": {
             "colorbar": {
              "outlinewidth": 0,
              "ticks": ""
             }
            },
            "type": "scattergl"
           }
          ],
          "scattermapbox": [
           {
            "marker": {
             "colorbar": {
              "outlinewidth": 0,
              "ticks": ""
             }
            },
            "type": "scattermapbox"
           }
          ],
          "scatterpolar": [
           {
            "marker": {
             "colorbar": {
              "outlinewidth": 0,
              "ticks": ""
             }
            },
            "type": "scatterpolar"
           }
          ],
          "scatterpolargl": [
           {
            "marker": {
             "colorbar": {
              "outlinewidth": 0,
              "ticks": ""
             }
            },
            "type": "scatterpolargl"
           }
          ],
          "scatterternary": [
           {
            "marker": {
             "colorbar": {
              "outlinewidth": 0,
              "ticks": ""
             }
            },
            "type": "scatterternary"
           }
          ],
          "surface": [
           {
            "colorbar": {
             "outlinewidth": 0,
             "ticks": ""
            },
            "colorscale": [
             [
              0,
              "#0d0887"
             ],
             [
              0.1111111111111111,
              "#46039f"
             ],
             [
              0.2222222222222222,
              "#7201a8"
             ],
             [
              0.3333333333333333,
              "#9c179e"
             ],
             [
              0.4444444444444444,
              "#bd3786"
             ],
             [
              0.5555555555555556,
              "#d8576b"
             ],
             [
              0.6666666666666666,
              "#ed7953"
             ],
             [
              0.7777777777777778,
              "#fb9f3a"
             ],
             [
              0.8888888888888888,
              "#fdca26"
             ],
             [
              1,
              "#f0f921"
             ]
            ],
            "type": "surface"
           }
          ],
          "table": [
           {
            "cells": {
             "fill": {
              "color": "#EBF0F8"
             },
             "line": {
              "color": "white"
             }
            },
            "header": {
             "fill": {
              "color": "#C8D4E3"
             },
             "line": {
              "color": "white"
             }
            },
            "type": "table"
           }
          ]
         },
         "layout": {
          "annotationdefaults": {
           "arrowcolor": "#2a3f5f",
           "arrowhead": 0,
           "arrowwidth": 1
          },
          "coloraxis": {
           "colorbar": {
            "outlinewidth": 0,
            "ticks": ""
           }
          },
          "colorscale": {
           "diverging": [
            [
             0,
             "#8e0152"
            ],
            [
             0.1,
             "#c51b7d"
            ],
            [
             0.2,
             "#de77ae"
            ],
            [
             0.3,
             "#f1b6da"
            ],
            [
             0.4,
             "#fde0ef"
            ],
            [
             0.5,
             "#f7f7f7"
            ],
            [
             0.6,
             "#e6f5d0"
            ],
            [
             0.7,
             "#b8e186"
            ],
            [
             0.8,
             "#7fbc41"
            ],
            [
             0.9,
             "#4d9221"
            ],
            [
             1,
             "#276419"
            ]
           ],
           "sequential": [
            [
             0,
             "#0d0887"
            ],
            [
             0.1111111111111111,
             "#46039f"
            ],
            [
             0.2222222222222222,
             "#7201a8"
            ],
            [
             0.3333333333333333,
             "#9c179e"
            ],
            [
             0.4444444444444444,
             "#bd3786"
            ],
            [
             0.5555555555555556,
             "#d8576b"
            ],
            [
             0.6666666666666666,
             "#ed7953"
            ],
            [
             0.7777777777777778,
             "#fb9f3a"
            ],
            [
             0.8888888888888888,
             "#fdca26"
            ],
            [
             1,
             "#f0f921"
            ]
           ],
           "sequentialminus": [
            [
             0,
             "#0d0887"
            ],
            [
             0.1111111111111111,
             "#46039f"
            ],
            [
             0.2222222222222222,
             "#7201a8"
            ],
            [
             0.3333333333333333,
             "#9c179e"
            ],
            [
             0.4444444444444444,
             "#bd3786"
            ],
            [
             0.5555555555555556,
             "#d8576b"
            ],
            [
             0.6666666666666666,
             "#ed7953"
            ],
            [
             0.7777777777777778,
             "#fb9f3a"
            ],
            [
             0.8888888888888888,
             "#fdca26"
            ],
            [
             1,
             "#f0f921"
            ]
           ]
          },
          "colorway": [
           "#636efa",
           "#EF553B",
           "#00cc96",
           "#ab63fa",
           "#FFA15A",
           "#19d3f3",
           "#FF6692",
           "#B6E880",
           "#FF97FF",
           "#FECB52"
          ],
          "font": {
           "color": "#2a3f5f"
          },
          "geo": {
           "bgcolor": "white",
           "lakecolor": "white",
           "landcolor": "#E5ECF6",
           "showlakes": true,
           "showland": true,
           "subunitcolor": "white"
          },
          "hoverlabel": {
           "align": "left"
          },
          "hovermode": "closest",
          "mapbox": {
           "style": "light"
          },
          "paper_bgcolor": "white",
          "plot_bgcolor": "#E5ECF6",
          "polar": {
           "angularaxis": {
            "gridcolor": "white",
            "linecolor": "white",
            "ticks": ""
           },
           "bgcolor": "#E5ECF6",
           "radialaxis": {
            "gridcolor": "white",
            "linecolor": "white",
            "ticks": ""
           }
          },
          "scene": {
           "xaxis": {
            "backgroundcolor": "#E5ECF6",
            "gridcolor": "white",
            "gridwidth": 2,
            "linecolor": "white",
            "showbackground": true,
            "ticks": "",
            "zerolinecolor": "white"
           },
           "yaxis": {
            "backgroundcolor": "#E5ECF6",
            "gridcolor": "white",
            "gridwidth": 2,
            "linecolor": "white",
            "showbackground": true,
            "ticks": "",
            "zerolinecolor": "white"
           },
           "zaxis": {
            "backgroundcolor": "#E5ECF6",
            "gridcolor": "white",
            "gridwidth": 2,
            "linecolor": "white",
            "showbackground": true,
            "ticks": "",
            "zerolinecolor": "white"
           }
          },
          "shapedefaults": {
           "line": {
            "color": "#2a3f5f"
           }
          },
          "ternary": {
           "aaxis": {
            "gridcolor": "white",
            "linecolor": "white",
            "ticks": ""
           },
           "baxis": {
            "gridcolor": "white",
            "linecolor": "white",
            "ticks": ""
           },
           "bgcolor": "#E5ECF6",
           "caxis": {
            "gridcolor": "white",
            "linecolor": "white",
            "ticks": ""
           }
          },
          "title": {
           "x": 0.05
          },
          "xaxis": {
           "automargin": true,
           "gridcolor": "white",
           "linecolor": "white",
           "ticks": "",
           "title": {
            "standoff": 15
           },
           "zerolinecolor": "white",
           "zerolinewidth": 2
          },
          "yaxis": {
           "automargin": true,
           "gridcolor": "white",
           "linecolor": "white",
           "ticks": "",
           "title": {
            "standoff": 15
           },
           "zerolinecolor": "white",
           "zerolinewidth": 2
          }
         }
        },
        "title": {
         "text": "3-D plot(includes age)"
        }
       }
      },
      "text/html": [
       "<div>\n",
       "        \n",
       "        \n",
       "            <div id=\"01637c6d-faca-46d4-8fe0-1a88db47a830\" class=\"plotly-graph-div\" style=\"height:525px; width:100%;\"></div>\n",
       "            <script type=\"text/javascript\">\n",
       "                require([\"plotly\"], function(Plotly) {\n",
       "                    window.PLOTLYENV=window.PLOTLYENV || {};\n",
       "                    \n",
       "                if (document.getElementById(\"01637c6d-faca-46d4-8fe0-1a88db47a830\")) {\n",
       "                    Plotly.newPlot(\n",
       "                        '01637c6d-faca-46d4-8fe0-1a88db47a830',\n",
       "                        [{\"hovertemplate\": \"Gender=female<br>Stress Score=%{x}<br>Anxiety Score=%{y}<br>Age=%{z}<extra></extra>\", \"legendgroup\": \"female\", \"marker\": {\"color\": \"#636efa\", \"opacity\": 0.7, \"symbol\": \"circle\"}, \"mode\": \"markers\", \"name\": \"female\", \"scene\": \"scene\", \"showlegend\": true, \"type\": \"scatter3d\", \"x\": [21, 20, 18, 20, 19, 24, 20, 26, 6, 32, 6, 25, 18, 20, 27, 26, 21, 21, 20, 20, 23, 21, 23, 19, 22, 22, 21, 23, 21, 20, 19, 23, 20, 18, 14, 21, 23, 26, 14, 21, 20, 21, 6, 30, 29, 22, 19, 18, 19, 15, 17, 14, 22, 14, 16, 19, 26, 23, 5, 30, 5, 29, 32, 29, 25, 26, 23, 18, 28, 27, 29, 27, 35, 29, 27, 34, 31, 29, 27, 31, 32, 28, 33, 28, 30, 20, 20, 29, 30, 32, 28, 27, 28, 28, 29, 31, 30, 29, 28, 29, 28, 26, 14, 22, 20, 21, 21, 19, 18, 19, 5, 21, 20, 19, 19, 20, 6, 13, 20, 19, 20, 21, 23, 18, 19, 24, 15, 17, 14, 22, 6, 8, 7, 4, 6, 11, 2, 16, 17, 16, 14, 16, 19, 26, 24, 25, 19, 23, 24, 26, 24, 23, 24, 26, 23, 25, 26, 23, 18, 24, 25, 25, 15, 24, 17, 21, 19, 22, 17, 19, 22, 19, 18, 19, 23, 24, 26, 24, 23, 24, 26, 18, 21, 20, 25, 15, 24, 20, 18, 7, 24, 18, 14, 19, 19, 18, 20, 26, 25, 18, 20, 19, 26, 16, 23, 25, 26, 23, 5, 0, 6, 18, 24, 25, 19, 20, 21, 19, 22, 19, 19, 26, 25, 15, 24, 17, 19, 20, 21, 19, 22, 19, 22, 21, 34, 19, 24, 20, 26, 25, 18, 20, 19, 19, 26, 23, 25, 23, 5, 18, 24, 25, 19, 20, 21, 19, 22, 19, 26, 25, 24, 17, 19, 20, 21, 20, 18, 19, 20, 26, 25, 24, 20, 26, 18, 20, 21, 21, 28, 39, 40, 34, 27, 36, 35, 27, 30, 31, 29, 33, 34, 29, 27, 28, 29, 32, 29, 30, 35, 27, 30, 31, 32, 28, 31, 29, 37, 28, 34, 33, 28, 20, 20, 10, 23, 20, 18, 20, 20, 18, 20, 5, 19, 24, 21, 23, 19, 22, 22, 21, 21, 20, 19, 23, 6, 26, 14, 21, 22, 38, 21, 21, 22, 29, 32, 34, 28, 31, 35, 29, 29, 30, 28, 32, 31, 33, 32, 32, 28, 36, 32, 19, 18, 19, 25, 24, 34, 28, 27, 29, 29, 34, 29, 30, 27, 17, 13, 21, 12, 8, 15, 8, 4, 15, 24, 26, 14, 7, 10, 12, 8, 3, 11, 6, 8, 5, 4, 7, 5, 7, 4, 4, 6, 7, 7, 5, 6, 29, 28, 31], \"y\": [12, 10, 12, 10, 11, 10, 10, 14, 3, 15, 4, 12, 13, 14, 17, 11, 10, 10, 10, 12, 13, 10, 10, 13, 14, 14, 14, 14, 14, 13, 12, 14, 11, 10, 14, 14, 11, 14, 13, 12, 12, 10, 3, 18, 17, 10, 10, 14, 12, 10, 11, 12, 11, 10, 10, 12, 10, 11, 0, 16, 1, 20, 21, 15, 10, 10, 10, 12, 16, 18, 19, 17, 10, 14, 11, 14, 13, 12, 10, 12, 15, 10, 11, 10, 10, 8, 5, 14, 12, 13, 14, 14, 13, 15, 14, 12, 10, 11, 12, 10, 11, 12, 11, 11, 10, 10, 10, 13, 10, 10, 7, 13, 14, 14, 14, 14, 7, 7, 14, 14, 11, 10, 13, 12, 14, 11, 10, 14, 11, 10, 5, 8, 5, 6, 3, 6, 6, 14, 11, 14, 13, 12, 10, 12, 13, 10, 10, 13, 14, 14, 14, 14, 14, 13, 10, 11, 10, 10, 14, 12, 13, 12, 14, 11, 12, 7, 6, 7, 10, 14, 11, 14, 13, 14, 13, 14, 13, 14, 12, 10, 11, 5, 5, 7, 12, 10, 11, 6, 7, 3, 6, 7, 9, 9, 10, 12, 14, 14, 14, 13, 12, 14, 11, 5, 10, 14, 11, 10, 7, 6, 7, 14, 11, 14, 6, 7, 9, 5, 5, 8, 13, 12, 10, 12, 10, 11, 10, 10, 14, 12, 13, 7, 7, 14, 12, 10, 11, 12, 10, 11, 12, 11, 10, 9, 7, 7, 8, 7, 6, 7, 6, 5, 11, 10, 11, 10, 10, 9, 7, 5, 9, 7, 6, 8, 10, 8, 5, 6, 8, 7, 6, 7, 7, 6, 7, 7, 8, 8, 15, 15, 17, 15, 11, 13, 12, 13, 10, 10, 13, 14, 14, 14, 14, 14, 13, 12, 14, 11, 10, 14, 11, 10, 14, 13, 10, 12, 10, 11, 10, 14, 11, 7, 8, 9, 5, 10, 10, 13, 13, 14, 12, 5, 14, 14, 6, 5, 6, 6, 7, 7, 5, 7, 7, 6, 5, 10, 7, 9, 5, 18, 8, 6, 5, 14, 12, 13, 14, 13, 14, 13, 14, 12, 10, 11, 10, 12, 10, 11, 12, 11, 10, 6, 7, 7, 6, 8, 10, 10, 13, 14, 14, 14, 14, 14, 13, 7, 7, 5, 6, 8, 8, 8, 3, 7, 7, 6, 6, 8, 7, 6, 6, 6, 7, 7, 6, 6, 6, 9, 8, 5, 7, 7, 9, 5, 3, 3, 4, 10, 14, 11], \"z\": [28, 39, 40, 34, 27, 36, 35, 27, 25, 52, 32, 30, 31, 29, 57, 29, 32, 34, 28, 31, 35, 29, 29, 30, 28, 32, 33, 32, 32, 28, 36, 32, 29, 32, 30, 31, 34, 28, 27, 29, 34, 29, 28, 58, 54, 27, 29, 34, 32, 31, 28, 33, 28, 32, 28, 29, 27, 28, 25, 56, 25, 56, 52, 59, 29, 31, 30, 29, 58, 53, 55, 51, 40, 41, 57, 40, 40, 50, 40, 45, 45, 60, 52, 42, 40, 28, 33, 42, 45, 40, 40, 42, 41, 52, 42, 45, 43, 44, 41, 42, 40, 42, 45, 41, 41, 40, 42, 42, 45, 43, 38, 44, 41, 42, 40, 42, 32, 29, 45, 29, 30, 27, 42, 41, 41, 40, 42, 41, 42, 45, 45, 42, 44, 30, 31, 54, 32, 43, 44, 41, 42, 40, 42, 45, 28, 29, 28, 27, 32, 29, 30, 32, 28, 29, 42, 41, 41, 40, 42, 41, 42, 27, 28, 29, 29, 28, 31, 35, 32, 34, 38, 37, 29, 30, 35, 27, 30, 31, 33, 28, 32, 28, 34, 31, 28, 34, 31, 30, 32, 29, 27, 29, 30, 29, 32, 27, 34, 38, 37, 27, 28, 39, 40, 27, 34, 27, 36, 35, 32, 30, 29, 27, 30, 31, 30, 29, 28, 29, 28, 27, 29, 33, 34, 29, 27, 28, 29, 32, 29, 30, 35, 31, 29, 31, 53, 28, 34, 31, 29, 37, 28, 34, 31, 33, 34, 29, 27, 29, 27, 32, 29, 30, 37, 28, 34, 31, 29, 35, 27, 30, 33, 28, 32, 28, 34, 34, 29, 32, 28, 29, 32, 32, 28, 36, 29, 32, 29, 31, 51, 55, 50, 56, 50, 45, 45, 42, 45, 41, 40, 45, 41, 43, 45, 48, 40, 46, 48, 40, 47, 48, 55, 54, 40, 42, 52, 42, 53, 40, 40, 56, 54, 34, 28, 31, 27, 29, 32, 29, 33, 28, 32, 28, 30, 27, 29, 29, 34, 29, 30, 27, 34, 32, 29, 28, 28, 27, 31, 28, 33, 53, 30, 29, 30, 47, 42, 40, 41, 49, 45, 42, 45, 47, 42, 40, 40, 48, 48, 40, 53, 43, 50, 32, 28, 29, 27, 29, 40, 42, 40, 50, 40, 31, 32, 42, 41, 31, 32, 29, 32, 28, 38, 43, 29, 39, 40, 34, 27, 36, 35, 45, 27, 32, 44, 42, 32, 31, 34, 28, 29, 52, 29, 28, 29, 27, 28, 29, 26, 43, 60, 40]}, {\"hovertemplate\": \"Gender=male<br>Stress Score=%{x}<br>Anxiety Score=%{y}<br>Age=%{z}<extra></extra>\", \"legendgroup\": \"male\", \"marker\": {\"color\": \"#EF553B\", \"opacity\": 0.7, \"symbol\": \"circle\"}, \"mode\": \"markers\", \"name\": \"male\", \"scene\": \"scene\", \"showlegend\": true, \"type\": \"scatter3d\", \"x\": [7, 7, 16, 22, 22, 21, 8, 21, 20, 19, 19, 20, 20, 23, 18, 19, 24, 16, 17, 16, 4, 4, 6, 7, 5, 7, 21, 18, 29, 21, 22, 7, 6, 7, 7, 6, 5, 6, 7, 6, 18, 6, 5, 20, 19, 14, 8, 19, 18, 26, 15, 4, 5, 19, 20, 25, 19, 26, 37, 27, 7, 21, 5, 23, 20, 7, 9, 29, 32, 30, 28, 34, 29, 31, 6, 18, 14, 16, 22, 21, 23, 8, 20, 6, 15, 18, 7, 20, 21, 17, 4, 4, 8, 3, 8, 6, 5, 11, 7, 5, 9, 7, 8, 10, 6, 4, 7, 6, 6, 7, 6, 4, 0, 7, 6, 7, 7, 6, 6, 5, 5, 8, 6, 7, 7, 6, 29, 34, 32], \"y\": [4, 4, 11, 10, 10, 11, 4, 13, 14, 13, 14, 13, 14, 12, 10, 11, 12, 10, 11, 10, 3, 4, 4, 3, 2, 4, 5, 6, 13, 10, 12, 5, 8, 6, 2, 6, 7, 6, 7, 5, 5, 4, 4, 7, 6, 6, 8, 14, 13, 6, 8, 6, 7, 6, 6, 5, 6, 6, 16, 15, 5, 13, 6, 6, 6, 5, 5, 11, 10, 10, 10, 15, 12, 13, 8, 8, 8, 7, 6, 8, 7, 7, 5, 6, 6, 6, 5, 5, 5, 6, 4, 3, 4, 5, 8, 7, 9, 6, 7, 6, 9, 7, 6, 5, 7, 7, 6, 6, 7, 5, 5, 6, 5, 6, 7, 5, 5, 8, 6, 5, 7, 6, 5, 8, 4, 4, 12, 14, 11], \"z\": [26, 25, 28, 29, 29, 30, 29, 29, 28, 31, 35, 29, 27, 34, 31, 29, 27, 30, 29, 30, 27, 25, 25, 29, 26, 30, 30, 32, 40, 42, 41, 29, 29, 43, 30, 30, 33, 32, 28, 36, 29, 28, 29, 28, 29, 37, 28, 27, 30, 28, 31, 31, 35, 37, 32, 32, 30, 28, 50, 50, 35, 28, 29, 29, 31, 29, 33, 50, 50, 41, 41, 58, 40, 45, 34, 35, 29, 27, 34, 31, 29, 27, 28, 27, 28, 32, 28, 27, 34, 28, 25, 27, 26, 29, 29, 30, 31, 28, 29, 41, 40, 32, 29, 27, 34, 49, 34, 30, 27, 29, 29, 32, 27, 31, 33, 34, 30, 31, 29, 27, 28, 28, 29, 30, 30, 35, 50, 55, 40]}],\n",
       "                        {\"legend\": {\"title\": {\"text\": \"Gender\"}, \"tracegroupgap\": 0}, \"scene\": {\"domain\": {\"x\": [0.0, 1.0], \"y\": [0.0, 1.0]}, \"xaxis\": {\"title\": {\"text\": \"Stress Score\"}}, \"yaxis\": {\"title\": {\"text\": \"Anxiety Score\"}}, \"zaxis\": {\"title\": {\"text\": \"Age\"}}}, \"template\": {\"data\": {\"bar\": [{\"error_x\": {\"color\": \"#2a3f5f\"}, \"error_y\": {\"color\": \"#2a3f5f\"}, \"marker\": {\"line\": {\"color\": \"#E5ECF6\", \"width\": 0.5}}, \"type\": \"bar\"}], \"barpolar\": [{\"marker\": {\"line\": {\"color\": \"#E5ECF6\", \"width\": 0.5}}, \"type\": \"barpolar\"}], \"carpet\": [{\"aaxis\": {\"endlinecolor\": \"#2a3f5f\", \"gridcolor\": \"white\", \"linecolor\": \"white\", \"minorgridcolor\": \"white\", \"startlinecolor\": \"#2a3f5f\"}, \"baxis\": {\"endlinecolor\": \"#2a3f5f\", \"gridcolor\": \"white\", \"linecolor\": \"white\", \"minorgridcolor\": \"white\", \"startlinecolor\": \"#2a3f5f\"}, \"type\": \"carpet\"}], \"choropleth\": [{\"colorbar\": {\"outlinewidth\": 0, \"ticks\": \"\"}, \"type\": \"choropleth\"}], \"contour\": [{\"colorbar\": {\"outlinewidth\": 0, \"ticks\": \"\"}, \"colorscale\": [[0.0, \"#0d0887\"], [0.1111111111111111, \"#46039f\"], [0.2222222222222222, \"#7201a8\"], [0.3333333333333333, \"#9c179e\"], [0.4444444444444444, \"#bd3786\"], [0.5555555555555556, \"#d8576b\"], [0.6666666666666666, \"#ed7953\"], [0.7777777777777778, \"#fb9f3a\"], [0.8888888888888888, \"#fdca26\"], [1.0, \"#f0f921\"]], \"type\": \"contour\"}], \"contourcarpet\": [{\"colorbar\": {\"outlinewidth\": 0, \"ticks\": \"\"}, \"type\": \"contourcarpet\"}], \"heatmap\": [{\"colorbar\": {\"outlinewidth\": 0, \"ticks\": \"\"}, \"colorscale\": [[0.0, \"#0d0887\"], [0.1111111111111111, \"#46039f\"], [0.2222222222222222, \"#7201a8\"], [0.3333333333333333, \"#9c179e\"], [0.4444444444444444, \"#bd3786\"], [0.5555555555555556, \"#d8576b\"], [0.6666666666666666, \"#ed7953\"], [0.7777777777777778, \"#fb9f3a\"], [0.8888888888888888, \"#fdca26\"], [1.0, \"#f0f921\"]], \"type\": \"heatmap\"}], \"heatmapgl\": [{\"colorbar\": {\"outlinewidth\": 0, \"ticks\": \"\"}, \"colorscale\": [[0.0, \"#0d0887\"], [0.1111111111111111, \"#46039f\"], [0.2222222222222222, \"#7201a8\"], [0.3333333333333333, \"#9c179e\"], [0.4444444444444444, \"#bd3786\"], [0.5555555555555556, \"#d8576b\"], [0.6666666666666666, \"#ed7953\"], [0.7777777777777778, \"#fb9f3a\"], [0.8888888888888888, \"#fdca26\"], [1.0, \"#f0f921\"]], \"type\": \"heatmapgl\"}], \"histogram\": [{\"marker\": {\"colorbar\": {\"outlinewidth\": 0, \"ticks\": \"\"}}, \"type\": \"histogram\"}], \"histogram2d\": [{\"colorbar\": {\"outlinewidth\": 0, \"ticks\": \"\"}, \"colorscale\": [[0.0, \"#0d0887\"], [0.1111111111111111, \"#46039f\"], [0.2222222222222222, \"#7201a8\"], [0.3333333333333333, \"#9c179e\"], [0.4444444444444444, \"#bd3786\"], [0.5555555555555556, \"#d8576b\"], [0.6666666666666666, \"#ed7953\"], [0.7777777777777778, \"#fb9f3a\"], [0.8888888888888888, \"#fdca26\"], [1.0, \"#f0f921\"]], \"type\": \"histogram2d\"}], \"histogram2dcontour\": [{\"colorbar\": {\"outlinewidth\": 0, \"ticks\": \"\"}, \"colorscale\": [[0.0, \"#0d0887\"], [0.1111111111111111, \"#46039f\"], [0.2222222222222222, \"#7201a8\"], [0.3333333333333333, \"#9c179e\"], [0.4444444444444444, \"#bd3786\"], [0.5555555555555556, \"#d8576b\"], [0.6666666666666666, \"#ed7953\"], [0.7777777777777778, \"#fb9f3a\"], [0.8888888888888888, \"#fdca26\"], [1.0, \"#f0f921\"]], \"type\": \"histogram2dcontour\"}], \"mesh3d\": [{\"colorbar\": {\"outlinewidth\": 0, \"ticks\": \"\"}, \"type\": \"mesh3d\"}], \"parcoords\": [{\"line\": {\"colorbar\": {\"outlinewidth\": 0, \"ticks\": \"\"}}, \"type\": \"parcoords\"}], \"pie\": [{\"automargin\": true, \"type\": \"pie\"}], \"scatter\": [{\"marker\": {\"colorbar\": {\"outlinewidth\": 0, \"ticks\": \"\"}}, \"type\": \"scatter\"}], \"scatter3d\": [{\"line\": {\"colorbar\": {\"outlinewidth\": 0, \"ticks\": \"\"}}, \"marker\": {\"colorbar\": {\"outlinewidth\": 0, \"ticks\": \"\"}}, \"type\": \"scatter3d\"}], \"scattercarpet\": [{\"marker\": {\"colorbar\": {\"outlinewidth\": 0, \"ticks\": \"\"}}, \"type\": \"scattercarpet\"}], \"scattergeo\": [{\"marker\": {\"colorbar\": {\"outlinewidth\": 0, \"ticks\": \"\"}}, \"type\": \"scattergeo\"}], \"scattergl\": [{\"marker\": {\"colorbar\": {\"outlinewidth\": 0, \"ticks\": \"\"}}, \"type\": \"scattergl\"}], \"scattermapbox\": [{\"marker\": {\"colorbar\": {\"outlinewidth\": 0, \"ticks\": \"\"}}, \"type\": \"scattermapbox\"}], \"scatterpolar\": [{\"marker\": {\"colorbar\": {\"outlinewidth\": 0, \"ticks\": \"\"}}, \"type\": \"scatterpolar\"}], \"scatterpolargl\": [{\"marker\": {\"colorbar\": {\"outlinewidth\": 0, \"ticks\": \"\"}}, \"type\": \"scatterpolargl\"}], \"scatterternary\": [{\"marker\": {\"colorbar\": {\"outlinewidth\": 0, \"ticks\": \"\"}}, \"type\": \"scatterternary\"}], \"surface\": [{\"colorbar\": {\"outlinewidth\": 0, \"ticks\": \"\"}, \"colorscale\": [[0.0, \"#0d0887\"], [0.1111111111111111, \"#46039f\"], [0.2222222222222222, \"#7201a8\"], [0.3333333333333333, \"#9c179e\"], [0.4444444444444444, \"#bd3786\"], [0.5555555555555556, \"#d8576b\"], [0.6666666666666666, \"#ed7953\"], [0.7777777777777778, \"#fb9f3a\"], [0.8888888888888888, \"#fdca26\"], [1.0, \"#f0f921\"]], \"type\": \"surface\"}], \"table\": [{\"cells\": {\"fill\": {\"color\": \"#EBF0F8\"}, \"line\": {\"color\": \"white\"}}, \"header\": {\"fill\": {\"color\": \"#C8D4E3\"}, \"line\": {\"color\": \"white\"}}, \"type\": \"table\"}]}, \"layout\": {\"annotationdefaults\": {\"arrowcolor\": \"#2a3f5f\", \"arrowhead\": 0, \"arrowwidth\": 1}, \"coloraxis\": {\"colorbar\": {\"outlinewidth\": 0, \"ticks\": \"\"}}, \"colorscale\": {\"diverging\": [[0, \"#8e0152\"], [0.1, \"#c51b7d\"], [0.2, \"#de77ae\"], [0.3, \"#f1b6da\"], [0.4, \"#fde0ef\"], [0.5, \"#f7f7f7\"], [0.6, \"#e6f5d0\"], [0.7, \"#b8e186\"], [0.8, \"#7fbc41\"], [0.9, \"#4d9221\"], [1, \"#276419\"]], \"sequential\": [[0.0, \"#0d0887\"], [0.1111111111111111, \"#46039f\"], [0.2222222222222222, \"#7201a8\"], [0.3333333333333333, \"#9c179e\"], [0.4444444444444444, \"#bd3786\"], [0.5555555555555556, \"#d8576b\"], [0.6666666666666666, \"#ed7953\"], [0.7777777777777778, \"#fb9f3a\"], [0.8888888888888888, \"#fdca26\"], [1.0, \"#f0f921\"]], \"sequentialminus\": [[0.0, \"#0d0887\"], [0.1111111111111111, \"#46039f\"], [0.2222222222222222, \"#7201a8\"], [0.3333333333333333, \"#9c179e\"], [0.4444444444444444, \"#bd3786\"], [0.5555555555555556, \"#d8576b\"], [0.6666666666666666, \"#ed7953\"], [0.7777777777777778, \"#fb9f3a\"], [0.8888888888888888, \"#fdca26\"], [1.0, \"#f0f921\"]]}, \"colorway\": [\"#636efa\", \"#EF553B\", \"#00cc96\", \"#ab63fa\", \"#FFA15A\", \"#19d3f3\", \"#FF6692\", \"#B6E880\", \"#FF97FF\", \"#FECB52\"], \"font\": {\"color\": \"#2a3f5f\"}, \"geo\": {\"bgcolor\": \"white\", \"lakecolor\": \"white\", \"landcolor\": \"#E5ECF6\", \"showlakes\": true, \"showland\": true, \"subunitcolor\": \"white\"}, \"hoverlabel\": {\"align\": \"left\"}, \"hovermode\": \"closest\", \"mapbox\": {\"style\": \"light\"}, \"paper_bgcolor\": \"white\", \"plot_bgcolor\": \"#E5ECF6\", \"polar\": {\"angularaxis\": {\"gridcolor\": \"white\", \"linecolor\": \"white\", \"ticks\": \"\"}, \"bgcolor\": \"#E5ECF6\", \"radialaxis\": {\"gridcolor\": \"white\", \"linecolor\": \"white\", \"ticks\": \"\"}}, \"scene\": {\"xaxis\": {\"backgroundcolor\": \"#E5ECF6\", \"gridcolor\": \"white\", \"gridwidth\": 2, \"linecolor\": \"white\", \"showbackground\": true, \"ticks\": \"\", \"zerolinecolor\": \"white\"}, \"yaxis\": {\"backgroundcolor\": \"#E5ECF6\", \"gridcolor\": \"white\", \"gridwidth\": 2, \"linecolor\": \"white\", \"showbackground\": true, \"ticks\": \"\", \"zerolinecolor\": \"white\"}, \"zaxis\": {\"backgroundcolor\": \"#E5ECF6\", \"gridcolor\": \"white\", \"gridwidth\": 2, \"linecolor\": \"white\", \"showbackground\": true, \"ticks\": \"\", \"zerolinecolor\": \"white\"}}, \"shapedefaults\": {\"line\": {\"color\": \"#2a3f5f\"}}, \"ternary\": {\"aaxis\": {\"gridcolor\": \"white\", \"linecolor\": \"white\", \"ticks\": \"\"}, \"baxis\": {\"gridcolor\": \"white\", \"linecolor\": \"white\", \"ticks\": \"\"}, \"bgcolor\": \"#E5ECF6\", \"caxis\": {\"gridcolor\": \"white\", \"linecolor\": \"white\", \"ticks\": \"\"}}, \"title\": {\"x\": 0.05}, \"xaxis\": {\"automargin\": true, \"gridcolor\": \"white\", \"linecolor\": \"white\", \"ticks\": \"\", \"title\": {\"standoff\": 15}, \"zerolinecolor\": \"white\", \"zerolinewidth\": 2}, \"yaxis\": {\"automargin\": true, \"gridcolor\": \"white\", \"linecolor\": \"white\", \"ticks\": \"\", \"title\": {\"standoff\": 15}, \"zerolinecolor\": \"white\", \"zerolinewidth\": 2}}}, \"title\": {\"text\": \"3-D plot(includes age)\"}},\n",
       "                        {\"responsive\": true}\n",
       "                    ).then(function(){\n",
       "                            \n",
       "var gd = document.getElementById('01637c6d-faca-46d4-8fe0-1a88db47a830');\n",
       "var x = new MutationObserver(function (mutations, observer) {{\n",
       "        var display = window.getComputedStyle(gd).display;\n",
       "        if (!display || display === 'none') {{\n",
       "            console.log([gd, 'removed!']);\n",
       "            Plotly.purge(gd);\n",
       "            observer.disconnect();\n",
       "        }}\n",
       "}});\n",
       "\n",
       "// Listen for the removal of the full notebook cells\n",
       "var notebookContainer = gd.closest('#notebook-container');\n",
       "if (notebookContainer) {{\n",
       "    x.observe(notebookContainer, {childList: true});\n",
       "}}\n",
       "\n",
       "// Listen for the clearing of the current output cell\n",
       "var outputEl = gd.closest('.output');\n",
       "if (outputEl) {{\n",
       "    x.observe(outputEl, {childList: true});\n",
       "}}\n",
       "\n",
       "                        })\n",
       "                };\n",
       "                });\n",
       "            </script>\n",
       "        </div>"
      ]
     },
     "metadata": {},
     "output_type": "display_data"
    }
   ],
   "source": [
    "fig2 = px.scatter_3d(data, x='Stress Score', y='Anxiety Score', z='Age', \n",
    "                     color = 'Gender',title = '3-D plot(includes age)',opacity=0.7, size_max=20)\n",
    "fig2.show()"
   ]
  },
  {
   "cell_type": "code",
   "execution_count": 274,
   "metadata": {},
   "outputs": [
    {
     "data": {
      "application/vnd.plotly.v1+json": {
       "config": {
        "plotlyServerURL": "https://plot.ly"
       },
       "data": [
        {
         "hovertemplate": "Gender=female<br>Stress Score=%{x}<br>Anxiety Score=%{y}<br>No of children=%{z}<extra></extra>",
         "legendgroup": "female",
         "marker": {
          "color": "#636efa",
          "opacity": 0.7,
          "symbol": "circle"
         },
         "mode": "markers",
         "name": "female",
         "scene": "scene",
         "showlegend": true,
         "type": "scatter3d",
         "x": [
          21,
          20,
          18,
          20,
          19,
          24,
          20,
          26,
          6,
          32,
          6,
          25,
          18,
          20,
          27,
          26,
          21,
          21,
          20,
          20,
          23,
          21,
          23,
          19,
          22,
          22,
          21,
          23,
          21,
          20,
          19,
          23,
          20,
          18,
          14,
          21,
          23,
          26,
          14,
          21,
          20,
          21,
          6,
          30,
          29,
          22,
          19,
          18,
          19,
          15,
          17,
          14,
          22,
          14,
          16,
          19,
          26,
          23,
          5,
          30,
          5,
          29,
          32,
          29,
          25,
          26,
          23,
          18,
          28,
          27,
          29,
          27,
          35,
          29,
          27,
          34,
          31,
          29,
          27,
          31,
          32,
          28,
          33,
          28,
          30,
          20,
          20,
          29,
          30,
          32,
          28,
          27,
          28,
          28,
          29,
          31,
          30,
          29,
          28,
          29,
          28,
          26,
          14,
          22,
          20,
          21,
          21,
          19,
          18,
          19,
          5,
          21,
          20,
          19,
          19,
          20,
          6,
          13,
          20,
          19,
          20,
          21,
          23,
          18,
          19,
          24,
          15,
          17,
          14,
          22,
          6,
          8,
          7,
          4,
          6,
          11,
          2,
          16,
          17,
          16,
          14,
          16,
          19,
          26,
          24,
          25,
          19,
          23,
          24,
          26,
          24,
          23,
          24,
          26,
          23,
          25,
          26,
          23,
          18,
          24,
          25,
          25,
          15,
          24,
          17,
          21,
          19,
          22,
          17,
          19,
          22,
          19,
          18,
          19,
          23,
          24,
          26,
          24,
          23,
          24,
          26,
          18,
          21,
          20,
          25,
          15,
          24,
          20,
          18,
          7,
          24,
          18,
          14,
          19,
          19,
          18,
          20,
          26,
          25,
          18,
          20,
          19,
          26,
          16,
          23,
          25,
          26,
          23,
          5,
          0,
          6,
          18,
          24,
          25,
          19,
          20,
          21,
          19,
          22,
          19,
          19,
          26,
          25,
          15,
          24,
          17,
          19,
          20,
          21,
          19,
          22,
          19,
          22,
          21,
          34,
          19,
          24,
          20,
          26,
          25,
          18,
          20,
          19,
          19,
          26,
          23,
          25,
          23,
          5,
          18,
          24,
          25,
          19,
          20,
          21,
          19,
          22,
          19,
          26,
          25,
          24,
          17,
          19,
          20,
          21,
          20,
          18,
          19,
          20,
          26,
          25,
          24,
          20,
          26,
          18,
          20,
          21,
          21,
          28,
          39,
          40,
          34,
          27,
          36,
          35,
          27,
          30,
          31,
          29,
          33,
          34,
          29,
          27,
          28,
          29,
          32,
          29,
          30,
          35,
          27,
          30,
          31,
          32,
          28,
          31,
          29,
          37,
          28,
          34,
          33,
          28,
          20,
          20,
          10,
          23,
          20,
          18,
          20,
          20,
          18,
          20,
          5,
          19,
          24,
          21,
          23,
          19,
          22,
          22,
          21,
          21,
          20,
          19,
          23,
          6,
          26,
          14,
          21,
          22,
          38,
          21,
          21,
          22,
          29,
          32,
          34,
          28,
          31,
          35,
          29,
          29,
          30,
          28,
          32,
          31,
          33,
          32,
          32,
          28,
          36,
          32,
          19,
          18,
          19,
          25,
          24,
          34,
          28,
          27,
          29,
          29,
          34,
          29,
          30,
          27,
          17,
          13,
          21,
          12,
          8,
          15,
          8,
          4,
          15,
          24,
          26,
          14,
          7,
          10,
          12,
          8,
          3,
          11,
          6,
          8,
          5,
          4,
          7,
          5,
          7,
          4,
          4,
          6,
          7,
          7,
          5,
          6,
          29,
          28,
          31
         ],
         "y": [
          12,
          10,
          12,
          10,
          11,
          10,
          10,
          14,
          3,
          15,
          4,
          12,
          13,
          14,
          17,
          11,
          10,
          10,
          10,
          12,
          13,
          10,
          10,
          13,
          14,
          14,
          14,
          14,
          14,
          13,
          12,
          14,
          11,
          10,
          14,
          14,
          11,
          14,
          13,
          12,
          12,
          10,
          3,
          18,
          17,
          10,
          10,
          14,
          12,
          10,
          11,
          12,
          11,
          10,
          10,
          12,
          10,
          11,
          0,
          16,
          1,
          20,
          21,
          15,
          10,
          10,
          10,
          12,
          16,
          18,
          19,
          17,
          10,
          14,
          11,
          14,
          13,
          12,
          10,
          12,
          15,
          10,
          11,
          10,
          10,
          8,
          5,
          14,
          12,
          13,
          14,
          14,
          13,
          15,
          14,
          12,
          10,
          11,
          12,
          10,
          11,
          12,
          11,
          11,
          10,
          10,
          10,
          13,
          10,
          10,
          7,
          13,
          14,
          14,
          14,
          14,
          7,
          7,
          14,
          14,
          11,
          10,
          13,
          12,
          14,
          11,
          10,
          14,
          11,
          10,
          5,
          8,
          5,
          6,
          3,
          6,
          6,
          14,
          11,
          14,
          13,
          12,
          10,
          12,
          13,
          10,
          10,
          13,
          14,
          14,
          14,
          14,
          14,
          13,
          10,
          11,
          10,
          10,
          14,
          12,
          13,
          12,
          14,
          11,
          12,
          7,
          6,
          7,
          10,
          14,
          11,
          14,
          13,
          14,
          13,
          14,
          13,
          14,
          12,
          10,
          11,
          5,
          5,
          7,
          12,
          10,
          11,
          6,
          7,
          3,
          6,
          7,
          9,
          9,
          10,
          12,
          14,
          14,
          14,
          13,
          12,
          14,
          11,
          5,
          10,
          14,
          11,
          10,
          7,
          6,
          7,
          14,
          11,
          14,
          6,
          7,
          9,
          5,
          5,
          8,
          13,
          12,
          10,
          12,
          10,
          11,
          10,
          10,
          14,
          12,
          13,
          7,
          7,
          14,
          12,
          10,
          11,
          12,
          10,
          11,
          12,
          11,
          10,
          9,
          7,
          7,
          8,
          7,
          6,
          7,
          6,
          5,
          11,
          10,
          11,
          10,
          10,
          9,
          7,
          5,
          9,
          7,
          6,
          8,
          10,
          8,
          5,
          6,
          8,
          7,
          6,
          7,
          7,
          6,
          7,
          7,
          8,
          8,
          15,
          15,
          17,
          15,
          11,
          13,
          12,
          13,
          10,
          10,
          13,
          14,
          14,
          14,
          14,
          14,
          13,
          12,
          14,
          11,
          10,
          14,
          11,
          10,
          14,
          13,
          10,
          12,
          10,
          11,
          10,
          14,
          11,
          7,
          8,
          9,
          5,
          10,
          10,
          13,
          13,
          14,
          12,
          5,
          14,
          14,
          6,
          5,
          6,
          6,
          7,
          7,
          5,
          7,
          7,
          6,
          5,
          10,
          7,
          9,
          5,
          18,
          8,
          6,
          5,
          14,
          12,
          13,
          14,
          13,
          14,
          13,
          14,
          12,
          10,
          11,
          10,
          12,
          10,
          11,
          12,
          11,
          10,
          6,
          7,
          7,
          6,
          8,
          10,
          10,
          13,
          14,
          14,
          14,
          14,
          14,
          13,
          7,
          7,
          5,
          6,
          8,
          8,
          8,
          3,
          7,
          7,
          6,
          6,
          8,
          7,
          6,
          6,
          6,
          7,
          7,
          6,
          6,
          6,
          9,
          8,
          5,
          7,
          7,
          9,
          5,
          3,
          3,
          4,
          10,
          14,
          11
         ],
         "z": [
          2,
          3,
          3,
          2,
          1,
          2,
          2,
          2,
          0,
          3,
          0,
          1,
          1,
          0,
          3,
          1,
          1,
          2,
          1,
          1,
          2,
          2,
          0,
          1,
          2,
          2,
          2,
          2,
          2,
          2,
          2,
          2,
          2,
          2,
          2,
          2,
          0,
          2,
          1,
          0,
          2,
          0,
          0,
          3,
          3,
          0,
          2,
          1,
          2,
          2,
          1,
          3,
          1,
          2,
          1,
          1,
          2,
          2,
          0,
          3,
          0,
          3,
          3,
          3,
          1,
          1,
          1,
          1,
          3,
          4,
          3,
          2,
          2,
          2,
          2,
          2,
          2,
          2,
          2,
          2,
          3,
          2,
          2,
          2,
          2,
          1,
          1,
          2,
          2,
          2,
          2,
          2,
          2,
          3,
          2,
          2,
          2,
          2,
          2,
          2,
          2,
          2,
          2,
          2,
          2,
          2,
          2,
          2,
          2,
          2,
          2,
          2,
          2,
          2,
          2,
          2,
          0,
          2,
          2,
          1,
          1,
          1,
          2,
          2,
          2,
          2,
          2,
          2,
          2,
          2,
          1,
          1,
          3,
          1,
          0,
          3,
          0,
          2,
          2,
          2,
          2,
          2,
          2,
          0,
          1,
          1,
          1,
          1,
          1,
          1,
          1,
          1,
          1,
          1,
          2,
          2,
          2,
          2,
          2,
          2,
          2,
          1,
          2,
          1,
          2,
          1,
          1,
          1,
          1,
          2,
          1,
          2,
          1,
          2,
          3,
          2,
          2,
          2,
          2,
          2,
          2,
          1,
          1,
          1,
          2,
          2,
          2,
          0,
          0,
          0,
          0,
          0,
          1,
          1,
          2,
          2,
          2,
          2,
          2,
          2,
          2,
          2,
          2,
          0,
          2,
          2,
          2,
          3,
          1,
          2,
          1,
          2,
          1,
          0,
          2,
          1,
          1,
          1,
          0,
          1,
          2,
          1,
          2,
          1,
          1,
          2,
          1,
          2,
          0,
          1,
          2,
          1,
          1,
          2,
          5,
          0,
          1,
          2,
          1,
          3,
          1,
          2,
          1,
          1,
          2,
          1,
          1,
          1,
          0,
          1,
          1,
          1,
          2,
          2,
          2,
          2,
          2,
          2,
          1,
          1,
          2,
          1,
          1,
          1,
          2,
          1,
          1,
          1,
          0,
          0,
          0,
          1,
          1,
          2,
          1,
          2,
          1,
          2,
          3,
          4,
          1,
          3,
          2,
          2,
          2,
          2,
          2,
          3,
          1,
          2,
          2,
          4,
          2,
          3,
          2,
          2,
          2,
          2,
          3,
          2,
          3,
          3,
          2,
          3,
          3,
          2,
          2,
          2,
          2,
          4,
          3,
          1,
          2,
          0,
          1,
          2,
          2,
          2,
          2,
          2,
          2,
          0,
          2,
          2,
          1,
          2,
          1,
          1,
          1,
          1,
          2,
          1,
          1,
          1,
          0,
          2,
          2,
          1,
          1,
          3,
          1,
          1,
          1,
          3,
          2,
          2,
          2,
          2,
          2,
          2,
          2,
          2,
          2,
          2,
          3,
          2,
          2,
          2,
          2,
          2,
          2,
          2,
          1,
          2,
          1,
          1,
          2,
          2,
          2,
          2,
          2,
          2,
          2,
          2,
          2,
          2,
          0,
          1,
          0,
          1,
          2,
          2,
          0,
          1,
          2,
          1,
          2,
          0,
          1,
          1,
          0,
          0,
          2,
          2,
          0,
          0,
          0,
          0,
          0,
          3,
          0,
          0,
          0,
          0,
          0,
          0,
          0,
          2,
          2,
          2
         ]
        },
        {
         "hovertemplate": "Gender=male<br>Stress Score=%{x}<br>Anxiety Score=%{y}<br>No of children=%{z}<extra></extra>",
         "legendgroup": "male",
         "marker": {
          "color": "#EF553B",
          "opacity": 0.7,
          "symbol": "circle"
         },
         "mode": "markers",
         "name": "male",
         "scene": "scene",
         "showlegend": true,
         "type": "scatter3d",
         "x": [
          7,
          7,
          16,
          22,
          22,
          21,
          8,
          21,
          20,
          19,
          19,
          20,
          20,
          23,
          18,
          19,
          24,
          16,
          17,
          16,
          4,
          4,
          6,
          7,
          5,
          7,
          21,
          18,
          29,
          21,
          22,
          7,
          6,
          7,
          7,
          6,
          5,
          6,
          7,
          6,
          18,
          6,
          5,
          20,
          19,
          14,
          8,
          19,
          18,
          26,
          15,
          4,
          5,
          19,
          20,
          25,
          19,
          26,
          37,
          27,
          7,
          21,
          5,
          23,
          20,
          7,
          9,
          29,
          32,
          30,
          28,
          34,
          29,
          31,
          6,
          18,
          14,
          16,
          22,
          21,
          23,
          8,
          20,
          6,
          15,
          18,
          7,
          20,
          21,
          17,
          4,
          4,
          8,
          3,
          8,
          6,
          5,
          11,
          7,
          5,
          9,
          7,
          8,
          10,
          6,
          4,
          7,
          6,
          6,
          7,
          6,
          4,
          0,
          7,
          6,
          7,
          7,
          6,
          6,
          5,
          5,
          8,
          6,
          7,
          7,
          6,
          29,
          34,
          32
         ],
         "y": [
          4,
          4,
          11,
          10,
          10,
          11,
          4,
          13,
          14,
          13,
          14,
          13,
          14,
          12,
          10,
          11,
          12,
          10,
          11,
          10,
          3,
          4,
          4,
          3,
          2,
          4,
          5,
          6,
          13,
          10,
          12,
          5,
          8,
          6,
          2,
          6,
          7,
          6,
          7,
          5,
          5,
          4,
          4,
          7,
          6,
          6,
          8,
          14,
          13,
          6,
          8,
          6,
          7,
          6,
          6,
          5,
          6,
          6,
          16,
          15,
          5,
          13,
          6,
          6,
          6,
          5,
          5,
          11,
          10,
          10,
          10,
          15,
          12,
          13,
          8,
          8,
          8,
          7,
          6,
          8,
          7,
          7,
          5,
          6,
          6,
          6,
          5,
          5,
          5,
          6,
          4,
          3,
          4,
          5,
          8,
          7,
          9,
          6,
          7,
          6,
          9,
          7,
          6,
          5,
          7,
          7,
          6,
          6,
          7,
          5,
          5,
          6,
          5,
          6,
          7,
          5,
          5,
          8,
          6,
          5,
          7,
          6,
          5,
          8,
          4,
          4,
          12,
          14,
          11
         ],
         "z": [
          0,
          1,
          2,
          2,
          1,
          0,
          0,
          1,
          0,
          2,
          3,
          1,
          2,
          2,
          2,
          2,
          1,
          1,
          2,
          1,
          0,
          0,
          0,
          0,
          0,
          0,
          1,
          1,
          2,
          2,
          2,
          0,
          0,
          1,
          0,
          0,
          0,
          0,
          0,
          0,
          1,
          0,
          0,
          1,
          1,
          0,
          2,
          2,
          2,
          1,
          1,
          0,
          0,
          1,
          1,
          1,
          1,
          1,
          2,
          3,
          0,
          2,
          0,
          1,
          2,
          1,
          1,
          2,
          2,
          2,
          2,
          3,
          2,
          2,
          2,
          1,
          1,
          1,
          2,
          1,
          1,
          0,
          1,
          0,
          2,
          0,
          0,
          0,
          1,
          0,
          0,
          0,
          0,
          0,
          0,
          1,
          1,
          0,
          0,
          2,
          2,
          0,
          1,
          0,
          1,
          3,
          2,
          1,
          0,
          1,
          0,
          0,
          1,
          1,
          1,
          0,
          2,
          0,
          0,
          0,
          0,
          1,
          2,
          1,
          0,
          0,
          2,
          2,
          2
         ]
        }
       ],
       "layout": {
        "legend": {
         "title": {
          "text": "Gender"
         },
         "tracegroupgap": 0
        },
        "scene": {
         "domain": {
          "x": [
           0,
           1
          ],
          "y": [
           0,
           1
          ]
         },
         "xaxis": {
          "title": {
           "text": "Stress Score"
          }
         },
         "yaxis": {
          "title": {
           "text": "Anxiety Score"
          }
         },
         "zaxis": {
          "title": {
           "text": "No of children"
          }
         }
        },
        "template": {
         "data": {
          "bar": [
           {
            "error_x": {
             "color": "#2a3f5f"
            },
            "error_y": {
             "color": "#2a3f5f"
            },
            "marker": {
             "line": {
              "color": "#E5ECF6",
              "width": 0.5
             }
            },
            "type": "bar"
           }
          ],
          "barpolar": [
           {
            "marker": {
             "line": {
              "color": "#E5ECF6",
              "width": 0.5
             }
            },
            "type": "barpolar"
           }
          ],
          "carpet": [
           {
            "aaxis": {
             "endlinecolor": "#2a3f5f",
             "gridcolor": "white",
             "linecolor": "white",
             "minorgridcolor": "white",
             "startlinecolor": "#2a3f5f"
            },
            "baxis": {
             "endlinecolor": "#2a3f5f",
             "gridcolor": "white",
             "linecolor": "white",
             "minorgridcolor": "white",
             "startlinecolor": "#2a3f5f"
            },
            "type": "carpet"
           }
          ],
          "choropleth": [
           {
            "colorbar": {
             "outlinewidth": 0,
             "ticks": ""
            },
            "type": "choropleth"
           }
          ],
          "contour": [
           {
            "colorbar": {
             "outlinewidth": 0,
             "ticks": ""
            },
            "colorscale": [
             [
              0,
              "#0d0887"
             ],
             [
              0.1111111111111111,
              "#46039f"
             ],
             [
              0.2222222222222222,
              "#7201a8"
             ],
             [
              0.3333333333333333,
              "#9c179e"
             ],
             [
              0.4444444444444444,
              "#bd3786"
             ],
             [
              0.5555555555555556,
              "#d8576b"
             ],
             [
              0.6666666666666666,
              "#ed7953"
             ],
             [
              0.7777777777777778,
              "#fb9f3a"
             ],
             [
              0.8888888888888888,
              "#fdca26"
             ],
             [
              1,
              "#f0f921"
             ]
            ],
            "type": "contour"
           }
          ],
          "contourcarpet": [
           {
            "colorbar": {
             "outlinewidth": 0,
             "ticks": ""
            },
            "type": "contourcarpet"
           }
          ],
          "heatmap": [
           {
            "colorbar": {
             "outlinewidth": 0,
             "ticks": ""
            },
            "colorscale": [
             [
              0,
              "#0d0887"
             ],
             [
              0.1111111111111111,
              "#46039f"
             ],
             [
              0.2222222222222222,
              "#7201a8"
             ],
             [
              0.3333333333333333,
              "#9c179e"
             ],
             [
              0.4444444444444444,
              "#bd3786"
             ],
             [
              0.5555555555555556,
              "#d8576b"
             ],
             [
              0.6666666666666666,
              "#ed7953"
             ],
             [
              0.7777777777777778,
              "#fb9f3a"
             ],
             [
              0.8888888888888888,
              "#fdca26"
             ],
             [
              1,
              "#f0f921"
             ]
            ],
            "type": "heatmap"
           }
          ],
          "heatmapgl": [
           {
            "colorbar": {
             "outlinewidth": 0,
             "ticks": ""
            },
            "colorscale": [
             [
              0,
              "#0d0887"
             ],
             [
              0.1111111111111111,
              "#46039f"
             ],
             [
              0.2222222222222222,
              "#7201a8"
             ],
             [
              0.3333333333333333,
              "#9c179e"
             ],
             [
              0.4444444444444444,
              "#bd3786"
             ],
             [
              0.5555555555555556,
              "#d8576b"
             ],
             [
              0.6666666666666666,
              "#ed7953"
             ],
             [
              0.7777777777777778,
              "#fb9f3a"
             ],
             [
              0.8888888888888888,
              "#fdca26"
             ],
             [
              1,
              "#f0f921"
             ]
            ],
            "type": "heatmapgl"
           }
          ],
          "histogram": [
           {
            "marker": {
             "colorbar": {
              "outlinewidth": 0,
              "ticks": ""
             }
            },
            "type": "histogram"
           }
          ],
          "histogram2d": [
           {
            "colorbar": {
             "outlinewidth": 0,
             "ticks": ""
            },
            "colorscale": [
             [
              0,
              "#0d0887"
             ],
             [
              0.1111111111111111,
              "#46039f"
             ],
             [
              0.2222222222222222,
              "#7201a8"
             ],
             [
              0.3333333333333333,
              "#9c179e"
             ],
             [
              0.4444444444444444,
              "#bd3786"
             ],
             [
              0.5555555555555556,
              "#d8576b"
             ],
             [
              0.6666666666666666,
              "#ed7953"
             ],
             [
              0.7777777777777778,
              "#fb9f3a"
             ],
             [
              0.8888888888888888,
              "#fdca26"
             ],
             [
              1,
              "#f0f921"
             ]
            ],
            "type": "histogram2d"
           }
          ],
          "histogram2dcontour": [
           {
            "colorbar": {
             "outlinewidth": 0,
             "ticks": ""
            },
            "colorscale": [
             [
              0,
              "#0d0887"
             ],
             [
              0.1111111111111111,
              "#46039f"
             ],
             [
              0.2222222222222222,
              "#7201a8"
             ],
             [
              0.3333333333333333,
              "#9c179e"
             ],
             [
              0.4444444444444444,
              "#bd3786"
             ],
             [
              0.5555555555555556,
              "#d8576b"
             ],
             [
              0.6666666666666666,
              "#ed7953"
             ],
             [
              0.7777777777777778,
              "#fb9f3a"
             ],
             [
              0.8888888888888888,
              "#fdca26"
             ],
             [
              1,
              "#f0f921"
             ]
            ],
            "type": "histogram2dcontour"
           }
          ],
          "mesh3d": [
           {
            "colorbar": {
             "outlinewidth": 0,
             "ticks": ""
            },
            "type": "mesh3d"
           }
          ],
          "parcoords": [
           {
            "line": {
             "colorbar": {
              "outlinewidth": 0,
              "ticks": ""
             }
            },
            "type": "parcoords"
           }
          ],
          "pie": [
           {
            "automargin": true,
            "type": "pie"
           }
          ],
          "scatter": [
           {
            "marker": {
             "colorbar": {
              "outlinewidth": 0,
              "ticks": ""
             }
            },
            "type": "scatter"
           }
          ],
          "scatter3d": [
           {
            "line": {
             "colorbar": {
              "outlinewidth": 0,
              "ticks": ""
             }
            },
            "marker": {
             "colorbar": {
              "outlinewidth": 0,
              "ticks": ""
             }
            },
            "type": "scatter3d"
           }
          ],
          "scattercarpet": [
           {
            "marker": {
             "colorbar": {
              "outlinewidth": 0,
              "ticks": ""
             }
            },
            "type": "scattercarpet"
           }
          ],
          "scattergeo": [
           {
            "marker": {
             "colorbar": {
              "outlinewidth": 0,
              "ticks": ""
             }
            },
            "type": "scattergeo"
           }
          ],
          "scattergl": [
           {
            "marker": {
             "colorbar": {
              "outlinewidth": 0,
              "ticks": ""
             }
            },
            "type": "scattergl"
           }
          ],
          "scattermapbox": [
           {
            "marker": {
             "colorbar": {
              "outlinewidth": 0,
              "ticks": ""
             }
            },
            "type": "scattermapbox"
           }
          ],
          "scatterpolar": [
           {
            "marker": {
             "colorbar": {
              "outlinewidth": 0,
              "ticks": ""
             }
            },
            "type": "scatterpolar"
           }
          ],
          "scatterpolargl": [
           {
            "marker": {
             "colorbar": {
              "outlinewidth": 0,
              "ticks": ""
             }
            },
            "type": "scatterpolargl"
           }
          ],
          "scatterternary": [
           {
            "marker": {
             "colorbar": {
              "outlinewidth": 0,
              "ticks": ""
             }
            },
            "type": "scatterternary"
           }
          ],
          "surface": [
           {
            "colorbar": {
             "outlinewidth": 0,
             "ticks": ""
            },
            "colorscale": [
             [
              0,
              "#0d0887"
             ],
             [
              0.1111111111111111,
              "#46039f"
             ],
             [
              0.2222222222222222,
              "#7201a8"
             ],
             [
              0.3333333333333333,
              "#9c179e"
             ],
             [
              0.4444444444444444,
              "#bd3786"
             ],
             [
              0.5555555555555556,
              "#d8576b"
             ],
             [
              0.6666666666666666,
              "#ed7953"
             ],
             [
              0.7777777777777778,
              "#fb9f3a"
             ],
             [
              0.8888888888888888,
              "#fdca26"
             ],
             [
              1,
              "#f0f921"
             ]
            ],
            "type": "surface"
           }
          ],
          "table": [
           {
            "cells": {
             "fill": {
              "color": "#EBF0F8"
             },
             "line": {
              "color": "white"
             }
            },
            "header": {
             "fill": {
              "color": "#C8D4E3"
             },
             "line": {
              "color": "white"
             }
            },
            "type": "table"
           }
          ]
         },
         "layout": {
          "annotationdefaults": {
           "arrowcolor": "#2a3f5f",
           "arrowhead": 0,
           "arrowwidth": 1
          },
          "coloraxis": {
           "colorbar": {
            "outlinewidth": 0,
            "ticks": ""
           }
          },
          "colorscale": {
           "diverging": [
            [
             0,
             "#8e0152"
            ],
            [
             0.1,
             "#c51b7d"
            ],
            [
             0.2,
             "#de77ae"
            ],
            [
             0.3,
             "#f1b6da"
            ],
            [
             0.4,
             "#fde0ef"
            ],
            [
             0.5,
             "#f7f7f7"
            ],
            [
             0.6,
             "#e6f5d0"
            ],
            [
             0.7,
             "#b8e186"
            ],
            [
             0.8,
             "#7fbc41"
            ],
            [
             0.9,
             "#4d9221"
            ],
            [
             1,
             "#276419"
            ]
           ],
           "sequential": [
            [
             0,
             "#0d0887"
            ],
            [
             0.1111111111111111,
             "#46039f"
            ],
            [
             0.2222222222222222,
             "#7201a8"
            ],
            [
             0.3333333333333333,
             "#9c179e"
            ],
            [
             0.4444444444444444,
             "#bd3786"
            ],
            [
             0.5555555555555556,
             "#d8576b"
            ],
            [
             0.6666666666666666,
             "#ed7953"
            ],
            [
             0.7777777777777778,
             "#fb9f3a"
            ],
            [
             0.8888888888888888,
             "#fdca26"
            ],
            [
             1,
             "#f0f921"
            ]
           ],
           "sequentialminus": [
            [
             0,
             "#0d0887"
            ],
            [
             0.1111111111111111,
             "#46039f"
            ],
            [
             0.2222222222222222,
             "#7201a8"
            ],
            [
             0.3333333333333333,
             "#9c179e"
            ],
            [
             0.4444444444444444,
             "#bd3786"
            ],
            [
             0.5555555555555556,
             "#d8576b"
            ],
            [
             0.6666666666666666,
             "#ed7953"
            ],
            [
             0.7777777777777778,
             "#fb9f3a"
            ],
            [
             0.8888888888888888,
             "#fdca26"
            ],
            [
             1,
             "#f0f921"
            ]
           ]
          },
          "colorway": [
           "#636efa",
           "#EF553B",
           "#00cc96",
           "#ab63fa",
           "#FFA15A",
           "#19d3f3",
           "#FF6692",
           "#B6E880",
           "#FF97FF",
           "#FECB52"
          ],
          "font": {
           "color": "#2a3f5f"
          },
          "geo": {
           "bgcolor": "white",
           "lakecolor": "white",
           "landcolor": "#E5ECF6",
           "showlakes": true,
           "showland": true,
           "subunitcolor": "white"
          },
          "hoverlabel": {
           "align": "left"
          },
          "hovermode": "closest",
          "mapbox": {
           "style": "light"
          },
          "paper_bgcolor": "white",
          "plot_bgcolor": "#E5ECF6",
          "polar": {
           "angularaxis": {
            "gridcolor": "white",
            "linecolor": "white",
            "ticks": ""
           },
           "bgcolor": "#E5ECF6",
           "radialaxis": {
            "gridcolor": "white",
            "linecolor": "white",
            "ticks": ""
           }
          },
          "scene": {
           "xaxis": {
            "backgroundcolor": "#E5ECF6",
            "gridcolor": "white",
            "gridwidth": 2,
            "linecolor": "white",
            "showbackground": true,
            "ticks": "",
            "zerolinecolor": "white"
           },
           "yaxis": {
            "backgroundcolor": "#E5ECF6",
            "gridcolor": "white",
            "gridwidth": 2,
            "linecolor": "white",
            "showbackground": true,
            "ticks": "",
            "zerolinecolor": "white"
           },
           "zaxis": {
            "backgroundcolor": "#E5ECF6",
            "gridcolor": "white",
            "gridwidth": 2,
            "linecolor": "white",
            "showbackground": true,
            "ticks": "",
            "zerolinecolor": "white"
           }
          },
          "shapedefaults": {
           "line": {
            "color": "#2a3f5f"
           }
          },
          "ternary": {
           "aaxis": {
            "gridcolor": "white",
            "linecolor": "white",
            "ticks": ""
           },
           "baxis": {
            "gridcolor": "white",
            "linecolor": "white",
            "ticks": ""
           },
           "bgcolor": "#E5ECF6",
           "caxis": {
            "gridcolor": "white",
            "linecolor": "white",
            "ticks": ""
           }
          },
          "title": {
           "x": 0.05
          },
          "xaxis": {
           "automargin": true,
           "gridcolor": "white",
           "linecolor": "white",
           "ticks": "",
           "title": {
            "standoff": 15
           },
           "zerolinecolor": "white",
           "zerolinewidth": 2
          },
          "yaxis": {
           "automargin": true,
           "gridcolor": "white",
           "linecolor": "white",
           "ticks": "",
           "title": {
            "standoff": 15
           },
           "zerolinecolor": "white",
           "zerolinewidth": 2
          }
         }
        },
        "title": {
         "text": "3-D plot(includes number of children)"
        }
       }
      },
      "text/html": [
       "<div>\n",
       "        \n",
       "        \n",
       "            <div id=\"432dd39a-22a4-4b6f-8df1-edcc21e9b0c7\" class=\"plotly-graph-div\" style=\"height:525px; width:100%;\"></div>\n",
       "            <script type=\"text/javascript\">\n",
       "                require([\"plotly\"], function(Plotly) {\n",
       "                    window.PLOTLYENV=window.PLOTLYENV || {};\n",
       "                    \n",
       "                if (document.getElementById(\"432dd39a-22a4-4b6f-8df1-edcc21e9b0c7\")) {\n",
       "                    Plotly.newPlot(\n",
       "                        '432dd39a-22a4-4b6f-8df1-edcc21e9b0c7',\n",
       "                        [{\"hovertemplate\": \"Gender=female<br>Stress Score=%{x}<br>Anxiety Score=%{y}<br>No of children=%{z}<extra></extra>\", \"legendgroup\": \"female\", \"marker\": {\"color\": \"#636efa\", \"opacity\": 0.7, \"symbol\": \"circle\"}, \"mode\": \"markers\", \"name\": \"female\", \"scene\": \"scene\", \"showlegend\": true, \"type\": \"scatter3d\", \"x\": [21, 20, 18, 20, 19, 24, 20, 26, 6, 32, 6, 25, 18, 20, 27, 26, 21, 21, 20, 20, 23, 21, 23, 19, 22, 22, 21, 23, 21, 20, 19, 23, 20, 18, 14, 21, 23, 26, 14, 21, 20, 21, 6, 30, 29, 22, 19, 18, 19, 15, 17, 14, 22, 14, 16, 19, 26, 23, 5, 30, 5, 29, 32, 29, 25, 26, 23, 18, 28, 27, 29, 27, 35, 29, 27, 34, 31, 29, 27, 31, 32, 28, 33, 28, 30, 20, 20, 29, 30, 32, 28, 27, 28, 28, 29, 31, 30, 29, 28, 29, 28, 26, 14, 22, 20, 21, 21, 19, 18, 19, 5, 21, 20, 19, 19, 20, 6, 13, 20, 19, 20, 21, 23, 18, 19, 24, 15, 17, 14, 22, 6, 8, 7, 4, 6, 11, 2, 16, 17, 16, 14, 16, 19, 26, 24, 25, 19, 23, 24, 26, 24, 23, 24, 26, 23, 25, 26, 23, 18, 24, 25, 25, 15, 24, 17, 21, 19, 22, 17, 19, 22, 19, 18, 19, 23, 24, 26, 24, 23, 24, 26, 18, 21, 20, 25, 15, 24, 20, 18, 7, 24, 18, 14, 19, 19, 18, 20, 26, 25, 18, 20, 19, 26, 16, 23, 25, 26, 23, 5, 0, 6, 18, 24, 25, 19, 20, 21, 19, 22, 19, 19, 26, 25, 15, 24, 17, 19, 20, 21, 19, 22, 19, 22, 21, 34, 19, 24, 20, 26, 25, 18, 20, 19, 19, 26, 23, 25, 23, 5, 18, 24, 25, 19, 20, 21, 19, 22, 19, 26, 25, 24, 17, 19, 20, 21, 20, 18, 19, 20, 26, 25, 24, 20, 26, 18, 20, 21, 21, 28, 39, 40, 34, 27, 36, 35, 27, 30, 31, 29, 33, 34, 29, 27, 28, 29, 32, 29, 30, 35, 27, 30, 31, 32, 28, 31, 29, 37, 28, 34, 33, 28, 20, 20, 10, 23, 20, 18, 20, 20, 18, 20, 5, 19, 24, 21, 23, 19, 22, 22, 21, 21, 20, 19, 23, 6, 26, 14, 21, 22, 38, 21, 21, 22, 29, 32, 34, 28, 31, 35, 29, 29, 30, 28, 32, 31, 33, 32, 32, 28, 36, 32, 19, 18, 19, 25, 24, 34, 28, 27, 29, 29, 34, 29, 30, 27, 17, 13, 21, 12, 8, 15, 8, 4, 15, 24, 26, 14, 7, 10, 12, 8, 3, 11, 6, 8, 5, 4, 7, 5, 7, 4, 4, 6, 7, 7, 5, 6, 29, 28, 31], \"y\": [12, 10, 12, 10, 11, 10, 10, 14, 3, 15, 4, 12, 13, 14, 17, 11, 10, 10, 10, 12, 13, 10, 10, 13, 14, 14, 14, 14, 14, 13, 12, 14, 11, 10, 14, 14, 11, 14, 13, 12, 12, 10, 3, 18, 17, 10, 10, 14, 12, 10, 11, 12, 11, 10, 10, 12, 10, 11, 0, 16, 1, 20, 21, 15, 10, 10, 10, 12, 16, 18, 19, 17, 10, 14, 11, 14, 13, 12, 10, 12, 15, 10, 11, 10, 10, 8, 5, 14, 12, 13, 14, 14, 13, 15, 14, 12, 10, 11, 12, 10, 11, 12, 11, 11, 10, 10, 10, 13, 10, 10, 7, 13, 14, 14, 14, 14, 7, 7, 14, 14, 11, 10, 13, 12, 14, 11, 10, 14, 11, 10, 5, 8, 5, 6, 3, 6, 6, 14, 11, 14, 13, 12, 10, 12, 13, 10, 10, 13, 14, 14, 14, 14, 14, 13, 10, 11, 10, 10, 14, 12, 13, 12, 14, 11, 12, 7, 6, 7, 10, 14, 11, 14, 13, 14, 13, 14, 13, 14, 12, 10, 11, 5, 5, 7, 12, 10, 11, 6, 7, 3, 6, 7, 9, 9, 10, 12, 14, 14, 14, 13, 12, 14, 11, 5, 10, 14, 11, 10, 7, 6, 7, 14, 11, 14, 6, 7, 9, 5, 5, 8, 13, 12, 10, 12, 10, 11, 10, 10, 14, 12, 13, 7, 7, 14, 12, 10, 11, 12, 10, 11, 12, 11, 10, 9, 7, 7, 8, 7, 6, 7, 6, 5, 11, 10, 11, 10, 10, 9, 7, 5, 9, 7, 6, 8, 10, 8, 5, 6, 8, 7, 6, 7, 7, 6, 7, 7, 8, 8, 15, 15, 17, 15, 11, 13, 12, 13, 10, 10, 13, 14, 14, 14, 14, 14, 13, 12, 14, 11, 10, 14, 11, 10, 14, 13, 10, 12, 10, 11, 10, 14, 11, 7, 8, 9, 5, 10, 10, 13, 13, 14, 12, 5, 14, 14, 6, 5, 6, 6, 7, 7, 5, 7, 7, 6, 5, 10, 7, 9, 5, 18, 8, 6, 5, 14, 12, 13, 14, 13, 14, 13, 14, 12, 10, 11, 10, 12, 10, 11, 12, 11, 10, 6, 7, 7, 6, 8, 10, 10, 13, 14, 14, 14, 14, 14, 13, 7, 7, 5, 6, 8, 8, 8, 3, 7, 7, 6, 6, 8, 7, 6, 6, 6, 7, 7, 6, 6, 6, 9, 8, 5, 7, 7, 9, 5, 3, 3, 4, 10, 14, 11], \"z\": [2, 3, 3, 2, 1, 2, 2, 2, 0, 3, 0, 1, 1, 0, 3, 1, 1, 2, 1, 1, 2, 2, 0, 1, 2, 2, 2, 2, 2, 2, 2, 2, 2, 2, 2, 2, 0, 2, 1, 0, 2, 0, 0, 3, 3, 0, 2, 1, 2, 2, 1, 3, 1, 2, 1, 1, 2, 2, 0, 3, 0, 3, 3, 3, 1, 1, 1, 1, 3, 4, 3, 2, 2, 2, 2, 2, 2, 2, 2, 2, 3, 2, 2, 2, 2, 1, 1, 2, 2, 2, 2, 2, 2, 3, 2, 2, 2, 2, 2, 2, 2, 2, 2, 2, 2, 2, 2, 2, 2, 2, 2, 2, 2, 2, 2, 2, 0, 2, 2, 1, 1, 1, 2, 2, 2, 2, 2, 2, 2, 2, 1, 1, 3, 1, 0, 3, 0, 2, 2, 2, 2, 2, 2, 0, 1, 1, 1, 1, 1, 1, 1, 1, 1, 1, 2, 2, 2, 2, 2, 2, 2, 1, 2, 1, 2, 1, 1, 1, 1, 2, 1, 2, 1, 2, 3, 2, 2, 2, 2, 2, 2, 1, 1, 1, 2, 2, 2, 0, 0, 0, 0, 0, 1, 1, 2, 2, 2, 2, 2, 2, 2, 2, 2, 0, 2, 2, 2, 3, 1, 2, 1, 2, 1, 0, 2, 1, 1, 1, 0, 1, 2, 1, 2, 1, 1, 2, 1, 2, 0, 1, 2, 1, 1, 2, 5, 0, 1, 2, 1, 3, 1, 2, 1, 1, 2, 1, 1, 1, 0, 1, 1, 1, 2, 2, 2, 2, 2, 2, 1, 1, 2, 1, 1, 1, 2, 1, 1, 1, 0, 0, 0, 1, 1, 2, 1, 2, 1, 2, 3, 4, 1, 3, 2, 2, 2, 2, 2, 3, 1, 2, 2, 4, 2, 3, 2, 2, 2, 2, 3, 2, 3, 3, 2, 3, 3, 2, 2, 2, 2, 4, 3, 1, 2, 0, 1, 2, 2, 2, 2, 2, 2, 0, 2, 2, 1, 2, 1, 1, 1, 1, 2, 1, 1, 1, 0, 2, 2, 1, 1, 3, 1, 1, 1, 3, 2, 2, 2, 2, 2, 2, 2, 2, 2, 2, 3, 2, 2, 2, 2, 2, 2, 2, 1, 2, 1, 1, 2, 2, 2, 2, 2, 2, 2, 2, 2, 2, 0, 1, 0, 1, 2, 2, 0, 1, 2, 1, 2, 0, 1, 1, 0, 0, 2, 2, 0, 0, 0, 0, 0, 3, 0, 0, 0, 0, 0, 0, 0, 2, 2, 2]}, {\"hovertemplate\": \"Gender=male<br>Stress Score=%{x}<br>Anxiety Score=%{y}<br>No of children=%{z}<extra></extra>\", \"legendgroup\": \"male\", \"marker\": {\"color\": \"#EF553B\", \"opacity\": 0.7, \"symbol\": \"circle\"}, \"mode\": \"markers\", \"name\": \"male\", \"scene\": \"scene\", \"showlegend\": true, \"type\": \"scatter3d\", \"x\": [7, 7, 16, 22, 22, 21, 8, 21, 20, 19, 19, 20, 20, 23, 18, 19, 24, 16, 17, 16, 4, 4, 6, 7, 5, 7, 21, 18, 29, 21, 22, 7, 6, 7, 7, 6, 5, 6, 7, 6, 18, 6, 5, 20, 19, 14, 8, 19, 18, 26, 15, 4, 5, 19, 20, 25, 19, 26, 37, 27, 7, 21, 5, 23, 20, 7, 9, 29, 32, 30, 28, 34, 29, 31, 6, 18, 14, 16, 22, 21, 23, 8, 20, 6, 15, 18, 7, 20, 21, 17, 4, 4, 8, 3, 8, 6, 5, 11, 7, 5, 9, 7, 8, 10, 6, 4, 7, 6, 6, 7, 6, 4, 0, 7, 6, 7, 7, 6, 6, 5, 5, 8, 6, 7, 7, 6, 29, 34, 32], \"y\": [4, 4, 11, 10, 10, 11, 4, 13, 14, 13, 14, 13, 14, 12, 10, 11, 12, 10, 11, 10, 3, 4, 4, 3, 2, 4, 5, 6, 13, 10, 12, 5, 8, 6, 2, 6, 7, 6, 7, 5, 5, 4, 4, 7, 6, 6, 8, 14, 13, 6, 8, 6, 7, 6, 6, 5, 6, 6, 16, 15, 5, 13, 6, 6, 6, 5, 5, 11, 10, 10, 10, 15, 12, 13, 8, 8, 8, 7, 6, 8, 7, 7, 5, 6, 6, 6, 5, 5, 5, 6, 4, 3, 4, 5, 8, 7, 9, 6, 7, 6, 9, 7, 6, 5, 7, 7, 6, 6, 7, 5, 5, 6, 5, 6, 7, 5, 5, 8, 6, 5, 7, 6, 5, 8, 4, 4, 12, 14, 11], \"z\": [0, 1, 2, 2, 1, 0, 0, 1, 0, 2, 3, 1, 2, 2, 2, 2, 1, 1, 2, 1, 0, 0, 0, 0, 0, 0, 1, 1, 2, 2, 2, 0, 0, 1, 0, 0, 0, 0, 0, 0, 1, 0, 0, 1, 1, 0, 2, 2, 2, 1, 1, 0, 0, 1, 1, 1, 1, 1, 2, 3, 0, 2, 0, 1, 2, 1, 1, 2, 2, 2, 2, 3, 2, 2, 2, 1, 1, 1, 2, 1, 1, 0, 1, 0, 2, 0, 0, 0, 1, 0, 0, 0, 0, 0, 0, 1, 1, 0, 0, 2, 2, 0, 1, 0, 1, 3, 2, 1, 0, 1, 0, 0, 1, 1, 1, 0, 2, 0, 0, 0, 0, 1, 2, 1, 0, 0, 2, 2, 2]}],\n",
       "                        {\"legend\": {\"title\": {\"text\": \"Gender\"}, \"tracegroupgap\": 0}, \"scene\": {\"domain\": {\"x\": [0.0, 1.0], \"y\": [0.0, 1.0]}, \"xaxis\": {\"title\": {\"text\": \"Stress Score\"}}, \"yaxis\": {\"title\": {\"text\": \"Anxiety Score\"}}, \"zaxis\": {\"title\": {\"text\": \"No of children\"}}}, \"template\": {\"data\": {\"bar\": [{\"error_x\": {\"color\": \"#2a3f5f\"}, \"error_y\": {\"color\": \"#2a3f5f\"}, \"marker\": {\"line\": {\"color\": \"#E5ECF6\", \"width\": 0.5}}, \"type\": \"bar\"}], \"barpolar\": [{\"marker\": {\"line\": {\"color\": \"#E5ECF6\", \"width\": 0.5}}, \"type\": \"barpolar\"}], \"carpet\": [{\"aaxis\": {\"endlinecolor\": \"#2a3f5f\", \"gridcolor\": \"white\", \"linecolor\": \"white\", \"minorgridcolor\": \"white\", \"startlinecolor\": \"#2a3f5f\"}, \"baxis\": {\"endlinecolor\": \"#2a3f5f\", \"gridcolor\": \"white\", \"linecolor\": \"white\", \"minorgridcolor\": \"white\", \"startlinecolor\": \"#2a3f5f\"}, \"type\": \"carpet\"}], \"choropleth\": [{\"colorbar\": {\"outlinewidth\": 0, \"ticks\": \"\"}, \"type\": \"choropleth\"}], \"contour\": [{\"colorbar\": {\"outlinewidth\": 0, \"ticks\": \"\"}, \"colorscale\": [[0.0, \"#0d0887\"], [0.1111111111111111, \"#46039f\"], [0.2222222222222222, \"#7201a8\"], [0.3333333333333333, \"#9c179e\"], [0.4444444444444444, \"#bd3786\"], [0.5555555555555556, \"#d8576b\"], [0.6666666666666666, \"#ed7953\"], [0.7777777777777778, \"#fb9f3a\"], [0.8888888888888888, \"#fdca26\"], [1.0, \"#f0f921\"]], \"type\": \"contour\"}], \"contourcarpet\": [{\"colorbar\": {\"outlinewidth\": 0, \"ticks\": \"\"}, \"type\": \"contourcarpet\"}], \"heatmap\": [{\"colorbar\": {\"outlinewidth\": 0, \"ticks\": \"\"}, \"colorscale\": [[0.0, \"#0d0887\"], [0.1111111111111111, \"#46039f\"], [0.2222222222222222, \"#7201a8\"], [0.3333333333333333, \"#9c179e\"], [0.4444444444444444, \"#bd3786\"], [0.5555555555555556, \"#d8576b\"], [0.6666666666666666, \"#ed7953\"], [0.7777777777777778, \"#fb9f3a\"], [0.8888888888888888, \"#fdca26\"], [1.0, \"#f0f921\"]], \"type\": \"heatmap\"}], \"heatmapgl\": [{\"colorbar\": {\"outlinewidth\": 0, \"ticks\": \"\"}, \"colorscale\": [[0.0, \"#0d0887\"], [0.1111111111111111, \"#46039f\"], [0.2222222222222222, \"#7201a8\"], [0.3333333333333333, \"#9c179e\"], [0.4444444444444444, \"#bd3786\"], [0.5555555555555556, \"#d8576b\"], [0.6666666666666666, \"#ed7953\"], [0.7777777777777778, \"#fb9f3a\"], [0.8888888888888888, \"#fdca26\"], [1.0, \"#f0f921\"]], \"type\": \"heatmapgl\"}], \"histogram\": [{\"marker\": {\"colorbar\": {\"outlinewidth\": 0, \"ticks\": \"\"}}, \"type\": \"histogram\"}], \"histogram2d\": [{\"colorbar\": {\"outlinewidth\": 0, \"ticks\": \"\"}, \"colorscale\": [[0.0, \"#0d0887\"], [0.1111111111111111, \"#46039f\"], [0.2222222222222222, \"#7201a8\"], [0.3333333333333333, \"#9c179e\"], [0.4444444444444444, \"#bd3786\"], [0.5555555555555556, \"#d8576b\"], [0.6666666666666666, \"#ed7953\"], [0.7777777777777778, \"#fb9f3a\"], [0.8888888888888888, \"#fdca26\"], [1.0, \"#f0f921\"]], \"type\": \"histogram2d\"}], \"histogram2dcontour\": [{\"colorbar\": {\"outlinewidth\": 0, \"ticks\": \"\"}, \"colorscale\": [[0.0, \"#0d0887\"], [0.1111111111111111, \"#46039f\"], [0.2222222222222222, \"#7201a8\"], [0.3333333333333333, \"#9c179e\"], [0.4444444444444444, \"#bd3786\"], [0.5555555555555556, \"#d8576b\"], [0.6666666666666666, \"#ed7953\"], [0.7777777777777778, \"#fb9f3a\"], [0.8888888888888888, \"#fdca26\"], [1.0, \"#f0f921\"]], \"type\": \"histogram2dcontour\"}], \"mesh3d\": [{\"colorbar\": {\"outlinewidth\": 0, \"ticks\": \"\"}, \"type\": \"mesh3d\"}], \"parcoords\": [{\"line\": {\"colorbar\": {\"outlinewidth\": 0, \"ticks\": \"\"}}, \"type\": \"parcoords\"}], \"pie\": [{\"automargin\": true, \"type\": \"pie\"}], \"scatter\": [{\"marker\": {\"colorbar\": {\"outlinewidth\": 0, \"ticks\": \"\"}}, \"type\": \"scatter\"}], \"scatter3d\": [{\"line\": {\"colorbar\": {\"outlinewidth\": 0, \"ticks\": \"\"}}, \"marker\": {\"colorbar\": {\"outlinewidth\": 0, \"ticks\": \"\"}}, \"type\": \"scatter3d\"}], \"scattercarpet\": [{\"marker\": {\"colorbar\": {\"outlinewidth\": 0, \"ticks\": \"\"}}, \"type\": \"scattercarpet\"}], \"scattergeo\": [{\"marker\": {\"colorbar\": {\"outlinewidth\": 0, \"ticks\": \"\"}}, \"type\": \"scattergeo\"}], \"scattergl\": [{\"marker\": {\"colorbar\": {\"outlinewidth\": 0, \"ticks\": \"\"}}, \"type\": \"scattergl\"}], \"scattermapbox\": [{\"marker\": {\"colorbar\": {\"outlinewidth\": 0, \"ticks\": \"\"}}, \"type\": \"scattermapbox\"}], \"scatterpolar\": [{\"marker\": {\"colorbar\": {\"outlinewidth\": 0, \"ticks\": \"\"}}, \"type\": \"scatterpolar\"}], \"scatterpolargl\": [{\"marker\": {\"colorbar\": {\"outlinewidth\": 0, \"ticks\": \"\"}}, \"type\": \"scatterpolargl\"}], \"scatterternary\": [{\"marker\": {\"colorbar\": {\"outlinewidth\": 0, \"ticks\": \"\"}}, \"type\": \"scatterternary\"}], \"surface\": [{\"colorbar\": {\"outlinewidth\": 0, \"ticks\": \"\"}, \"colorscale\": [[0.0, \"#0d0887\"], [0.1111111111111111, \"#46039f\"], [0.2222222222222222, \"#7201a8\"], [0.3333333333333333, \"#9c179e\"], [0.4444444444444444, \"#bd3786\"], [0.5555555555555556, \"#d8576b\"], [0.6666666666666666, \"#ed7953\"], [0.7777777777777778, \"#fb9f3a\"], [0.8888888888888888, \"#fdca26\"], [1.0, \"#f0f921\"]], \"type\": \"surface\"}], \"table\": [{\"cells\": {\"fill\": {\"color\": \"#EBF0F8\"}, \"line\": {\"color\": \"white\"}}, \"header\": {\"fill\": {\"color\": \"#C8D4E3\"}, \"line\": {\"color\": \"white\"}}, \"type\": \"table\"}]}, \"layout\": {\"annotationdefaults\": {\"arrowcolor\": \"#2a3f5f\", \"arrowhead\": 0, \"arrowwidth\": 1}, \"coloraxis\": {\"colorbar\": {\"outlinewidth\": 0, \"ticks\": \"\"}}, \"colorscale\": {\"diverging\": [[0, \"#8e0152\"], [0.1, \"#c51b7d\"], [0.2, \"#de77ae\"], [0.3, \"#f1b6da\"], [0.4, \"#fde0ef\"], [0.5, \"#f7f7f7\"], [0.6, \"#e6f5d0\"], [0.7, \"#b8e186\"], [0.8, \"#7fbc41\"], [0.9, \"#4d9221\"], [1, \"#276419\"]], \"sequential\": [[0.0, \"#0d0887\"], [0.1111111111111111, \"#46039f\"], [0.2222222222222222, \"#7201a8\"], [0.3333333333333333, \"#9c179e\"], [0.4444444444444444, \"#bd3786\"], [0.5555555555555556, \"#d8576b\"], [0.6666666666666666, \"#ed7953\"], [0.7777777777777778, \"#fb9f3a\"], [0.8888888888888888, \"#fdca26\"], [1.0, \"#f0f921\"]], \"sequentialminus\": [[0.0, \"#0d0887\"], [0.1111111111111111, \"#46039f\"], [0.2222222222222222, \"#7201a8\"], [0.3333333333333333, \"#9c179e\"], [0.4444444444444444, \"#bd3786\"], [0.5555555555555556, \"#d8576b\"], [0.6666666666666666, \"#ed7953\"], [0.7777777777777778, \"#fb9f3a\"], [0.8888888888888888, \"#fdca26\"], [1.0, \"#f0f921\"]]}, \"colorway\": [\"#636efa\", \"#EF553B\", \"#00cc96\", \"#ab63fa\", \"#FFA15A\", \"#19d3f3\", \"#FF6692\", \"#B6E880\", \"#FF97FF\", \"#FECB52\"], \"font\": {\"color\": \"#2a3f5f\"}, \"geo\": {\"bgcolor\": \"white\", \"lakecolor\": \"white\", \"landcolor\": \"#E5ECF6\", \"showlakes\": true, \"showland\": true, \"subunitcolor\": \"white\"}, \"hoverlabel\": {\"align\": \"left\"}, \"hovermode\": \"closest\", \"mapbox\": {\"style\": \"light\"}, \"paper_bgcolor\": \"white\", \"plot_bgcolor\": \"#E5ECF6\", \"polar\": {\"angularaxis\": {\"gridcolor\": \"white\", \"linecolor\": \"white\", \"ticks\": \"\"}, \"bgcolor\": \"#E5ECF6\", \"radialaxis\": {\"gridcolor\": \"white\", \"linecolor\": \"white\", \"ticks\": \"\"}}, \"scene\": {\"xaxis\": {\"backgroundcolor\": \"#E5ECF6\", \"gridcolor\": \"white\", \"gridwidth\": 2, \"linecolor\": \"white\", \"showbackground\": true, \"ticks\": \"\", \"zerolinecolor\": \"white\"}, \"yaxis\": {\"backgroundcolor\": \"#E5ECF6\", \"gridcolor\": \"white\", \"gridwidth\": 2, \"linecolor\": \"white\", \"showbackground\": true, \"ticks\": \"\", \"zerolinecolor\": \"white\"}, \"zaxis\": {\"backgroundcolor\": \"#E5ECF6\", \"gridcolor\": \"white\", \"gridwidth\": 2, \"linecolor\": \"white\", \"showbackground\": true, \"ticks\": \"\", \"zerolinecolor\": \"white\"}}, \"shapedefaults\": {\"line\": {\"color\": \"#2a3f5f\"}}, \"ternary\": {\"aaxis\": {\"gridcolor\": \"white\", \"linecolor\": \"white\", \"ticks\": \"\"}, \"baxis\": {\"gridcolor\": \"white\", \"linecolor\": \"white\", \"ticks\": \"\"}, \"bgcolor\": \"#E5ECF6\", \"caxis\": {\"gridcolor\": \"white\", \"linecolor\": \"white\", \"ticks\": \"\"}}, \"title\": {\"x\": 0.05}, \"xaxis\": {\"automargin\": true, \"gridcolor\": \"white\", \"linecolor\": \"white\", \"ticks\": \"\", \"title\": {\"standoff\": 15}, \"zerolinecolor\": \"white\", \"zerolinewidth\": 2}, \"yaxis\": {\"automargin\": true, \"gridcolor\": \"white\", \"linecolor\": \"white\", \"ticks\": \"\", \"title\": {\"standoff\": 15}, \"zerolinecolor\": \"white\", \"zerolinewidth\": 2}}}, \"title\": {\"text\": \"3-D plot(includes number of children)\"}},\n",
       "                        {\"responsive\": true}\n",
       "                    ).then(function(){\n",
       "                            \n",
       "var gd = document.getElementById('432dd39a-22a4-4b6f-8df1-edcc21e9b0c7');\n",
       "var x = new MutationObserver(function (mutations, observer) {{\n",
       "        var display = window.getComputedStyle(gd).display;\n",
       "        if (!display || display === 'none') {{\n",
       "            console.log([gd, 'removed!']);\n",
       "            Plotly.purge(gd);\n",
       "            observer.disconnect();\n",
       "        }}\n",
       "}});\n",
       "\n",
       "// Listen for the removal of the full notebook cells\n",
       "var notebookContainer = gd.closest('#notebook-container');\n",
       "if (notebookContainer) {{\n",
       "    x.observe(notebookContainer, {childList: true});\n",
       "}}\n",
       "\n",
       "// Listen for the clearing of the current output cell\n",
       "var outputEl = gd.closest('.output');\n",
       "if (outputEl) {{\n",
       "    x.observe(outputEl, {childList: true});\n",
       "}}\n",
       "\n",
       "                        })\n",
       "                };\n",
       "                });\n",
       "            </script>\n",
       "        </div>"
      ]
     },
     "metadata": {},
     "output_type": "display_data"
    }
   ],
   "source": [
    "fig2 = px.scatter_3d(data, x='Stress Score', y='Anxiety Score', z='No of children', color = 'Gender',\n",
    "                     title = '3-D plot(includes number of children)',\n",
    "                     opacity=0.7, size_max=18)\n",
    "fig2.show()"
   ]
  },
  {
   "cell_type": "code",
   "execution_count": 281,
   "metadata": {},
   "outputs": [
    {
     "data": {
      "application/vnd.plotly.v1+json": {
       "config": {
        "linkText": "Export to plot.ly",
        "plotlyServerURL": "https://plot.ly",
        "showLink": false
       },
       "data": [
        {
         "colorscale": [
          [
           0,
           "rgb(243, 231, 155)"
          ],
          [
           0.16666666666666666,
           "rgb(250, 196, 132)"
          ],
          [
           0.3333333333333333,
           "rgb(248, 160, 126)"
          ],
          [
           0.5,
           "rgb(235, 127, 134)"
          ],
          [
           0.6666666666666666,
           "rgb(206, 102, 147)"
          ],
          [
           0.8333333333333334,
           "rgb(160, 89, 160)"
          ],
          [
           1,
           "rgb(92, 83, 165)"
          ]
         ],
         "type": "heatmap",
         "x": [
          "Age",
          "Number of kids",
          "Anxiety Score",
          "Stress_Score",
          "Hours of teaching"
         ],
         "y": [
          "Age",
          "Number of kids",
          "Anxiety Score",
          "Stress_Score",
          "Hours of teaching"
         ],
         "z": [
          [
           1,
           0.639276,
           0.49719,
           0.52502,
           0.248525
          ],
          [
           0.63926,
           1,
           0.632941,
           0.600457,
           0.208731
          ],
          [
           0.49719,
           0.6329421,
           1,
           0.649154,
           0.198593
          ],
          [
           0.52502,
           0.600457,
           0.649154,
           1,
           0.243716
          ],
          [
           0.248525,
           0.208731,
           0.198593,
           0.243716,
           1
          ]
         ]
        }
       ],
       "layout": {
        "template": {
         "data": {
          "bar": [
           {
            "error_x": {
             "color": "#2a3f5f"
            },
            "error_y": {
             "color": "#2a3f5f"
            },
            "marker": {
             "line": {
              "color": "#E5ECF6",
              "width": 0.5
             }
            },
            "type": "bar"
           }
          ],
          "barpolar": [
           {
            "marker": {
             "line": {
              "color": "#E5ECF6",
              "width": 0.5
             }
            },
            "type": "barpolar"
           }
          ],
          "carpet": [
           {
            "aaxis": {
             "endlinecolor": "#2a3f5f",
             "gridcolor": "white",
             "linecolor": "white",
             "minorgridcolor": "white",
             "startlinecolor": "#2a3f5f"
            },
            "baxis": {
             "endlinecolor": "#2a3f5f",
             "gridcolor": "white",
             "linecolor": "white",
             "minorgridcolor": "white",
             "startlinecolor": "#2a3f5f"
            },
            "type": "carpet"
           }
          ],
          "choropleth": [
           {
            "colorbar": {
             "outlinewidth": 0,
             "ticks": ""
            },
            "type": "choropleth"
           }
          ],
          "contour": [
           {
            "colorbar": {
             "outlinewidth": 0,
             "ticks": ""
            },
            "colorscale": [
             [
              0,
              "#0d0887"
             ],
             [
              0.1111111111111111,
              "#46039f"
             ],
             [
              0.2222222222222222,
              "#7201a8"
             ],
             [
              0.3333333333333333,
              "#9c179e"
             ],
             [
              0.4444444444444444,
              "#bd3786"
             ],
             [
              0.5555555555555556,
              "#d8576b"
             ],
             [
              0.6666666666666666,
              "#ed7953"
             ],
             [
              0.7777777777777778,
              "#fb9f3a"
             ],
             [
              0.8888888888888888,
              "#fdca26"
             ],
             [
              1,
              "#f0f921"
             ]
            ],
            "type": "contour"
           }
          ],
          "contourcarpet": [
           {
            "colorbar": {
             "outlinewidth": 0,
             "ticks": ""
            },
            "type": "contourcarpet"
           }
          ],
          "heatmap": [
           {
            "colorbar": {
             "outlinewidth": 0,
             "ticks": ""
            },
            "colorscale": [
             [
              0,
              "#0d0887"
             ],
             [
              0.1111111111111111,
              "#46039f"
             ],
             [
              0.2222222222222222,
              "#7201a8"
             ],
             [
              0.3333333333333333,
              "#9c179e"
             ],
             [
              0.4444444444444444,
              "#bd3786"
             ],
             [
              0.5555555555555556,
              "#d8576b"
             ],
             [
              0.6666666666666666,
              "#ed7953"
             ],
             [
              0.7777777777777778,
              "#fb9f3a"
             ],
             [
              0.8888888888888888,
              "#fdca26"
             ],
             [
              1,
              "#f0f921"
             ]
            ],
            "type": "heatmap"
           }
          ],
          "heatmapgl": [
           {
            "colorbar": {
             "outlinewidth": 0,
             "ticks": ""
            },
            "colorscale": [
             [
              0,
              "#0d0887"
             ],
             [
              0.1111111111111111,
              "#46039f"
             ],
             [
              0.2222222222222222,
              "#7201a8"
             ],
             [
              0.3333333333333333,
              "#9c179e"
             ],
             [
              0.4444444444444444,
              "#bd3786"
             ],
             [
              0.5555555555555556,
              "#d8576b"
             ],
             [
              0.6666666666666666,
              "#ed7953"
             ],
             [
              0.7777777777777778,
              "#fb9f3a"
             ],
             [
              0.8888888888888888,
              "#fdca26"
             ],
             [
              1,
              "#f0f921"
             ]
            ],
            "type": "heatmapgl"
           }
          ],
          "histogram": [
           {
            "marker": {
             "colorbar": {
              "outlinewidth": 0,
              "ticks": ""
             }
            },
            "type": "histogram"
           }
          ],
          "histogram2d": [
           {
            "colorbar": {
             "outlinewidth": 0,
             "ticks": ""
            },
            "colorscale": [
             [
              0,
              "#0d0887"
             ],
             [
              0.1111111111111111,
              "#46039f"
             ],
             [
              0.2222222222222222,
              "#7201a8"
             ],
             [
              0.3333333333333333,
              "#9c179e"
             ],
             [
              0.4444444444444444,
              "#bd3786"
             ],
             [
              0.5555555555555556,
              "#d8576b"
             ],
             [
              0.6666666666666666,
              "#ed7953"
             ],
             [
              0.7777777777777778,
              "#fb9f3a"
             ],
             [
              0.8888888888888888,
              "#fdca26"
             ],
             [
              1,
              "#f0f921"
             ]
            ],
            "type": "histogram2d"
           }
          ],
          "histogram2dcontour": [
           {
            "colorbar": {
             "outlinewidth": 0,
             "ticks": ""
            },
            "colorscale": [
             [
              0,
              "#0d0887"
             ],
             [
              0.1111111111111111,
              "#46039f"
             ],
             [
              0.2222222222222222,
              "#7201a8"
             ],
             [
              0.3333333333333333,
              "#9c179e"
             ],
             [
              0.4444444444444444,
              "#bd3786"
             ],
             [
              0.5555555555555556,
              "#d8576b"
             ],
             [
              0.6666666666666666,
              "#ed7953"
             ],
             [
              0.7777777777777778,
              "#fb9f3a"
             ],
             [
              0.8888888888888888,
              "#fdca26"
             ],
             [
              1,
              "#f0f921"
             ]
            ],
            "type": "histogram2dcontour"
           }
          ],
          "mesh3d": [
           {
            "colorbar": {
             "outlinewidth": 0,
             "ticks": ""
            },
            "type": "mesh3d"
           }
          ],
          "parcoords": [
           {
            "line": {
             "colorbar": {
              "outlinewidth": 0,
              "ticks": ""
             }
            },
            "type": "parcoords"
           }
          ],
          "pie": [
           {
            "automargin": true,
            "type": "pie"
           }
          ],
          "scatter": [
           {
            "marker": {
             "colorbar": {
              "outlinewidth": 0,
              "ticks": ""
             }
            },
            "type": "scatter"
           }
          ],
          "scatter3d": [
           {
            "line": {
             "colorbar": {
              "outlinewidth": 0,
              "ticks": ""
             }
            },
            "marker": {
             "colorbar": {
              "outlinewidth": 0,
              "ticks": ""
             }
            },
            "type": "scatter3d"
           }
          ],
          "scattercarpet": [
           {
            "marker": {
             "colorbar": {
              "outlinewidth": 0,
              "ticks": ""
             }
            },
            "type": "scattercarpet"
           }
          ],
          "scattergeo": [
           {
            "marker": {
             "colorbar": {
              "outlinewidth": 0,
              "ticks": ""
             }
            },
            "type": "scattergeo"
           }
          ],
          "scattergl": [
           {
            "marker": {
             "colorbar": {
              "outlinewidth": 0,
              "ticks": ""
             }
            },
            "type": "scattergl"
           }
          ],
          "scattermapbox": [
           {
            "marker": {
             "colorbar": {
              "outlinewidth": 0,
              "ticks": ""
             }
            },
            "type": "scattermapbox"
           }
          ],
          "scatterpolar": [
           {
            "marker": {
             "colorbar": {
              "outlinewidth": 0,
              "ticks": ""
             }
            },
            "type": "scatterpolar"
           }
          ],
          "scatterpolargl": [
           {
            "marker": {
             "colorbar": {
              "outlinewidth": 0,
              "ticks": ""
             }
            },
            "type": "scatterpolargl"
           }
          ],
          "scatterternary": [
           {
            "marker": {
             "colorbar": {
              "outlinewidth": 0,
              "ticks": ""
             }
            },
            "type": "scatterternary"
           }
          ],
          "surface": [
           {
            "colorbar": {
             "outlinewidth": 0,
             "ticks": ""
            },
            "colorscale": [
             [
              0,
              "#0d0887"
             ],
             [
              0.1111111111111111,
              "#46039f"
             ],
             [
              0.2222222222222222,
              "#7201a8"
             ],
             [
              0.3333333333333333,
              "#9c179e"
             ],
             [
              0.4444444444444444,
              "#bd3786"
             ],
             [
              0.5555555555555556,
              "#d8576b"
             ],
             [
              0.6666666666666666,
              "#ed7953"
             ],
             [
              0.7777777777777778,
              "#fb9f3a"
             ],
             [
              0.8888888888888888,
              "#fdca26"
             ],
             [
              1,
              "#f0f921"
             ]
            ],
            "type": "surface"
           }
          ],
          "table": [
           {
            "cells": {
             "fill": {
              "color": "#EBF0F8"
             },
             "line": {
              "color": "white"
             }
            },
            "header": {
             "fill": {
              "color": "#C8D4E3"
             },
             "line": {
              "color": "white"
             }
            },
            "type": "table"
           }
          ]
         },
         "layout": {
          "annotationdefaults": {
           "arrowcolor": "#2a3f5f",
           "arrowhead": 0,
           "arrowwidth": 1
          },
          "coloraxis": {
           "colorbar": {
            "outlinewidth": 0,
            "ticks": ""
           }
          },
          "colorscale": {
           "diverging": [
            [
             0,
             "#8e0152"
            ],
            [
             0.1,
             "#c51b7d"
            ],
            [
             0.2,
             "#de77ae"
            ],
            [
             0.3,
             "#f1b6da"
            ],
            [
             0.4,
             "#fde0ef"
            ],
            [
             0.5,
             "#f7f7f7"
            ],
            [
             0.6,
             "#e6f5d0"
            ],
            [
             0.7,
             "#b8e186"
            ],
            [
             0.8,
             "#7fbc41"
            ],
            [
             0.9,
             "#4d9221"
            ],
            [
             1,
             "#276419"
            ]
           ],
           "sequential": [
            [
             0,
             "#0d0887"
            ],
            [
             0.1111111111111111,
             "#46039f"
            ],
            [
             0.2222222222222222,
             "#7201a8"
            ],
            [
             0.3333333333333333,
             "#9c179e"
            ],
            [
             0.4444444444444444,
             "#bd3786"
            ],
            [
             0.5555555555555556,
             "#d8576b"
            ],
            [
             0.6666666666666666,
             "#ed7953"
            ],
            [
             0.7777777777777778,
             "#fb9f3a"
            ],
            [
             0.8888888888888888,
             "#fdca26"
            ],
            [
             1,
             "#f0f921"
            ]
           ],
           "sequentialminus": [
            [
             0,
             "#0d0887"
            ],
            [
             0.1111111111111111,
             "#46039f"
            ],
            [
             0.2222222222222222,
             "#7201a8"
            ],
            [
             0.3333333333333333,
             "#9c179e"
            ],
            [
             0.4444444444444444,
             "#bd3786"
            ],
            [
             0.5555555555555556,
             "#d8576b"
            ],
            [
             0.6666666666666666,
             "#ed7953"
            ],
            [
             0.7777777777777778,
             "#fb9f3a"
            ],
            [
             0.8888888888888888,
             "#fdca26"
            ],
            [
             1,
             "#f0f921"
            ]
           ]
          },
          "colorway": [
           "#636efa",
           "#EF553B",
           "#00cc96",
           "#ab63fa",
           "#FFA15A",
           "#19d3f3",
           "#FF6692",
           "#B6E880",
           "#FF97FF",
           "#FECB52"
          ],
          "font": {
           "color": "#2a3f5f"
          },
          "geo": {
           "bgcolor": "white",
           "lakecolor": "white",
           "landcolor": "#E5ECF6",
           "showlakes": true,
           "showland": true,
           "subunitcolor": "white"
          },
          "hoverlabel": {
           "align": "left"
          },
          "hovermode": "closest",
          "mapbox": {
           "style": "light"
          },
          "paper_bgcolor": "white",
          "plot_bgcolor": "#E5ECF6",
          "polar": {
           "angularaxis": {
            "gridcolor": "white",
            "linecolor": "white",
            "ticks": ""
           },
           "bgcolor": "#E5ECF6",
           "radialaxis": {
            "gridcolor": "white",
            "linecolor": "white",
            "ticks": ""
           }
          },
          "scene": {
           "xaxis": {
            "backgroundcolor": "#E5ECF6",
            "gridcolor": "white",
            "gridwidth": 2,
            "linecolor": "white",
            "showbackground": true,
            "ticks": "",
            "zerolinecolor": "white"
           },
           "yaxis": {
            "backgroundcolor": "#E5ECF6",
            "gridcolor": "white",
            "gridwidth": 2,
            "linecolor": "white",
            "showbackground": true,
            "ticks": "",
            "zerolinecolor": "white"
           },
           "zaxis": {
            "backgroundcolor": "#E5ECF6",
            "gridcolor": "white",
            "gridwidth": 2,
            "linecolor": "white",
            "showbackground": true,
            "ticks": "",
            "zerolinecolor": "white"
           }
          },
          "shapedefaults": {
           "line": {
            "color": "#2a3f5f"
           }
          },
          "ternary": {
           "aaxis": {
            "gridcolor": "white",
            "linecolor": "white",
            "ticks": ""
           },
           "baxis": {
            "gridcolor": "white",
            "linecolor": "white",
            "ticks": ""
           },
           "bgcolor": "#E5ECF6",
           "caxis": {
            "gridcolor": "white",
            "linecolor": "white",
            "ticks": ""
           }
          },
          "title": {
           "x": 0.05
          },
          "xaxis": {
           "automargin": true,
           "gridcolor": "white",
           "linecolor": "white",
           "ticks": "",
           "title": {
            "standoff": 15
           },
           "zerolinecolor": "white",
           "zerolinewidth": 2
          },
          "yaxis": {
           "automargin": true,
           "gridcolor": "white",
           "linecolor": "white",
           "ticks": "",
           "title": {
            "standoff": 15
           },
           "zerolinecolor": "white",
           "zerolinewidth": 2
          }
         }
        },
        "title": {
         "text": "Correlation Heatmap"
        }
       }
      },
      "text/html": [
       "<div>\n",
       "        \n",
       "        \n",
       "            <div id=\"14db5a93-c617-4121-9fd3-d7e38152bbf4\" class=\"plotly-graph-div\" style=\"height:525px; width:100%;\"></div>\n",
       "            <script type=\"text/javascript\">\n",
       "                require([\"plotly\"], function(Plotly) {\n",
       "                    window.PLOTLYENV=window.PLOTLYENV || {};\n",
       "                    \n",
       "                if (document.getElementById(\"14db5a93-c617-4121-9fd3-d7e38152bbf4\")) {\n",
       "                    Plotly.newPlot(\n",
       "                        '14db5a93-c617-4121-9fd3-d7e38152bbf4',\n",
       "                        [{\"colorscale\": [[0.0, \"rgb(243, 231, 155)\"], [0.16666666666666666, \"rgb(250, 196, 132)\"], [0.3333333333333333, \"rgb(248, 160, 126)\"], [0.5, \"rgb(235, 127, 134)\"], [0.6666666666666666, \"rgb(206, 102, 147)\"], [0.8333333333333334, \"rgb(160, 89, 160)\"], [1.0, \"rgb(92, 83, 165)\"]], \"type\": \"heatmap\", \"x\": [\"Age\", \"Number of kids\", \"Anxiety Score\", \"Stress_Score\", \"Hours of teaching\"], \"y\": [\"Age\", \"Number of kids\", \"Anxiety Score\", \"Stress_Score\", \"Hours of teaching\"], \"z\": [[1.0, 0.639276, 0.49719, 0.52502, 0.248525], [0.63926, 1.0, 0.632941, 0.600457, 0.208731], [0.49719, 0.6329421, 1.0, 0.649154, 0.198593], [0.52502, 0.600457, 0.649154, 1.0, 0.243716], [0.248525, 0.208731, 0.198593, 0.243716, 1.0]]}],\n",
       "                        {\"template\": {\"data\": {\"bar\": [{\"error_x\": {\"color\": \"#2a3f5f\"}, \"error_y\": {\"color\": \"#2a3f5f\"}, \"marker\": {\"line\": {\"color\": \"#E5ECF6\", \"width\": 0.5}}, \"type\": \"bar\"}], \"barpolar\": [{\"marker\": {\"line\": {\"color\": \"#E5ECF6\", \"width\": 0.5}}, \"type\": \"barpolar\"}], \"carpet\": [{\"aaxis\": {\"endlinecolor\": \"#2a3f5f\", \"gridcolor\": \"white\", \"linecolor\": \"white\", \"minorgridcolor\": \"white\", \"startlinecolor\": \"#2a3f5f\"}, \"baxis\": {\"endlinecolor\": \"#2a3f5f\", \"gridcolor\": \"white\", \"linecolor\": \"white\", \"minorgridcolor\": \"white\", \"startlinecolor\": \"#2a3f5f\"}, \"type\": \"carpet\"}], \"choropleth\": [{\"colorbar\": {\"outlinewidth\": 0, \"ticks\": \"\"}, \"type\": \"choropleth\"}], \"contour\": [{\"colorbar\": {\"outlinewidth\": 0, \"ticks\": \"\"}, \"colorscale\": [[0.0, \"#0d0887\"], [0.1111111111111111, \"#46039f\"], [0.2222222222222222, \"#7201a8\"], [0.3333333333333333, \"#9c179e\"], [0.4444444444444444, \"#bd3786\"], [0.5555555555555556, \"#d8576b\"], [0.6666666666666666, \"#ed7953\"], [0.7777777777777778, \"#fb9f3a\"], [0.8888888888888888, \"#fdca26\"], [1.0, \"#f0f921\"]], \"type\": \"contour\"}], \"contourcarpet\": [{\"colorbar\": {\"outlinewidth\": 0, \"ticks\": \"\"}, \"type\": \"contourcarpet\"}], \"heatmap\": [{\"colorbar\": {\"outlinewidth\": 0, \"ticks\": \"\"}, \"colorscale\": [[0.0, \"#0d0887\"], [0.1111111111111111, \"#46039f\"], [0.2222222222222222, \"#7201a8\"], [0.3333333333333333, \"#9c179e\"], [0.4444444444444444, \"#bd3786\"], [0.5555555555555556, \"#d8576b\"], [0.6666666666666666, \"#ed7953\"], [0.7777777777777778, \"#fb9f3a\"], [0.8888888888888888, \"#fdca26\"], [1.0, \"#f0f921\"]], \"type\": \"heatmap\"}], \"heatmapgl\": [{\"colorbar\": {\"outlinewidth\": 0, \"ticks\": \"\"}, \"colorscale\": [[0.0, \"#0d0887\"], [0.1111111111111111, \"#46039f\"], [0.2222222222222222, \"#7201a8\"], [0.3333333333333333, \"#9c179e\"], [0.4444444444444444, \"#bd3786\"], [0.5555555555555556, \"#d8576b\"], [0.6666666666666666, \"#ed7953\"], [0.7777777777777778, \"#fb9f3a\"], [0.8888888888888888, \"#fdca26\"], [1.0, \"#f0f921\"]], \"type\": \"heatmapgl\"}], \"histogram\": [{\"marker\": {\"colorbar\": {\"outlinewidth\": 0, \"ticks\": \"\"}}, \"type\": \"histogram\"}], \"histogram2d\": [{\"colorbar\": {\"outlinewidth\": 0, \"ticks\": \"\"}, \"colorscale\": [[0.0, \"#0d0887\"], [0.1111111111111111, \"#46039f\"], [0.2222222222222222, \"#7201a8\"], [0.3333333333333333, \"#9c179e\"], [0.4444444444444444, \"#bd3786\"], [0.5555555555555556, \"#d8576b\"], [0.6666666666666666, \"#ed7953\"], [0.7777777777777778, \"#fb9f3a\"], [0.8888888888888888, \"#fdca26\"], [1.0, \"#f0f921\"]], \"type\": \"histogram2d\"}], \"histogram2dcontour\": [{\"colorbar\": {\"outlinewidth\": 0, \"ticks\": \"\"}, \"colorscale\": [[0.0, \"#0d0887\"], [0.1111111111111111, \"#46039f\"], [0.2222222222222222, \"#7201a8\"], [0.3333333333333333, \"#9c179e\"], [0.4444444444444444, \"#bd3786\"], [0.5555555555555556, \"#d8576b\"], [0.6666666666666666, \"#ed7953\"], [0.7777777777777778, \"#fb9f3a\"], [0.8888888888888888, \"#fdca26\"], [1.0, \"#f0f921\"]], \"type\": \"histogram2dcontour\"}], \"mesh3d\": [{\"colorbar\": {\"outlinewidth\": 0, \"ticks\": \"\"}, \"type\": \"mesh3d\"}], \"parcoords\": [{\"line\": {\"colorbar\": {\"outlinewidth\": 0, \"ticks\": \"\"}}, \"type\": \"parcoords\"}], \"pie\": [{\"automargin\": true, \"type\": \"pie\"}], \"scatter\": [{\"marker\": {\"colorbar\": {\"outlinewidth\": 0, \"ticks\": \"\"}}, \"type\": \"scatter\"}], \"scatter3d\": [{\"line\": {\"colorbar\": {\"outlinewidth\": 0, \"ticks\": \"\"}}, \"marker\": {\"colorbar\": {\"outlinewidth\": 0, \"ticks\": \"\"}}, \"type\": \"scatter3d\"}], \"scattercarpet\": [{\"marker\": {\"colorbar\": {\"outlinewidth\": 0, \"ticks\": \"\"}}, \"type\": \"scattercarpet\"}], \"scattergeo\": [{\"marker\": {\"colorbar\": {\"outlinewidth\": 0, \"ticks\": \"\"}}, \"type\": \"scattergeo\"}], \"scattergl\": [{\"marker\": {\"colorbar\": {\"outlinewidth\": 0, \"ticks\": \"\"}}, \"type\": \"scattergl\"}], \"scattermapbox\": [{\"marker\": {\"colorbar\": {\"outlinewidth\": 0, \"ticks\": \"\"}}, \"type\": \"scattermapbox\"}], \"scatterpolar\": [{\"marker\": {\"colorbar\": {\"outlinewidth\": 0, \"ticks\": \"\"}}, \"type\": \"scatterpolar\"}], \"scatterpolargl\": [{\"marker\": {\"colorbar\": {\"outlinewidth\": 0, \"ticks\": \"\"}}, \"type\": \"scatterpolargl\"}], \"scatterternary\": [{\"marker\": {\"colorbar\": {\"outlinewidth\": 0, \"ticks\": \"\"}}, \"type\": \"scatterternary\"}], \"surface\": [{\"colorbar\": {\"outlinewidth\": 0, \"ticks\": \"\"}, \"colorscale\": [[0.0, \"#0d0887\"], [0.1111111111111111, \"#46039f\"], [0.2222222222222222, \"#7201a8\"], [0.3333333333333333, \"#9c179e\"], [0.4444444444444444, \"#bd3786\"], [0.5555555555555556, \"#d8576b\"], [0.6666666666666666, \"#ed7953\"], [0.7777777777777778, \"#fb9f3a\"], [0.8888888888888888, \"#fdca26\"], [1.0, \"#f0f921\"]], \"type\": \"surface\"}], \"table\": [{\"cells\": {\"fill\": {\"color\": \"#EBF0F8\"}, \"line\": {\"color\": \"white\"}}, \"header\": {\"fill\": {\"color\": \"#C8D4E3\"}, \"line\": {\"color\": \"white\"}}, \"type\": \"table\"}]}, \"layout\": {\"annotationdefaults\": {\"arrowcolor\": \"#2a3f5f\", \"arrowhead\": 0, \"arrowwidth\": 1}, \"coloraxis\": {\"colorbar\": {\"outlinewidth\": 0, \"ticks\": \"\"}}, \"colorscale\": {\"diverging\": [[0, \"#8e0152\"], [0.1, \"#c51b7d\"], [0.2, \"#de77ae\"], [0.3, \"#f1b6da\"], [0.4, \"#fde0ef\"], [0.5, \"#f7f7f7\"], [0.6, \"#e6f5d0\"], [0.7, \"#b8e186\"], [0.8, \"#7fbc41\"], [0.9, \"#4d9221\"], [1, \"#276419\"]], \"sequential\": [[0.0, \"#0d0887\"], [0.1111111111111111, \"#46039f\"], [0.2222222222222222, \"#7201a8\"], [0.3333333333333333, \"#9c179e\"], [0.4444444444444444, \"#bd3786\"], [0.5555555555555556, \"#d8576b\"], [0.6666666666666666, \"#ed7953\"], [0.7777777777777778, \"#fb9f3a\"], [0.8888888888888888, \"#fdca26\"], [1.0, \"#f0f921\"]], \"sequentialminus\": [[0.0, \"#0d0887\"], [0.1111111111111111, \"#46039f\"], [0.2222222222222222, \"#7201a8\"], [0.3333333333333333, \"#9c179e\"], [0.4444444444444444, \"#bd3786\"], [0.5555555555555556, \"#d8576b\"], [0.6666666666666666, \"#ed7953\"], [0.7777777777777778, \"#fb9f3a\"], [0.8888888888888888, \"#fdca26\"], [1.0, \"#f0f921\"]]}, \"colorway\": [\"#636efa\", \"#EF553B\", \"#00cc96\", \"#ab63fa\", \"#FFA15A\", \"#19d3f3\", \"#FF6692\", \"#B6E880\", \"#FF97FF\", \"#FECB52\"], \"font\": {\"color\": \"#2a3f5f\"}, \"geo\": {\"bgcolor\": \"white\", \"lakecolor\": \"white\", \"landcolor\": \"#E5ECF6\", \"showlakes\": true, \"showland\": true, \"subunitcolor\": \"white\"}, \"hoverlabel\": {\"align\": \"left\"}, \"hovermode\": \"closest\", \"mapbox\": {\"style\": \"light\"}, \"paper_bgcolor\": \"white\", \"plot_bgcolor\": \"#E5ECF6\", \"polar\": {\"angularaxis\": {\"gridcolor\": \"white\", \"linecolor\": \"white\", \"ticks\": \"\"}, \"bgcolor\": \"#E5ECF6\", \"radialaxis\": {\"gridcolor\": \"white\", \"linecolor\": \"white\", \"ticks\": \"\"}}, \"scene\": {\"xaxis\": {\"backgroundcolor\": \"#E5ECF6\", \"gridcolor\": \"white\", \"gridwidth\": 2, \"linecolor\": \"white\", \"showbackground\": true, \"ticks\": \"\", \"zerolinecolor\": \"white\"}, \"yaxis\": {\"backgroundcolor\": \"#E5ECF6\", \"gridcolor\": \"white\", \"gridwidth\": 2, \"linecolor\": \"white\", \"showbackground\": true, \"ticks\": \"\", \"zerolinecolor\": \"white\"}, \"zaxis\": {\"backgroundcolor\": \"#E5ECF6\", \"gridcolor\": \"white\", \"gridwidth\": 2, \"linecolor\": \"white\", \"showbackground\": true, \"ticks\": \"\", \"zerolinecolor\": \"white\"}}, \"shapedefaults\": {\"line\": {\"color\": \"#2a3f5f\"}}, \"ternary\": {\"aaxis\": {\"gridcolor\": \"white\", \"linecolor\": \"white\", \"ticks\": \"\"}, \"baxis\": {\"gridcolor\": \"white\", \"linecolor\": \"white\", \"ticks\": \"\"}, \"bgcolor\": \"#E5ECF6\", \"caxis\": {\"gridcolor\": \"white\", \"linecolor\": \"white\", \"ticks\": \"\"}}, \"title\": {\"x\": 0.05}, \"xaxis\": {\"automargin\": true, \"gridcolor\": \"white\", \"linecolor\": \"white\", \"ticks\": \"\", \"title\": {\"standoff\": 15}, \"zerolinecolor\": \"white\", \"zerolinewidth\": 2}, \"yaxis\": {\"automargin\": true, \"gridcolor\": \"white\", \"linecolor\": \"white\", \"ticks\": \"\", \"title\": {\"standoff\": 15}, \"zerolinecolor\": \"white\", \"zerolinewidth\": 2}}}, \"title\": {\"text\": \"Correlation Heatmap\"}},\n",
       "                        {\"responsive\": true}\n",
       "                    ).then(function(){\n",
       "                            \n",
       "var gd = document.getElementById('14db5a93-c617-4121-9fd3-d7e38152bbf4');\n",
       "var x = new MutationObserver(function (mutations, observer) {{\n",
       "        var display = window.getComputedStyle(gd).display;\n",
       "        if (!display || display === 'none') {{\n",
       "            console.log([gd, 'removed!']);\n",
       "            Plotly.purge(gd);\n",
       "            observer.disconnect();\n",
       "        }}\n",
       "}});\n",
       "\n",
       "// Listen for the removal of the full notebook cells\n",
       "var notebookContainer = gd.closest('#notebook-container');\n",
       "if (notebookContainer) {{\n",
       "    x.observe(notebookContainer, {childList: true});\n",
       "}}\n",
       "\n",
       "// Listen for the clearing of the current output cell\n",
       "var outputEl = gd.closest('.output');\n",
       "if (outputEl) {{\n",
       "    x.observe(outputEl, {childList: true});\n",
       "}}\n",
       "\n",
       "                        })\n",
       "                };\n",
       "                });\n",
       "            </script>\n",
       "        </div>"
      ]
     },
     "metadata": {},
     "output_type": "display_data"
    }
   ],
   "source": [
    "import plotly.graph_objs as go\n",
    "x_vals = [\"Age\",\"Number of kids\",\"Anxiety Score\",\"Stress_Score\",\"Hours of teaching\"]\n",
    "#y = [\"Age\",\"Number of kids\",\"Anxiety Score\",\"Stress_Score\",\"Hours of teaching\"]\n",
    "z_vals =  [[1.0, 0.639276, 0.497190,0.525020,0.248525],\n",
    "                [0.63926,1.0,0.632941,0.600457,0.208731],\n",
    "                [0.497190,0.6329421,1.0,0.649154,0.198593], \n",
    "                [0.525020,0.600457,0.649154,1.0,0.243716],\n",
    "                [0.248525,0.208731,0.198593,0.243716,1.0]]\n",
    "\n",
    "trace = go.Heatmap(\n",
    "   x = x_vals,\n",
    "   y = x_vals,\n",
    "   z = z_vals,\n",
    "   type = 'heatmap',\n",
    "   colorscale = 'sunset'\n",
    ")\n",
    "data = [trace]\n",
    "fig = go.Figure(data = data)\n",
    "fig.update_layout(\n",
    "    title=\"Correlation Heatmap\")\n",
    "pyo.iplot(fig)"
   ]
  },
  {
   "cell_type": "code",
   "execution_count": 276,
   "metadata": {},
   "outputs": [
    {
     "data": {
      "text/html": [
       "<div>\n",
       "<style scoped>\n",
       "    .dataframe tbody tr th:only-of-type {\n",
       "        vertical-align: middle;\n",
       "    }\n",
       "\n",
       "    .dataframe tbody tr th {\n",
       "        vertical-align: top;\n",
       "    }\n",
       "\n",
       "    .dataframe thead th {\n",
       "        text-align: right;\n",
       "    }\n",
       "</style>\n",
       "<table border=\"1\" class=\"dataframe\">\n",
       "  <thead>\n",
       "    <tr style=\"text-align: right;\">\n",
       "      <th></th>\n",
       "      <th>Gender</th>\n",
       "      <th>Age</th>\n",
       "      <th>Marital status</th>\n",
       "      <th>children_number</th>\n",
       "      <th>Teaching class</th>\n",
       "      <th>anxiety</th>\n",
       "      <th>stress</th>\n",
       "      <th>Hrs involved in teaching</th>\n",
       "      <th>Unnamed: 8</th>\n",
       "      <th>Unnamed: 9</th>\n",
       "    </tr>\n",
       "  </thead>\n",
       "  <tbody>\n",
       "    <tr>\n",
       "      <th>0</th>\n",
       "      <td>Female</td>\n",
       "      <td>28</td>\n",
       "      <td>Married</td>\n",
       "      <td>2</td>\n",
       "      <td>Secondary</td>\n",
       "      <td>12</td>\n",
       "      <td>21</td>\n",
       "      <td>three-four</td>\n",
       "      <td>NaN</td>\n",
       "      <td>NaN</td>\n",
       "    </tr>\n",
       "    <tr>\n",
       "      <th>1</th>\n",
       "      <td>Female</td>\n",
       "      <td>39</td>\n",
       "      <td>Married</td>\n",
       "      <td>3</td>\n",
       "      <td>Secondary</td>\n",
       "      <td>10</td>\n",
       "      <td>20</td>\n",
       "      <td>three-four</td>\n",
       "      <td>NaN</td>\n",
       "      <td>NaN</td>\n",
       "    </tr>\n",
       "    <tr>\n",
       "      <th>2</th>\n",
       "      <td>Female</td>\n",
       "      <td>40</td>\n",
       "      <td>Married</td>\n",
       "      <td>3</td>\n",
       "      <td>Secondary</td>\n",
       "      <td>12</td>\n",
       "      <td>18</td>\n",
       "      <td>five -six</td>\n",
       "      <td>NaN</td>\n",
       "      <td>NaN</td>\n",
       "    </tr>\n",
       "    <tr>\n",
       "      <th>3</th>\n",
       "      <td>Female</td>\n",
       "      <td>34</td>\n",
       "      <td>Married</td>\n",
       "      <td>2</td>\n",
       "      <td>Secondary</td>\n",
       "      <td>10</td>\n",
       "      <td>20</td>\n",
       "      <td>three-four</td>\n",
       "      <td>NaN</td>\n",
       "      <td>NaN</td>\n",
       "    </tr>\n",
       "    <tr>\n",
       "      <th>4</th>\n",
       "      <td>Female</td>\n",
       "      <td>27</td>\n",
       "      <td>Married</td>\n",
       "      <td>1</td>\n",
       "      <td>Secondary</td>\n",
       "      <td>11</td>\n",
       "      <td>19</td>\n",
       "      <td>three-four</td>\n",
       "      <td>NaN</td>\n",
       "      <td>NaN</td>\n",
       "    </tr>\n",
       "    <tr>\n",
       "      <th>...</th>\n",
       "      <td>...</td>\n",
       "      <td>...</td>\n",
       "      <td>...</td>\n",
       "      <td>...</td>\n",
       "      <td>...</td>\n",
       "      <td>...</td>\n",
       "      <td>...</td>\n",
       "      <td>...</td>\n",
       "      <td>...</td>\n",
       "      <td>...</td>\n",
       "    </tr>\n",
       "    <tr>\n",
       "      <th>534</th>\n",
       "      <td>Male</td>\n",
       "      <td>55</td>\n",
       "      <td>Married</td>\n",
       "      <td>2</td>\n",
       "      <td>Pre primary</td>\n",
       "      <td>14</td>\n",
       "      <td>34</td>\n",
       "      <td>Three-Four</td>\n",
       "      <td>NaN</td>\n",
       "      <td>NaN</td>\n",
       "    </tr>\n",
       "    <tr>\n",
       "      <th>535</th>\n",
       "      <td>Male</td>\n",
       "      <td>40</td>\n",
       "      <td>Married</td>\n",
       "      <td>2</td>\n",
       "      <td>Pre primary</td>\n",
       "      <td>11</td>\n",
       "      <td>32</td>\n",
       "      <td>Three-Four</td>\n",
       "      <td>NaN</td>\n",
       "      <td>NaN</td>\n",
       "    </tr>\n",
       "    <tr>\n",
       "      <th>536</th>\n",
       "      <td>Female</td>\n",
       "      <td>43</td>\n",
       "      <td>Married</td>\n",
       "      <td>2</td>\n",
       "      <td>Pre primary</td>\n",
       "      <td>10</td>\n",
       "      <td>29</td>\n",
       "      <td>Three-Four</td>\n",
       "      <td>NaN</td>\n",
       "      <td>NaN</td>\n",
       "    </tr>\n",
       "    <tr>\n",
       "      <th>537</th>\n",
       "      <td>Female</td>\n",
       "      <td>60</td>\n",
       "      <td>Married</td>\n",
       "      <td>2</td>\n",
       "      <td>Pre primary</td>\n",
       "      <td>14</td>\n",
       "      <td>28</td>\n",
       "      <td>Three-Four</td>\n",
       "      <td>NaN</td>\n",
       "      <td>NaN</td>\n",
       "    </tr>\n",
       "    <tr>\n",
       "      <th>538</th>\n",
       "      <td>Female</td>\n",
       "      <td>40</td>\n",
       "      <td>Married</td>\n",
       "      <td>2</td>\n",
       "      <td>Pre primary</td>\n",
       "      <td>11</td>\n",
       "      <td>31</td>\n",
       "      <td>Three-Four</td>\n",
       "      <td>NaN</td>\n",
       "      <td>NaN</td>\n",
       "    </tr>\n",
       "  </tbody>\n",
       "</table>\n",
       "<p>539 rows × 10 columns</p>\n",
       "</div>"
      ],
      "text/plain": [
       "     Gender  Age Marital status  children_number Teaching class  anxiety  \\\n",
       "0    Female   28        Married                2      Secondary       12   \n",
       "1    Female   39        Married                3      Secondary       10   \n",
       "2    Female   40        Married                3      Secondary       12   \n",
       "3    Female   34        Married                2      Secondary       10   \n",
       "4    Female   27        Married                1      Secondary       11   \n",
       "..      ...  ...            ...              ...            ...      ...   \n",
       "534    Male   55        Married                2   Pre primary        14   \n",
       "535    Male   40        Married                2   Pre primary        11   \n",
       "536  Female   43        Married                2   Pre primary        10   \n",
       "537  Female   60        Married                2   Pre primary        14   \n",
       "538  Female   40        Married                2   Pre primary        11   \n",
       "\n",
       "     stress Hrs involved in teaching  Unnamed: 8  Unnamed: 9  \n",
       "0        21               three-four         NaN         NaN  \n",
       "1        20               three-four         NaN         NaN  \n",
       "2        18                five -six         NaN         NaN  \n",
       "3        20               three-four         NaN         NaN  \n",
       "4        19               three-four         NaN         NaN  \n",
       "..      ...                      ...         ...         ...  \n",
       "534      34               Three-Four         NaN         NaN  \n",
       "535      32               Three-Four         NaN         NaN  \n",
       "536      29               Three-Four         NaN         NaN  \n",
       "537      28               Three-Four         NaN         NaN  \n",
       "538      31               Three-Four         NaN         NaN  \n",
       "\n",
       "[539 rows x 10 columns]"
      ]
     },
     "execution_count": 276,
     "metadata": {},
     "output_type": "execute_result"
    }
   ],
   "source": [
    "df = pd.read_csv('teachers.csv')\n",
    "df = df.rename(columns={\"Stress Score\": \"stress\", \"Anxiety Score\": \"anxiety\", \"No of children\":\"children_number\"})\n",
    "df"
   ]
  },
  {
   "cell_type": "code",
   "execution_count": 277,
   "metadata": {},
   "outputs": [
    {
     "data": {
      "text/plain": [
       "array(['Female', 'Male'], dtype=object)"
      ]
     },
     "execution_count": 277,
     "metadata": {},
     "output_type": "execute_result"
    }
   ],
   "source": [
    "df['Gender'].unique()"
   ]
  },
  {
   "cell_type": "code",
   "execution_count": 278,
   "metadata": {},
   "outputs": [],
   "source": [
    "df['Gender'] = df['Gender'].replace(['Female','Male'], [1,0])"
   ]
  },
  {
   "cell_type": "code",
   "execution_count": 284,
   "metadata": {},
   "outputs": [
    {
     "name": "stdout",
     "output_type": "stream",
     "text": [
      "3-D plot (Stress, Anxiety and Age)\n"
     ]
    },
    {
     "data": {
      "application/vnd.plotly.v1+json": {
       "config": {
        "linkText": "Export to plot.ly",
        "plotlyServerURL": "https://plot.ly",
        "showLink": false
       },
       "data": [
        {
         "marker": {
          "color": [
           1,
           1,
           1,
           1,
           1,
           1,
           1,
           1,
           1,
           0,
           0,
           1,
           1,
           1,
           1,
           1,
           1,
           1,
           1,
           1,
           1,
           1,
           1,
           1,
           1,
           1,
           1,
           1,
           1,
           1,
           1,
           1,
           1,
           1,
           1,
           1,
           1,
           0,
           0,
           1,
           1,
           1,
           1,
           1,
           0,
           1,
           1,
           0,
           1,
           1,
           0,
           1,
           1,
           1,
           1,
           1,
           0,
           0,
           0,
           0,
           0,
           0,
           0,
           0,
           0,
           0,
           1,
           1,
           1,
           1,
           0,
           0,
           0,
           1,
           1,
           1,
           1,
           1,
           0,
           0,
           1,
           1,
           0,
           1,
           0,
           0,
           1,
           0,
           1,
           1,
           1,
           1,
           1,
           1,
           1,
           1,
           1,
           1,
           1,
           1,
           1,
           1,
           1,
           1,
           1,
           1,
           1,
           1,
           1,
           1,
           1,
           0,
           1,
           0,
           1,
           1,
           1,
           1,
           1,
           0,
           1,
           1,
           1,
           1,
           1,
           1,
           1,
           1,
           1,
           1,
           1,
           1,
           0,
           1,
           1,
           1,
           1,
           0,
           1,
           1,
           1,
           1,
           0,
           0,
           1,
           1,
           1,
           1,
           1,
           1,
           1,
           1,
           1,
           1,
           1,
           1,
           1,
           1,
           1,
           1,
           1,
           1,
           1,
           1,
           1,
           0,
           1,
           1,
           1,
           0,
           0,
           1,
           1,
           0,
           0,
           1,
           1,
           1,
           1,
           1,
           1,
           1,
           1,
           1,
           1,
           1,
           1,
           1,
           1,
           1,
           1,
           1,
           1,
           1,
           1,
           1,
           1,
           1,
           1,
           1,
           1,
           1,
           1,
           1,
           1,
           1,
           0,
           0,
           1,
           1,
           1,
           1,
           1,
           1,
           1,
           1,
           1,
           1,
           1,
           1,
           1,
           1,
           1,
           1,
           0,
           1,
           1,
           1,
           1,
           1,
           1,
           0,
           0,
           0,
           0,
           1,
           1,
           1,
           1,
           1,
           1,
           1,
           1,
           1,
           1,
           1,
           1,
           1,
           0,
           1,
           1,
           1,
           1,
           1,
           1,
           1,
           0,
           1,
           1,
           1,
           1,
           1,
           1,
           1,
           1,
           1,
           1,
           1,
           1,
           1,
           1,
           1,
           1,
           1,
           1,
           1,
           1,
           1,
           1,
           1,
           0,
           0,
           1,
           1,
           1,
           1,
           1,
           1,
           1,
           1,
           1,
           1,
           1,
           1,
           1,
           1,
           0,
           1,
           1,
           1,
           1,
           1,
           1,
           1,
           1,
           1,
           1,
           1,
           1,
           1,
           0,
           1,
           1,
           1,
           1,
           1,
           0,
           0,
           0,
           0,
           1,
           1,
           1,
           1,
           1,
           1,
           1,
           1,
           1,
           0,
           1,
           1,
           0,
           0,
           1,
           1,
           0,
           0,
           1,
           1,
           1,
           1,
           1,
           1,
           1,
           1,
           1,
           1,
           1,
           1,
           1,
           1,
           1,
           1,
           1,
           1,
           1,
           1,
           1,
           1,
           1,
           1,
           1,
           1,
           1,
           1,
           1,
           1,
           1,
           1,
           1,
           1,
           1,
           1,
           0,
           1,
           0,
           1,
           1,
           1,
           1,
           1,
           1,
           1,
           0,
           1,
           1,
           1,
           1,
           1,
           1,
           1,
           1,
           0,
           1,
           1,
           1,
           1,
           0,
           0,
           0,
           0,
           0,
           0,
           0,
           0,
           0,
           0,
           0,
           0,
           0,
           0,
           0,
           0,
           0,
           0,
           1,
           1,
           1,
           1,
           1,
           0,
           1,
           1,
           1,
           0,
           1,
           1,
           1,
           1,
           1,
           1,
           1,
           1,
           1,
           1,
           1,
           1,
           1,
           1,
           1,
           1,
           1,
           1,
           1,
           1,
           1,
           1,
           1,
           0,
           1,
           1,
           1,
           1,
           1,
           1,
           1,
           1,
           1,
           1,
           1,
           0,
           1,
           1,
           1,
           0,
           1,
           0,
           0,
           1,
           1,
           0,
           0,
           1,
           0,
           0,
           1,
           0,
           1,
           0,
           1,
           1,
           1,
           1,
           1,
           1,
           0,
           0,
           1,
           0,
           0,
           1,
           0,
           1,
           0,
           1,
           0,
           0,
           0,
           1,
           1,
           0,
           0,
           1,
           1,
           0,
           1,
           0,
           0,
           1,
           0,
           0,
           0,
           0,
           1,
           0,
           0,
           1,
           1,
           0,
           0,
           0,
           0,
           0,
           0,
           0,
           1,
           0,
           0,
           1,
           0,
           0,
           1,
           0,
           0,
           0,
           1,
           1,
           1
          ],
          "colorscale": [
           [
            0,
            "rgb(243, 231, 155)"
           ],
           [
            0.16666666666666666,
            "rgb(250, 196, 132)"
           ],
           [
            0.3333333333333333,
            "rgb(248, 160, 126)"
           ],
           [
            0.5,
            "rgb(235, 127, 134)"
           ],
           [
            0.6666666666666666,
            "rgb(206, 102, 147)"
           ],
           [
            0.8333333333333334,
            "rgb(160, 89, 160)"
           ],
           [
            1,
            "rgb(92, 83, 165)"
           ]
          ],
          "opacity": 0.7,
          "size": 10
         },
         "mode": "markers",
         "type": "scatter3d",
         "x": [
          21,
          20,
          18,
          20,
          19,
          24,
          20,
          26,
          6,
          7,
          7,
          32,
          6,
          25,
          18,
          20,
          27,
          26,
          21,
          21,
          20,
          20,
          23,
          21,
          23,
          19,
          22,
          22,
          21,
          23,
          21,
          20,
          19,
          23,
          20,
          18,
          14,
          16,
          22,
          21,
          23,
          26,
          14,
          21,
          22,
          20,
          21,
          21,
          6,
          30,
          8,
          29,
          22,
          19,
          18,
          19,
          21,
          20,
          19,
          19,
          20,
          20,
          23,
          18,
          19,
          24,
          15,
          17,
          14,
          22,
          16,
          17,
          16,
          14,
          16,
          19,
          26,
          23,
          4,
          4,
          5,
          30,
          6,
          5,
          7,
          5,
          29,
          7,
          32,
          29,
          25,
          26,
          23,
          18,
          28,
          27,
          29,
          27,
          35,
          29,
          27,
          34,
          31,
          29,
          27,
          31,
          32,
          28,
          33,
          28,
          30,
          21,
          20,
          18,
          20,
          29,
          30,
          32,
          28,
          29,
          27,
          28,
          28,
          29,
          31,
          30,
          29,
          28,
          29,
          28,
          26,
          14,
          21,
          22,
          20,
          21,
          21,
          22,
          19,
          18,
          19,
          5,
          7,
          6,
          21,
          20,
          19,
          19,
          20,
          6,
          13,
          20,
          19,
          20,
          21,
          23,
          18,
          19,
          24,
          15,
          17,
          14,
          22,
          6,
          8,
          7,
          7,
          4,
          6,
          7,
          6,
          11,
          2,
          5,
          6,
          16,
          17,
          16,
          14,
          16,
          19,
          26,
          24,
          25,
          19,
          23,
          24,
          26,
          24,
          23,
          24,
          26,
          23,
          25,
          26,
          23,
          18,
          24,
          25,
          25,
          15,
          24,
          17,
          21,
          19,
          22,
          7,
          6,
          17,
          19,
          22,
          19,
          18,
          19,
          23,
          24,
          26,
          24,
          23,
          24,
          26,
          18,
          21,
          20,
          18,
          25,
          15,
          24,
          20,
          18,
          7,
          6,
          5,
          20,
          19,
          24,
          18,
          14,
          19,
          19,
          18,
          20,
          26,
          25,
          18,
          20,
          19,
          26,
          14,
          16,
          23,
          25,
          26,
          23,
          5,
          0,
          8,
          6,
          18,
          24,
          25,
          19,
          20,
          21,
          19,
          22,
          19,
          19,
          26,
          25,
          15,
          24,
          17,
          19,
          20,
          21,
          19,
          22,
          19,
          22,
          19,
          18,
          21,
          34,
          19,
          24,
          20,
          26,
          25,
          18,
          20,
          19,
          19,
          26,
          23,
          25,
          26,
          23,
          5,
          18,
          24,
          25,
          19,
          20,
          21,
          19,
          22,
          19,
          26,
          25,
          15,
          24,
          17,
          19,
          20,
          21,
          4,
          5,
          19,
          20,
          20,
          18,
          19,
          20,
          26,
          25,
          24,
          20,
          26,
          25,
          18,
          20,
          19,
          26,
          21,
          21,
          37,
          27,
          28,
          39,
          40,
          34,
          27,
          36,
          35,
          27,
          30,
          31,
          29,
          33,
          34,
          29,
          27,
          28,
          29,
          32,
          29,
          30,
          35,
          27,
          30,
          31,
          32,
          28,
          31,
          29,
          37,
          28,
          34,
          33,
          28,
          20,
          20,
          10,
          7,
          23,
          21,
          20,
          18,
          20,
          20,
          18,
          20,
          5,
          5,
          19,
          24,
          21,
          23,
          19,
          22,
          22,
          21,
          23,
          21,
          20,
          19,
          23,
          20,
          7,
          9,
          29,
          32,
          30,
          28,
          34,
          29,
          31,
          6,
          18,
          14,
          16,
          22,
          21,
          23,
          8,
          6,
          26,
          14,
          21,
          22,
          20,
          38,
          21,
          21,
          6,
          22,
          29,
          32,
          34,
          28,
          31,
          35,
          29,
          29,
          30,
          28,
          32,
          31,
          33,
          32,
          32,
          28,
          36,
          32,
          19,
          18,
          19,
          25,
          15,
          24,
          34,
          28,
          27,
          29,
          29,
          34,
          29,
          30,
          27,
          17,
          18,
          13,
          21,
          12,
          7,
          8,
          20,
          21,
          15,
          8,
          17,
          4,
          4,
          4,
          8,
          15,
          3,
          24,
          8,
          26,
          14,
          7,
          10,
          12,
          8,
          6,
          5,
          3,
          11,
          7,
          11,
          5,
          6,
          9,
          8,
          7,
          8,
          10,
          5,
          4,
          6,
          4,
          7,
          5,
          7,
          7,
          6,
          6,
          4,
          7,
          6,
          4,
          0,
          4,
          7,
          6,
          6,
          7,
          7,
          7,
          6,
          6,
          5,
          5,
          8,
          7,
          6,
          7,
          5,
          7,
          6,
          6,
          29,
          34,
          32,
          29,
          28,
          31
         ],
         "y": [
          12,
          10,
          12,
          10,
          11,
          10,
          10,
          14,
          3,
          4,
          4,
          15,
          4,
          12,
          13,
          14,
          17,
          11,
          10,
          10,
          10,
          12,
          13,
          10,
          10,
          13,
          14,
          14,
          14,
          14,
          14,
          13,
          12,
          14,
          11,
          10,
          14,
          11,
          10,
          14,
          11,
          14,
          13,
          12,
          10,
          12,
          10,
          11,
          3,
          18,
          4,
          17,
          10,
          10,
          14,
          12,
          13,
          14,
          13,
          14,
          13,
          14,
          12,
          10,
          11,
          12,
          10,
          11,
          12,
          11,
          10,
          11,
          10,
          10,
          10,
          12,
          10,
          11,
          3,
          4,
          0,
          16,
          4,
          1,
          3,
          2,
          20,
          4,
          21,
          15,
          10,
          10,
          10,
          12,
          16,
          18,
          19,
          17,
          10,
          14,
          11,
          14,
          13,
          12,
          10,
          12,
          15,
          10,
          11,
          10,
          10,
          5,
          8,
          6,
          5,
          14,
          12,
          13,
          14,
          13,
          14,
          13,
          15,
          14,
          12,
          10,
          11,
          12,
          10,
          11,
          12,
          11,
          10,
          11,
          10,
          10,
          10,
          12,
          13,
          10,
          10,
          7,
          5,
          8,
          13,
          14,
          14,
          14,
          14,
          7,
          7,
          14,
          14,
          11,
          10,
          13,
          12,
          14,
          11,
          10,
          14,
          11,
          10,
          5,
          8,
          6,
          5,
          6,
          3,
          2,
          6,
          6,
          6,
          7,
          6,
          14,
          11,
          14,
          13,
          12,
          10,
          12,
          13,
          10,
          10,
          13,
          14,
          14,
          14,
          14,
          14,
          13,
          10,
          11,
          10,
          10,
          14,
          12,
          13,
          12,
          14,
          11,
          12,
          7,
          6,
          7,
          7,
          5,
          10,
          14,
          11,
          14,
          13,
          14,
          13,
          14,
          13,
          14,
          12,
          10,
          11,
          5,
          5,
          7,
          5,
          12,
          10,
          11,
          6,
          7,
          3,
          4,
          4,
          7,
          6,
          6,
          7,
          9,
          9,
          10,
          12,
          14,
          14,
          14,
          13,
          12,
          14,
          11,
          6,
          5,
          10,
          14,
          11,
          10,
          7,
          6,
          8,
          7,
          14,
          11,
          14,
          6,
          7,
          9,
          5,
          5,
          8,
          13,
          12,
          10,
          12,
          10,
          11,
          10,
          10,
          14,
          12,
          13,
          7,
          7,
          14,
          13,
          14,
          12,
          10,
          11,
          12,
          10,
          11,
          12,
          11,
          10,
          9,
          7,
          7,
          8,
          6,
          7,
          6,
          7,
          6,
          5,
          11,
          10,
          11,
          10,
          10,
          9,
          7,
          5,
          8,
          9,
          7,
          6,
          8,
          10,
          6,
          7,
          6,
          6,
          8,
          5,
          6,
          8,
          7,
          6,
          7,
          7,
          6,
          5,
          7,
          7,
          6,
          6,
          8,
          8,
          16,
          15,
          15,
          15,
          17,
          15,
          11,
          13,
          12,
          13,
          10,
          10,
          13,
          14,
          14,
          14,
          14,
          14,
          13,
          12,
          14,
          11,
          10,
          14,
          11,
          10,
          14,
          13,
          10,
          12,
          10,
          11,
          10,
          14,
          11,
          7,
          8,
          9,
          5,
          5,
          13,
          10,
          10,
          13,
          13,
          14,
          12,
          5,
          6,
          14,
          14,
          6,
          5,
          6,
          6,
          7,
          7,
          6,
          5,
          7,
          7,
          6,
          6,
          5,
          5,
          11,
          10,
          10,
          10,
          15,
          12,
          13,
          8,
          8,
          8,
          7,
          6,
          8,
          7,
          7,
          5,
          10,
          7,
          9,
          5,
          5,
          18,
          8,
          6,
          6,
          5,
          14,
          12,
          13,
          14,
          13,
          14,
          13,
          14,
          12,
          10,
          11,
          10,
          12,
          10,
          11,
          12,
          11,
          10,
          6,
          7,
          7,
          6,
          6,
          8,
          10,
          10,
          13,
          14,
          14,
          14,
          14,
          14,
          13,
          7,
          6,
          7,
          5,
          6,
          5,
          8,
          5,
          5,
          8,
          8,
          6,
          4,
          3,
          3,
          4,
          7,
          5,
          7,
          8,
          6,
          6,
          8,
          7,
          6,
          6,
          7,
          9,
          6,
          6,
          7,
          7,
          6,
          7,
          9,
          6,
          7,
          6,
          5,
          6,
          6,
          7,
          7,
          9,
          8,
          6,
          5,
          6,
          7,
          7,
          5,
          5,
          6,
          5,
          7,
          6,
          7,
          9,
          5,
          5,
          5,
          8,
          6,
          5,
          7,
          6,
          3,
          5,
          8,
          3,
          4,
          4,
          4,
          12,
          14,
          11,
          10,
          14,
          11
         ],
         "z": [
          28,
          39,
          40,
          34,
          27,
          36,
          35,
          27,
          25,
          26,
          25,
          52,
          32,
          30,
          31,
          29,
          57,
          29,
          32,
          34,
          28,
          31,
          35,
          29,
          29,
          30,
          28,
          32,
          33,
          32,
          32,
          28,
          36,
          32,
          29,
          32,
          30,
          28,
          29,
          31,
          34,
          28,
          27,
          29,
          29,
          34,
          29,
          30,
          28,
          58,
          29,
          54,
          27,
          29,
          34,
          32,
          29,
          28,
          31,
          35,
          29,
          27,
          34,
          31,
          29,
          27,
          31,
          28,
          33,
          28,
          30,
          29,
          30,
          32,
          28,
          29,
          27,
          28,
          27,
          25,
          25,
          56,
          25,
          25,
          29,
          26,
          56,
          30,
          52,
          59,
          29,
          31,
          30,
          29,
          58,
          53,
          55,
          51,
          40,
          41,
          57,
          40,
          40,
          50,
          40,
          45,
          45,
          60,
          52,
          42,
          40,
          30,
          28,
          32,
          33,
          42,
          45,
          40,
          40,
          40,
          42,
          41,
          52,
          42,
          45,
          43,
          44,
          41,
          42,
          40,
          42,
          45,
          42,
          41,
          41,
          40,
          42,
          41,
          42,
          45,
          43,
          38,
          29,
          29,
          44,
          41,
          42,
          40,
          42,
          32,
          29,
          45,
          29,
          30,
          27,
          42,
          41,
          41,
          40,
          42,
          41,
          42,
          45,
          45,
          42,
          43,
          44,
          30,
          31,
          30,
          30,
          54,
          32,
          33,
          32,
          43,
          44,
          41,
          42,
          40,
          42,
          45,
          28,
          29,
          28,
          27,
          32,
          29,
          30,
          32,
          28,
          29,
          42,
          41,
          41,
          40,
          42,
          41,
          42,
          27,
          28,
          29,
          29,
          28,
          31,
          35,
          28,
          36,
          32,
          34,
          38,
          37,
          29,
          30,
          35,
          27,
          30,
          31,
          33,
          28,
          32,
          28,
          34,
          31,
          29,
          28,
          34,
          31,
          30,
          32,
          29,
          28,
          29,
          28,
          29,
          27,
          29,
          30,
          29,
          32,
          27,
          34,
          38,
          37,
          27,
          28,
          39,
          40,
          37,
          27,
          34,
          27,
          36,
          35,
          32,
          30,
          28,
          29,
          27,
          30,
          31,
          30,
          29,
          28,
          29,
          28,
          27,
          29,
          33,
          34,
          29,
          27,
          28,
          29,
          32,
          29,
          30,
          35,
          31,
          29,
          27,
          30,
          31,
          53,
          28,
          34,
          31,
          29,
          37,
          28,
          34,
          31,
          33,
          34,
          29,
          27,
          28,
          29,
          27,
          32,
          29,
          30,
          37,
          28,
          34,
          31,
          29,
          35,
          27,
          30,
          31,
          33,
          28,
          32,
          28,
          34,
          31,
          35,
          37,
          32,
          34,
          29,
          32,
          28,
          29,
          32,
          32,
          28,
          36,
          32,
          29,
          32,
          30,
          28,
          29,
          31,
          50,
          50,
          51,
          55,
          50,
          56,
          50,
          45,
          45,
          42,
          45,
          41,
          40,
          45,
          41,
          43,
          45,
          48,
          40,
          46,
          48,
          40,
          47,
          48,
          55,
          54,
          40,
          42,
          52,
          42,
          53,
          40,
          40,
          56,
          54,
          34,
          28,
          31,
          35,
          27,
          28,
          29,
          32,
          29,
          33,
          28,
          32,
          28,
          29,
          30,
          27,
          29,
          29,
          34,
          29,
          30,
          27,
          29,
          34,
          32,
          29,
          28,
          31,
          29,
          33,
          50,
          50,
          41,
          41,
          58,
          40,
          45,
          34,
          35,
          29,
          27,
          34,
          31,
          29,
          27,
          28,
          27,
          31,
          28,
          33,
          28,
          53,
          30,
          29,
          27,
          30,
          47,
          42,
          40,
          41,
          49,
          45,
          42,
          45,
          47,
          42,
          40,
          40,
          48,
          48,
          40,
          53,
          43,
          50,
          32,
          28,
          29,
          27,
          28,
          29,
          40,
          42,
          40,
          50,
          40,
          31,
          32,
          42,
          41,
          31,
          32,
          32,
          29,
          32,
          28,
          28,
          27,
          34,
          38,
          43,
          28,
          25,
          29,
          27,
          26,
          39,
          29,
          40,
          29,
          34,
          27,
          36,
          35,
          45,
          27,
          30,
          31,
          32,
          28,
          29,
          44,
          41,
          42,
          40,
          32,
          32,
          29,
          27,
          31,
          34,
          34,
          49,
          28,
          29,
          34,
          52,
          30,
          27,
          29,
          29,
          29,
          32,
          27,
          28,
          31,
          33,
          29,
          27,
          34,
          30,
          31,
          29,
          27,
          28,
          28,
          28,
          29,
          30,
          29,
          30,
          35,
          26,
          50,
          55,
          40,
          43,
          60,
          40
         ]
        }
       ],
       "layout": {
        "margin": {
         "b": 0,
         "l": 0,
         "r": 0,
         "t": 0
        },
        "scene": {
         "xaxis": {
          "title": {
           "text": "Stress Score"
          }
         },
         "yaxis": {
          "title": {
           "text": "Anxiety Score"
          }
         },
         "zaxis": {
          "title": {
           "text": "Age"
          }
         }
        },
        "template": {
         "data": {
          "bar": [
           {
            "error_x": {
             "color": "#2a3f5f"
            },
            "error_y": {
             "color": "#2a3f5f"
            },
            "marker": {
             "line": {
              "color": "#E5ECF6",
              "width": 0.5
             }
            },
            "type": "bar"
           }
          ],
          "barpolar": [
           {
            "marker": {
             "line": {
              "color": "#E5ECF6",
              "width": 0.5
             }
            },
            "type": "barpolar"
           }
          ],
          "carpet": [
           {
            "aaxis": {
             "endlinecolor": "#2a3f5f",
             "gridcolor": "white",
             "linecolor": "white",
             "minorgridcolor": "white",
             "startlinecolor": "#2a3f5f"
            },
            "baxis": {
             "endlinecolor": "#2a3f5f",
             "gridcolor": "white",
             "linecolor": "white",
             "minorgridcolor": "white",
             "startlinecolor": "#2a3f5f"
            },
            "type": "carpet"
           }
          ],
          "choropleth": [
           {
            "colorbar": {
             "outlinewidth": 0,
             "ticks": ""
            },
            "type": "choropleth"
           }
          ],
          "contour": [
           {
            "colorbar": {
             "outlinewidth": 0,
             "ticks": ""
            },
            "colorscale": [
             [
              0,
              "#0d0887"
             ],
             [
              0.1111111111111111,
              "#46039f"
             ],
             [
              0.2222222222222222,
              "#7201a8"
             ],
             [
              0.3333333333333333,
              "#9c179e"
             ],
             [
              0.4444444444444444,
              "#bd3786"
             ],
             [
              0.5555555555555556,
              "#d8576b"
             ],
             [
              0.6666666666666666,
              "#ed7953"
             ],
             [
              0.7777777777777778,
              "#fb9f3a"
             ],
             [
              0.8888888888888888,
              "#fdca26"
             ],
             [
              1,
              "#f0f921"
             ]
            ],
            "type": "contour"
           }
          ],
          "contourcarpet": [
           {
            "colorbar": {
             "outlinewidth": 0,
             "ticks": ""
            },
            "type": "contourcarpet"
           }
          ],
          "heatmap": [
           {
            "colorbar": {
             "outlinewidth": 0,
             "ticks": ""
            },
            "colorscale": [
             [
              0,
              "#0d0887"
             ],
             [
              0.1111111111111111,
              "#46039f"
             ],
             [
              0.2222222222222222,
              "#7201a8"
             ],
             [
              0.3333333333333333,
              "#9c179e"
             ],
             [
              0.4444444444444444,
              "#bd3786"
             ],
             [
              0.5555555555555556,
              "#d8576b"
             ],
             [
              0.6666666666666666,
              "#ed7953"
             ],
             [
              0.7777777777777778,
              "#fb9f3a"
             ],
             [
              0.8888888888888888,
              "#fdca26"
             ],
             [
              1,
              "#f0f921"
             ]
            ],
            "type": "heatmap"
           }
          ],
          "heatmapgl": [
           {
            "colorbar": {
             "outlinewidth": 0,
             "ticks": ""
            },
            "colorscale": [
             [
              0,
              "#0d0887"
             ],
             [
              0.1111111111111111,
              "#46039f"
             ],
             [
              0.2222222222222222,
              "#7201a8"
             ],
             [
              0.3333333333333333,
              "#9c179e"
             ],
             [
              0.4444444444444444,
              "#bd3786"
             ],
             [
              0.5555555555555556,
              "#d8576b"
             ],
             [
              0.6666666666666666,
              "#ed7953"
             ],
             [
              0.7777777777777778,
              "#fb9f3a"
             ],
             [
              0.8888888888888888,
              "#fdca26"
             ],
             [
              1,
              "#f0f921"
             ]
            ],
            "type": "heatmapgl"
           }
          ],
          "histogram": [
           {
            "marker": {
             "colorbar": {
              "outlinewidth": 0,
              "ticks": ""
             }
            },
            "type": "histogram"
           }
          ],
          "histogram2d": [
           {
            "colorbar": {
             "outlinewidth": 0,
             "ticks": ""
            },
            "colorscale": [
             [
              0,
              "#0d0887"
             ],
             [
              0.1111111111111111,
              "#46039f"
             ],
             [
              0.2222222222222222,
              "#7201a8"
             ],
             [
              0.3333333333333333,
              "#9c179e"
             ],
             [
              0.4444444444444444,
              "#bd3786"
             ],
             [
              0.5555555555555556,
              "#d8576b"
             ],
             [
              0.6666666666666666,
              "#ed7953"
             ],
             [
              0.7777777777777778,
              "#fb9f3a"
             ],
             [
              0.8888888888888888,
              "#fdca26"
             ],
             [
              1,
              "#f0f921"
             ]
            ],
            "type": "histogram2d"
           }
          ],
          "histogram2dcontour": [
           {
            "colorbar": {
             "outlinewidth": 0,
             "ticks": ""
            },
            "colorscale": [
             [
              0,
              "#0d0887"
             ],
             [
              0.1111111111111111,
              "#46039f"
             ],
             [
              0.2222222222222222,
              "#7201a8"
             ],
             [
              0.3333333333333333,
              "#9c179e"
             ],
             [
              0.4444444444444444,
              "#bd3786"
             ],
             [
              0.5555555555555556,
              "#d8576b"
             ],
             [
              0.6666666666666666,
              "#ed7953"
             ],
             [
              0.7777777777777778,
              "#fb9f3a"
             ],
             [
              0.8888888888888888,
              "#fdca26"
             ],
             [
              1,
              "#f0f921"
             ]
            ],
            "type": "histogram2dcontour"
           }
          ],
          "mesh3d": [
           {
            "colorbar": {
             "outlinewidth": 0,
             "ticks": ""
            },
            "type": "mesh3d"
           }
          ],
          "parcoords": [
           {
            "line": {
             "colorbar": {
              "outlinewidth": 0,
              "ticks": ""
             }
            },
            "type": "parcoords"
           }
          ],
          "pie": [
           {
            "automargin": true,
            "type": "pie"
           }
          ],
          "scatter": [
           {
            "marker": {
             "colorbar": {
              "outlinewidth": 0,
              "ticks": ""
             }
            },
            "type": "scatter"
           }
          ],
          "scatter3d": [
           {
            "line": {
             "colorbar": {
              "outlinewidth": 0,
              "ticks": ""
             }
            },
            "marker": {
             "colorbar": {
              "outlinewidth": 0,
              "ticks": ""
             }
            },
            "type": "scatter3d"
           }
          ],
          "scattercarpet": [
           {
            "marker": {
             "colorbar": {
              "outlinewidth": 0,
              "ticks": ""
             }
            },
            "type": "scattercarpet"
           }
          ],
          "scattergeo": [
           {
            "marker": {
             "colorbar": {
              "outlinewidth": 0,
              "ticks": ""
             }
            },
            "type": "scattergeo"
           }
          ],
          "scattergl": [
           {
            "marker": {
             "colorbar": {
              "outlinewidth": 0,
              "ticks": ""
             }
            },
            "type": "scattergl"
           }
          ],
          "scattermapbox": [
           {
            "marker": {
             "colorbar": {
              "outlinewidth": 0,
              "ticks": ""
             }
            },
            "type": "scattermapbox"
           }
          ],
          "scatterpolar": [
           {
            "marker": {
             "colorbar": {
              "outlinewidth": 0,
              "ticks": ""
             }
            },
            "type": "scatterpolar"
           }
          ],
          "scatterpolargl": [
           {
            "marker": {
             "colorbar": {
              "outlinewidth": 0,
              "ticks": ""
             }
            },
            "type": "scatterpolargl"
           }
          ],
          "scatterternary": [
           {
            "marker": {
             "colorbar": {
              "outlinewidth": 0,
              "ticks": ""
             }
            },
            "type": "scatterternary"
           }
          ],
          "surface": [
           {
            "colorbar": {
             "outlinewidth": 0,
             "ticks": ""
            },
            "colorscale": [
             [
              0,
              "#0d0887"
             ],
             [
              0.1111111111111111,
              "#46039f"
             ],
             [
              0.2222222222222222,
              "#7201a8"
             ],
             [
              0.3333333333333333,
              "#9c179e"
             ],
             [
              0.4444444444444444,
              "#bd3786"
             ],
             [
              0.5555555555555556,
              "#d8576b"
             ],
             [
              0.6666666666666666,
              "#ed7953"
             ],
             [
              0.7777777777777778,
              "#fb9f3a"
             ],
             [
              0.8888888888888888,
              "#fdca26"
             ],
             [
              1,
              "#f0f921"
             ]
            ],
            "type": "surface"
           }
          ],
          "table": [
           {
            "cells": {
             "fill": {
              "color": "#EBF0F8"
             },
             "line": {
              "color": "white"
             }
            },
            "header": {
             "fill": {
              "color": "#C8D4E3"
             },
             "line": {
              "color": "white"
             }
            },
            "type": "table"
           }
          ]
         },
         "layout": {
          "annotationdefaults": {
           "arrowcolor": "#2a3f5f",
           "arrowhead": 0,
           "arrowwidth": 1
          },
          "coloraxis": {
           "colorbar": {
            "outlinewidth": 0,
            "ticks": ""
           }
          },
          "colorscale": {
           "diverging": [
            [
             0,
             "#8e0152"
            ],
            [
             0.1,
             "#c51b7d"
            ],
            [
             0.2,
             "#de77ae"
            ],
            [
             0.3,
             "#f1b6da"
            ],
            [
             0.4,
             "#fde0ef"
            ],
            [
             0.5,
             "#f7f7f7"
            ],
            [
             0.6,
             "#e6f5d0"
            ],
            [
             0.7,
             "#b8e186"
            ],
            [
             0.8,
             "#7fbc41"
            ],
            [
             0.9,
             "#4d9221"
            ],
            [
             1,
             "#276419"
            ]
           ],
           "sequential": [
            [
             0,
             "#0d0887"
            ],
            [
             0.1111111111111111,
             "#46039f"
            ],
            [
             0.2222222222222222,
             "#7201a8"
            ],
            [
             0.3333333333333333,
             "#9c179e"
            ],
            [
             0.4444444444444444,
             "#bd3786"
            ],
            [
             0.5555555555555556,
             "#d8576b"
            ],
            [
             0.6666666666666666,
             "#ed7953"
            ],
            [
             0.7777777777777778,
             "#fb9f3a"
            ],
            [
             0.8888888888888888,
             "#fdca26"
            ],
            [
             1,
             "#f0f921"
            ]
           ],
           "sequentialminus": [
            [
             0,
             "#0d0887"
            ],
            [
             0.1111111111111111,
             "#46039f"
            ],
            [
             0.2222222222222222,
             "#7201a8"
            ],
            [
             0.3333333333333333,
             "#9c179e"
            ],
            [
             0.4444444444444444,
             "#bd3786"
            ],
            [
             0.5555555555555556,
             "#d8576b"
            ],
            [
             0.6666666666666666,
             "#ed7953"
            ],
            [
             0.7777777777777778,
             "#fb9f3a"
            ],
            [
             0.8888888888888888,
             "#fdca26"
            ],
            [
             1,
             "#f0f921"
            ]
           ]
          },
          "colorway": [
           "#636efa",
           "#EF553B",
           "#00cc96",
           "#ab63fa",
           "#FFA15A",
           "#19d3f3",
           "#FF6692",
           "#B6E880",
           "#FF97FF",
           "#FECB52"
          ],
          "font": {
           "color": "#2a3f5f"
          },
          "geo": {
           "bgcolor": "white",
           "lakecolor": "white",
           "landcolor": "#E5ECF6",
           "showlakes": true,
           "showland": true,
           "subunitcolor": "white"
          },
          "hoverlabel": {
           "align": "left"
          },
          "hovermode": "closest",
          "mapbox": {
           "style": "light"
          },
          "paper_bgcolor": "white",
          "plot_bgcolor": "#E5ECF6",
          "polar": {
           "angularaxis": {
            "gridcolor": "white",
            "linecolor": "white",
            "ticks": ""
           },
           "bgcolor": "#E5ECF6",
           "radialaxis": {
            "gridcolor": "white",
            "linecolor": "white",
            "ticks": ""
           }
          },
          "scene": {
           "xaxis": {
            "backgroundcolor": "#E5ECF6",
            "gridcolor": "white",
            "gridwidth": 2,
            "linecolor": "white",
            "showbackground": true,
            "ticks": "",
            "zerolinecolor": "white"
           },
           "yaxis": {
            "backgroundcolor": "#E5ECF6",
            "gridcolor": "white",
            "gridwidth": 2,
            "linecolor": "white",
            "showbackground": true,
            "ticks": "",
            "zerolinecolor": "white"
           },
           "zaxis": {
            "backgroundcolor": "#E5ECF6",
            "gridcolor": "white",
            "gridwidth": 2,
            "linecolor": "white",
            "showbackground": true,
            "ticks": "",
            "zerolinecolor": "white"
           }
          },
          "shapedefaults": {
           "line": {
            "color": "#2a3f5f"
           }
          },
          "ternary": {
           "aaxis": {
            "gridcolor": "white",
            "linecolor": "white",
            "ticks": ""
           },
           "baxis": {
            "gridcolor": "white",
            "linecolor": "white",
            "ticks": ""
           },
           "bgcolor": "#E5ECF6",
           "caxis": {
            "gridcolor": "white",
            "linecolor": "white",
            "ticks": ""
           }
          },
          "title": {
           "x": 0.05
          },
          "xaxis": {
           "automargin": true,
           "gridcolor": "white",
           "linecolor": "white",
           "ticks": "",
           "title": {
            "standoff": 15
           },
           "zerolinecolor": "white",
           "zerolinewidth": 2
          },
          "yaxis": {
           "automargin": true,
           "gridcolor": "white",
           "linecolor": "white",
           "ticks": "",
           "title": {
            "standoff": 15
           },
           "zerolinecolor": "white",
           "zerolinewidth": 2
          }
         }
        },
        "title": {
         "text": "3-D plot(Stress, Anxiety and Age)"
        }
       }
      },
      "text/html": [
       "<div>\n",
       "        \n",
       "        \n",
       "            <div id=\"c560839d-b78a-40a0-9a4c-e8283e392409\" class=\"plotly-graph-div\" style=\"height:525px; width:100%;\"></div>\n",
       "            <script type=\"text/javascript\">\n",
       "                require([\"plotly\"], function(Plotly) {\n",
       "                    window.PLOTLYENV=window.PLOTLYENV || {};\n",
       "                    \n",
       "                if (document.getElementById(\"c560839d-b78a-40a0-9a4c-e8283e392409\")) {\n",
       "                    Plotly.newPlot(\n",
       "                        'c560839d-b78a-40a0-9a4c-e8283e392409',\n",
       "                        [{\"marker\": {\"color\": [1, 1, 1, 1, 1, 1, 1, 1, 1, 0, 0, 1, 1, 1, 1, 1, 1, 1, 1, 1, 1, 1, 1, 1, 1, 1, 1, 1, 1, 1, 1, 1, 1, 1, 1, 1, 1, 0, 0, 1, 1, 1, 1, 1, 0, 1, 1, 0, 1, 1, 0, 1, 1, 1, 1, 1, 0, 0, 0, 0, 0, 0, 0, 0, 0, 0, 1, 1, 1, 1, 0, 0, 0, 1, 1, 1, 1, 1, 0, 0, 1, 1, 0, 1, 0, 0, 1, 0, 1, 1, 1, 1, 1, 1, 1, 1, 1, 1, 1, 1, 1, 1, 1, 1, 1, 1, 1, 1, 1, 1, 1, 0, 1, 0, 1, 1, 1, 1, 1, 0, 1, 1, 1, 1, 1, 1, 1, 1, 1, 1, 1, 1, 0, 1, 1, 1, 1, 0, 1, 1, 1, 1, 0, 0, 1, 1, 1, 1, 1, 1, 1, 1, 1, 1, 1, 1, 1, 1, 1, 1, 1, 1, 1, 1, 1, 0, 1, 1, 1, 0, 0, 1, 1, 0, 0, 1, 1, 1, 1, 1, 1, 1, 1, 1, 1, 1, 1, 1, 1, 1, 1, 1, 1, 1, 1, 1, 1, 1, 1, 1, 1, 1, 1, 1, 1, 1, 0, 0, 1, 1, 1, 1, 1, 1, 1, 1, 1, 1, 1, 1, 1, 1, 1, 1, 0, 1, 1, 1, 1, 1, 1, 0, 0, 0, 0, 1, 1, 1, 1, 1, 1, 1, 1, 1, 1, 1, 1, 1, 0, 1, 1, 1, 1, 1, 1, 1, 0, 1, 1, 1, 1, 1, 1, 1, 1, 1, 1, 1, 1, 1, 1, 1, 1, 1, 1, 1, 1, 1, 1, 1, 0, 0, 1, 1, 1, 1, 1, 1, 1, 1, 1, 1, 1, 1, 1, 1, 0, 1, 1, 1, 1, 1, 1, 1, 1, 1, 1, 1, 1, 1, 0, 1, 1, 1, 1, 1, 0, 0, 0, 0, 1, 1, 1, 1, 1, 1, 1, 1, 1, 0, 1, 1, 0, 0, 1, 1, 0, 0, 1, 1, 1, 1, 1, 1, 1, 1, 1, 1, 1, 1, 1, 1, 1, 1, 1, 1, 1, 1, 1, 1, 1, 1, 1, 1, 1, 1, 1, 1, 1, 1, 1, 1, 1, 1, 0, 1, 0, 1, 1, 1, 1, 1, 1, 1, 0, 1, 1, 1, 1, 1, 1, 1, 1, 0, 1, 1, 1, 1, 0, 0, 0, 0, 0, 0, 0, 0, 0, 0, 0, 0, 0, 0, 0, 0, 0, 0, 1, 1, 1, 1, 1, 0, 1, 1, 1, 0, 1, 1, 1, 1, 1, 1, 1, 1, 1, 1, 1, 1, 1, 1, 1, 1, 1, 1, 1, 1, 1, 1, 1, 0, 1, 1, 1, 1, 1, 1, 1, 1, 1, 1, 1, 0, 1, 1, 1, 0, 1, 0, 0, 1, 1, 0, 0, 1, 0, 0, 1, 0, 1, 0, 1, 1, 1, 1, 1, 1, 0, 0, 1, 0, 0, 1, 0, 1, 0, 1, 0, 0, 0, 1, 1, 0, 0, 1, 1, 0, 1, 0, 0, 1, 0, 0, 0, 0, 1, 0, 0, 1, 1, 0, 0, 0, 0, 0, 0, 0, 1, 0, 0, 1, 0, 0, 1, 0, 0, 0, 1, 1, 1], \"colorscale\": [[0.0, \"rgb(243, 231, 155)\"], [0.16666666666666666, \"rgb(250, 196, 132)\"], [0.3333333333333333, \"rgb(248, 160, 126)\"], [0.5, \"rgb(235, 127, 134)\"], [0.6666666666666666, \"rgb(206, 102, 147)\"], [0.8333333333333334, \"rgb(160, 89, 160)\"], [1.0, \"rgb(92, 83, 165)\"]], \"opacity\": 0.7, \"size\": 10}, \"mode\": \"markers\", \"type\": \"scatter3d\", \"x\": [21, 20, 18, 20, 19, 24, 20, 26, 6, 7, 7, 32, 6, 25, 18, 20, 27, 26, 21, 21, 20, 20, 23, 21, 23, 19, 22, 22, 21, 23, 21, 20, 19, 23, 20, 18, 14, 16, 22, 21, 23, 26, 14, 21, 22, 20, 21, 21, 6, 30, 8, 29, 22, 19, 18, 19, 21, 20, 19, 19, 20, 20, 23, 18, 19, 24, 15, 17, 14, 22, 16, 17, 16, 14, 16, 19, 26, 23, 4, 4, 5, 30, 6, 5, 7, 5, 29, 7, 32, 29, 25, 26, 23, 18, 28, 27, 29, 27, 35, 29, 27, 34, 31, 29, 27, 31, 32, 28, 33, 28, 30, 21, 20, 18, 20, 29, 30, 32, 28, 29, 27, 28, 28, 29, 31, 30, 29, 28, 29, 28, 26, 14, 21, 22, 20, 21, 21, 22, 19, 18, 19, 5, 7, 6, 21, 20, 19, 19, 20, 6, 13, 20, 19, 20, 21, 23, 18, 19, 24, 15, 17, 14, 22, 6, 8, 7, 7, 4, 6, 7, 6, 11, 2, 5, 6, 16, 17, 16, 14, 16, 19, 26, 24, 25, 19, 23, 24, 26, 24, 23, 24, 26, 23, 25, 26, 23, 18, 24, 25, 25, 15, 24, 17, 21, 19, 22, 7, 6, 17, 19, 22, 19, 18, 19, 23, 24, 26, 24, 23, 24, 26, 18, 21, 20, 18, 25, 15, 24, 20, 18, 7, 6, 5, 20, 19, 24, 18, 14, 19, 19, 18, 20, 26, 25, 18, 20, 19, 26, 14, 16, 23, 25, 26, 23, 5, 0, 8, 6, 18, 24, 25, 19, 20, 21, 19, 22, 19, 19, 26, 25, 15, 24, 17, 19, 20, 21, 19, 22, 19, 22, 19, 18, 21, 34, 19, 24, 20, 26, 25, 18, 20, 19, 19, 26, 23, 25, 26, 23, 5, 18, 24, 25, 19, 20, 21, 19, 22, 19, 26, 25, 15, 24, 17, 19, 20, 21, 4, 5, 19, 20, 20, 18, 19, 20, 26, 25, 24, 20, 26, 25, 18, 20, 19, 26, 21, 21, 37, 27, 28, 39, 40, 34, 27, 36, 35, 27, 30, 31, 29, 33, 34, 29, 27, 28, 29, 32, 29, 30, 35, 27, 30, 31, 32, 28, 31, 29, 37, 28, 34, 33, 28, 20, 20, 10, 7, 23, 21, 20, 18, 20, 20, 18, 20, 5, 5, 19, 24, 21, 23, 19, 22, 22, 21, 23, 21, 20, 19, 23, 20, 7, 9, 29, 32, 30, 28, 34, 29, 31, 6, 18, 14, 16, 22, 21, 23, 8, 6, 26, 14, 21, 22, 20, 38, 21, 21, 6, 22, 29, 32, 34, 28, 31, 35, 29, 29, 30, 28, 32, 31, 33, 32, 32, 28, 36, 32, 19, 18, 19, 25, 15, 24, 34, 28, 27, 29, 29, 34, 29, 30, 27, 17, 18, 13, 21, 12, 7, 8, 20, 21, 15, 8, 17, 4, 4, 4, 8, 15, 3, 24, 8, 26, 14, 7, 10, 12, 8, 6, 5, 3, 11, 7, 11, 5, 6, 9, 8, 7, 8, 10, 5, 4, 6, 4, 7, 5, 7, 7, 6, 6, 4, 7, 6, 4, 0, 4, 7, 6, 6, 7, 7, 7, 6, 6, 5, 5, 8, 7, 6, 7, 5, 7, 6, 6, 29, 34, 32, 29, 28, 31], \"y\": [12, 10, 12, 10, 11, 10, 10, 14, 3, 4, 4, 15, 4, 12, 13, 14, 17, 11, 10, 10, 10, 12, 13, 10, 10, 13, 14, 14, 14, 14, 14, 13, 12, 14, 11, 10, 14, 11, 10, 14, 11, 14, 13, 12, 10, 12, 10, 11, 3, 18, 4, 17, 10, 10, 14, 12, 13, 14, 13, 14, 13, 14, 12, 10, 11, 12, 10, 11, 12, 11, 10, 11, 10, 10, 10, 12, 10, 11, 3, 4, 0, 16, 4, 1, 3, 2, 20, 4, 21, 15, 10, 10, 10, 12, 16, 18, 19, 17, 10, 14, 11, 14, 13, 12, 10, 12, 15, 10, 11, 10, 10, 5, 8, 6, 5, 14, 12, 13, 14, 13, 14, 13, 15, 14, 12, 10, 11, 12, 10, 11, 12, 11, 10, 11, 10, 10, 10, 12, 13, 10, 10, 7, 5, 8, 13, 14, 14, 14, 14, 7, 7, 14, 14, 11, 10, 13, 12, 14, 11, 10, 14, 11, 10, 5, 8, 6, 5, 6, 3, 2, 6, 6, 6, 7, 6, 14, 11, 14, 13, 12, 10, 12, 13, 10, 10, 13, 14, 14, 14, 14, 14, 13, 10, 11, 10, 10, 14, 12, 13, 12, 14, 11, 12, 7, 6, 7, 7, 5, 10, 14, 11, 14, 13, 14, 13, 14, 13, 14, 12, 10, 11, 5, 5, 7, 5, 12, 10, 11, 6, 7, 3, 4, 4, 7, 6, 6, 7, 9, 9, 10, 12, 14, 14, 14, 13, 12, 14, 11, 6, 5, 10, 14, 11, 10, 7, 6, 8, 7, 14, 11, 14, 6, 7, 9, 5, 5, 8, 13, 12, 10, 12, 10, 11, 10, 10, 14, 12, 13, 7, 7, 14, 13, 14, 12, 10, 11, 12, 10, 11, 12, 11, 10, 9, 7, 7, 8, 6, 7, 6, 7, 6, 5, 11, 10, 11, 10, 10, 9, 7, 5, 8, 9, 7, 6, 8, 10, 6, 7, 6, 6, 8, 5, 6, 8, 7, 6, 7, 7, 6, 5, 7, 7, 6, 6, 8, 8, 16, 15, 15, 15, 17, 15, 11, 13, 12, 13, 10, 10, 13, 14, 14, 14, 14, 14, 13, 12, 14, 11, 10, 14, 11, 10, 14, 13, 10, 12, 10, 11, 10, 14, 11, 7, 8, 9, 5, 5, 13, 10, 10, 13, 13, 14, 12, 5, 6, 14, 14, 6, 5, 6, 6, 7, 7, 6, 5, 7, 7, 6, 6, 5, 5, 11, 10, 10, 10, 15, 12, 13, 8, 8, 8, 7, 6, 8, 7, 7, 5, 10, 7, 9, 5, 5, 18, 8, 6, 6, 5, 14, 12, 13, 14, 13, 14, 13, 14, 12, 10, 11, 10, 12, 10, 11, 12, 11, 10, 6, 7, 7, 6, 6, 8, 10, 10, 13, 14, 14, 14, 14, 14, 13, 7, 6, 7, 5, 6, 5, 8, 5, 5, 8, 8, 6, 4, 3, 3, 4, 7, 5, 7, 8, 6, 6, 8, 7, 6, 6, 7, 9, 6, 6, 7, 7, 6, 7, 9, 6, 7, 6, 5, 6, 6, 7, 7, 9, 8, 6, 5, 6, 7, 7, 5, 5, 6, 5, 7, 6, 7, 9, 5, 5, 5, 8, 6, 5, 7, 6, 3, 5, 8, 3, 4, 4, 4, 12, 14, 11, 10, 14, 11], \"z\": [28, 39, 40, 34, 27, 36, 35, 27, 25, 26, 25, 52, 32, 30, 31, 29, 57, 29, 32, 34, 28, 31, 35, 29, 29, 30, 28, 32, 33, 32, 32, 28, 36, 32, 29, 32, 30, 28, 29, 31, 34, 28, 27, 29, 29, 34, 29, 30, 28, 58, 29, 54, 27, 29, 34, 32, 29, 28, 31, 35, 29, 27, 34, 31, 29, 27, 31, 28, 33, 28, 30, 29, 30, 32, 28, 29, 27, 28, 27, 25, 25, 56, 25, 25, 29, 26, 56, 30, 52, 59, 29, 31, 30, 29, 58, 53, 55, 51, 40, 41, 57, 40, 40, 50, 40, 45, 45, 60, 52, 42, 40, 30, 28, 32, 33, 42, 45, 40, 40, 40, 42, 41, 52, 42, 45, 43, 44, 41, 42, 40, 42, 45, 42, 41, 41, 40, 42, 41, 42, 45, 43, 38, 29, 29, 44, 41, 42, 40, 42, 32, 29, 45, 29, 30, 27, 42, 41, 41, 40, 42, 41, 42, 45, 45, 42, 43, 44, 30, 31, 30, 30, 54, 32, 33, 32, 43, 44, 41, 42, 40, 42, 45, 28, 29, 28, 27, 32, 29, 30, 32, 28, 29, 42, 41, 41, 40, 42, 41, 42, 27, 28, 29, 29, 28, 31, 35, 28, 36, 32, 34, 38, 37, 29, 30, 35, 27, 30, 31, 33, 28, 32, 28, 34, 31, 29, 28, 34, 31, 30, 32, 29, 28, 29, 28, 29, 27, 29, 30, 29, 32, 27, 34, 38, 37, 27, 28, 39, 40, 37, 27, 34, 27, 36, 35, 32, 30, 28, 29, 27, 30, 31, 30, 29, 28, 29, 28, 27, 29, 33, 34, 29, 27, 28, 29, 32, 29, 30, 35, 31, 29, 27, 30, 31, 53, 28, 34, 31, 29, 37, 28, 34, 31, 33, 34, 29, 27, 28, 29, 27, 32, 29, 30, 37, 28, 34, 31, 29, 35, 27, 30, 31, 33, 28, 32, 28, 34, 31, 35, 37, 32, 34, 29, 32, 28, 29, 32, 32, 28, 36, 32, 29, 32, 30, 28, 29, 31, 50, 50, 51, 55, 50, 56, 50, 45, 45, 42, 45, 41, 40, 45, 41, 43, 45, 48, 40, 46, 48, 40, 47, 48, 55, 54, 40, 42, 52, 42, 53, 40, 40, 56, 54, 34, 28, 31, 35, 27, 28, 29, 32, 29, 33, 28, 32, 28, 29, 30, 27, 29, 29, 34, 29, 30, 27, 29, 34, 32, 29, 28, 31, 29, 33, 50, 50, 41, 41, 58, 40, 45, 34, 35, 29, 27, 34, 31, 29, 27, 28, 27, 31, 28, 33, 28, 53, 30, 29, 27, 30, 47, 42, 40, 41, 49, 45, 42, 45, 47, 42, 40, 40, 48, 48, 40, 53, 43, 50, 32, 28, 29, 27, 28, 29, 40, 42, 40, 50, 40, 31, 32, 42, 41, 31, 32, 32, 29, 32, 28, 28, 27, 34, 38, 43, 28, 25, 29, 27, 26, 39, 29, 40, 29, 34, 27, 36, 35, 45, 27, 30, 31, 32, 28, 29, 44, 41, 42, 40, 32, 32, 29, 27, 31, 34, 34, 49, 28, 29, 34, 52, 30, 27, 29, 29, 29, 32, 27, 28, 31, 33, 29, 27, 34, 30, 31, 29, 27, 28, 28, 28, 29, 30, 29, 30, 35, 26, 50, 55, 40, 43, 60, 40]}],\n",
       "                        {\"margin\": {\"b\": 0, \"l\": 0, \"r\": 0, \"t\": 0}, \"scene\": {\"xaxis\": {\"title\": {\"text\": \"Stress Score\"}}, \"yaxis\": {\"title\": {\"text\": \"Anxiety Score\"}}, \"zaxis\": {\"title\": {\"text\": \"Age\"}}}, \"template\": {\"data\": {\"bar\": [{\"error_x\": {\"color\": \"#2a3f5f\"}, \"error_y\": {\"color\": \"#2a3f5f\"}, \"marker\": {\"line\": {\"color\": \"#E5ECF6\", \"width\": 0.5}}, \"type\": \"bar\"}], \"barpolar\": [{\"marker\": {\"line\": {\"color\": \"#E5ECF6\", \"width\": 0.5}}, \"type\": \"barpolar\"}], \"carpet\": [{\"aaxis\": {\"endlinecolor\": \"#2a3f5f\", \"gridcolor\": \"white\", \"linecolor\": \"white\", \"minorgridcolor\": \"white\", \"startlinecolor\": \"#2a3f5f\"}, \"baxis\": {\"endlinecolor\": \"#2a3f5f\", \"gridcolor\": \"white\", \"linecolor\": \"white\", \"minorgridcolor\": \"white\", \"startlinecolor\": \"#2a3f5f\"}, \"type\": \"carpet\"}], \"choropleth\": [{\"colorbar\": {\"outlinewidth\": 0, \"ticks\": \"\"}, \"type\": \"choropleth\"}], \"contour\": [{\"colorbar\": {\"outlinewidth\": 0, \"ticks\": \"\"}, \"colorscale\": [[0.0, \"#0d0887\"], [0.1111111111111111, \"#46039f\"], [0.2222222222222222, \"#7201a8\"], [0.3333333333333333, \"#9c179e\"], [0.4444444444444444, \"#bd3786\"], [0.5555555555555556, \"#d8576b\"], [0.6666666666666666, \"#ed7953\"], [0.7777777777777778, \"#fb9f3a\"], [0.8888888888888888, \"#fdca26\"], [1.0, \"#f0f921\"]], \"type\": \"contour\"}], \"contourcarpet\": [{\"colorbar\": {\"outlinewidth\": 0, \"ticks\": \"\"}, \"type\": \"contourcarpet\"}], \"heatmap\": [{\"colorbar\": {\"outlinewidth\": 0, \"ticks\": \"\"}, \"colorscale\": [[0.0, \"#0d0887\"], [0.1111111111111111, \"#46039f\"], [0.2222222222222222, \"#7201a8\"], [0.3333333333333333, \"#9c179e\"], [0.4444444444444444, \"#bd3786\"], [0.5555555555555556, \"#d8576b\"], [0.6666666666666666, \"#ed7953\"], [0.7777777777777778, \"#fb9f3a\"], [0.8888888888888888, \"#fdca26\"], [1.0, \"#f0f921\"]], \"type\": \"heatmap\"}], \"heatmapgl\": [{\"colorbar\": {\"outlinewidth\": 0, \"ticks\": \"\"}, \"colorscale\": [[0.0, \"#0d0887\"], [0.1111111111111111, \"#46039f\"], [0.2222222222222222, \"#7201a8\"], [0.3333333333333333, \"#9c179e\"], [0.4444444444444444, \"#bd3786\"], [0.5555555555555556, \"#d8576b\"], [0.6666666666666666, \"#ed7953\"], [0.7777777777777778, \"#fb9f3a\"], [0.8888888888888888, \"#fdca26\"], [1.0, \"#f0f921\"]], \"type\": \"heatmapgl\"}], \"histogram\": [{\"marker\": {\"colorbar\": {\"outlinewidth\": 0, \"ticks\": \"\"}}, \"type\": \"histogram\"}], \"histogram2d\": [{\"colorbar\": {\"outlinewidth\": 0, \"ticks\": \"\"}, \"colorscale\": [[0.0, \"#0d0887\"], [0.1111111111111111, \"#46039f\"], [0.2222222222222222, \"#7201a8\"], [0.3333333333333333, \"#9c179e\"], [0.4444444444444444, \"#bd3786\"], [0.5555555555555556, \"#d8576b\"], [0.6666666666666666, \"#ed7953\"], [0.7777777777777778, \"#fb9f3a\"], [0.8888888888888888, \"#fdca26\"], [1.0, \"#f0f921\"]], \"type\": \"histogram2d\"}], \"histogram2dcontour\": [{\"colorbar\": {\"outlinewidth\": 0, \"ticks\": \"\"}, \"colorscale\": [[0.0, \"#0d0887\"], [0.1111111111111111, \"#46039f\"], [0.2222222222222222, \"#7201a8\"], [0.3333333333333333, \"#9c179e\"], [0.4444444444444444, \"#bd3786\"], [0.5555555555555556, \"#d8576b\"], [0.6666666666666666, \"#ed7953\"], [0.7777777777777778, \"#fb9f3a\"], [0.8888888888888888, \"#fdca26\"], [1.0, \"#f0f921\"]], \"type\": \"histogram2dcontour\"}], \"mesh3d\": [{\"colorbar\": {\"outlinewidth\": 0, \"ticks\": \"\"}, \"type\": \"mesh3d\"}], \"parcoords\": [{\"line\": {\"colorbar\": {\"outlinewidth\": 0, \"ticks\": \"\"}}, \"type\": \"parcoords\"}], \"pie\": [{\"automargin\": true, \"type\": \"pie\"}], \"scatter\": [{\"marker\": {\"colorbar\": {\"outlinewidth\": 0, \"ticks\": \"\"}}, \"type\": \"scatter\"}], \"scatter3d\": [{\"line\": {\"colorbar\": {\"outlinewidth\": 0, \"ticks\": \"\"}}, \"marker\": {\"colorbar\": {\"outlinewidth\": 0, \"ticks\": \"\"}}, \"type\": \"scatter3d\"}], \"scattercarpet\": [{\"marker\": {\"colorbar\": {\"outlinewidth\": 0, \"ticks\": \"\"}}, \"type\": \"scattercarpet\"}], \"scattergeo\": [{\"marker\": {\"colorbar\": {\"outlinewidth\": 0, \"ticks\": \"\"}}, \"type\": \"scattergeo\"}], \"scattergl\": [{\"marker\": {\"colorbar\": {\"outlinewidth\": 0, \"ticks\": \"\"}}, \"type\": \"scattergl\"}], \"scattermapbox\": [{\"marker\": {\"colorbar\": {\"outlinewidth\": 0, \"ticks\": \"\"}}, \"type\": \"scattermapbox\"}], \"scatterpolar\": [{\"marker\": {\"colorbar\": {\"outlinewidth\": 0, \"ticks\": \"\"}}, \"type\": \"scatterpolar\"}], \"scatterpolargl\": [{\"marker\": {\"colorbar\": {\"outlinewidth\": 0, \"ticks\": \"\"}}, \"type\": \"scatterpolargl\"}], \"scatterternary\": [{\"marker\": {\"colorbar\": {\"outlinewidth\": 0, \"ticks\": \"\"}}, \"type\": \"scatterternary\"}], \"surface\": [{\"colorbar\": {\"outlinewidth\": 0, \"ticks\": \"\"}, \"colorscale\": [[0.0, \"#0d0887\"], [0.1111111111111111, \"#46039f\"], [0.2222222222222222, \"#7201a8\"], [0.3333333333333333, \"#9c179e\"], [0.4444444444444444, \"#bd3786\"], [0.5555555555555556, \"#d8576b\"], [0.6666666666666666, \"#ed7953\"], [0.7777777777777778, \"#fb9f3a\"], [0.8888888888888888, \"#fdca26\"], [1.0, \"#f0f921\"]], \"type\": \"surface\"}], \"table\": [{\"cells\": {\"fill\": {\"color\": \"#EBF0F8\"}, \"line\": {\"color\": \"white\"}}, \"header\": {\"fill\": {\"color\": \"#C8D4E3\"}, \"line\": {\"color\": \"white\"}}, \"type\": \"table\"}]}, \"layout\": {\"annotationdefaults\": {\"arrowcolor\": \"#2a3f5f\", \"arrowhead\": 0, \"arrowwidth\": 1}, \"coloraxis\": {\"colorbar\": {\"outlinewidth\": 0, \"ticks\": \"\"}}, \"colorscale\": {\"diverging\": [[0, \"#8e0152\"], [0.1, \"#c51b7d\"], [0.2, \"#de77ae\"], [0.3, \"#f1b6da\"], [0.4, \"#fde0ef\"], [0.5, \"#f7f7f7\"], [0.6, \"#e6f5d0\"], [0.7, \"#b8e186\"], [0.8, \"#7fbc41\"], [0.9, \"#4d9221\"], [1, \"#276419\"]], \"sequential\": [[0.0, \"#0d0887\"], [0.1111111111111111, \"#46039f\"], [0.2222222222222222, \"#7201a8\"], [0.3333333333333333, \"#9c179e\"], [0.4444444444444444, \"#bd3786\"], [0.5555555555555556, \"#d8576b\"], [0.6666666666666666, \"#ed7953\"], [0.7777777777777778, \"#fb9f3a\"], [0.8888888888888888, \"#fdca26\"], [1.0, \"#f0f921\"]], \"sequentialminus\": [[0.0, \"#0d0887\"], [0.1111111111111111, \"#46039f\"], [0.2222222222222222, \"#7201a8\"], [0.3333333333333333, \"#9c179e\"], [0.4444444444444444, \"#bd3786\"], [0.5555555555555556, \"#d8576b\"], [0.6666666666666666, \"#ed7953\"], [0.7777777777777778, \"#fb9f3a\"], [0.8888888888888888, \"#fdca26\"], [1.0, \"#f0f921\"]]}, \"colorway\": [\"#636efa\", \"#EF553B\", \"#00cc96\", \"#ab63fa\", \"#FFA15A\", \"#19d3f3\", \"#FF6692\", \"#B6E880\", \"#FF97FF\", \"#FECB52\"], \"font\": {\"color\": \"#2a3f5f\"}, \"geo\": {\"bgcolor\": \"white\", \"lakecolor\": \"white\", \"landcolor\": \"#E5ECF6\", \"showlakes\": true, \"showland\": true, \"subunitcolor\": \"white\"}, \"hoverlabel\": {\"align\": \"left\"}, \"hovermode\": \"closest\", \"mapbox\": {\"style\": \"light\"}, \"paper_bgcolor\": \"white\", \"plot_bgcolor\": \"#E5ECF6\", \"polar\": {\"angularaxis\": {\"gridcolor\": \"white\", \"linecolor\": \"white\", \"ticks\": \"\"}, \"bgcolor\": \"#E5ECF6\", \"radialaxis\": {\"gridcolor\": \"white\", \"linecolor\": \"white\", \"ticks\": \"\"}}, \"scene\": {\"xaxis\": {\"backgroundcolor\": \"#E5ECF6\", \"gridcolor\": \"white\", \"gridwidth\": 2, \"linecolor\": \"white\", \"showbackground\": true, \"ticks\": \"\", \"zerolinecolor\": \"white\"}, \"yaxis\": {\"backgroundcolor\": \"#E5ECF6\", \"gridcolor\": \"white\", \"gridwidth\": 2, \"linecolor\": \"white\", \"showbackground\": true, \"ticks\": \"\", \"zerolinecolor\": \"white\"}, \"zaxis\": {\"backgroundcolor\": \"#E5ECF6\", \"gridcolor\": \"white\", \"gridwidth\": 2, \"linecolor\": \"white\", \"showbackground\": true, \"ticks\": \"\", \"zerolinecolor\": \"white\"}}, \"shapedefaults\": {\"line\": {\"color\": \"#2a3f5f\"}}, \"ternary\": {\"aaxis\": {\"gridcolor\": \"white\", \"linecolor\": \"white\", \"ticks\": \"\"}, \"baxis\": {\"gridcolor\": \"white\", \"linecolor\": \"white\", \"ticks\": \"\"}, \"bgcolor\": \"#E5ECF6\", \"caxis\": {\"gridcolor\": \"white\", \"linecolor\": \"white\", \"ticks\": \"\"}}, \"title\": {\"x\": 0.05}, \"xaxis\": {\"automargin\": true, \"gridcolor\": \"white\", \"linecolor\": \"white\", \"ticks\": \"\", \"title\": {\"standoff\": 15}, \"zerolinecolor\": \"white\", \"zerolinewidth\": 2}, \"yaxis\": {\"automargin\": true, \"gridcolor\": \"white\", \"linecolor\": \"white\", \"ticks\": \"\", \"title\": {\"standoff\": 15}, \"zerolinecolor\": \"white\", \"zerolinewidth\": 2}}}, \"title\": {\"text\": \"3-D plot(Stress, Anxiety and Age)\"}},\n",
       "                        {\"responsive\": true}\n",
       "                    ).then(function(){\n",
       "                            \n",
       "var gd = document.getElementById('c560839d-b78a-40a0-9a4c-e8283e392409');\n",
       "var x = new MutationObserver(function (mutations, observer) {{\n",
       "        var display = window.getComputedStyle(gd).display;\n",
       "        if (!display || display === 'none') {{\n",
       "            console.log([gd, 'removed!']);\n",
       "            Plotly.purge(gd);\n",
       "            observer.disconnect();\n",
       "        }}\n",
       "}});\n",
       "\n",
       "// Listen for the removal of the full notebook cells\n",
       "var notebookContainer = gd.closest('#notebook-container');\n",
       "if (notebookContainer) {{\n",
       "    x.observe(notebookContainer, {childList: true});\n",
       "}}\n",
       "\n",
       "// Listen for the clearing of the current output cell\n",
       "var outputEl = gd.closest('.output');\n",
       "if (outputEl) {{\n",
       "    x.observe(outputEl, {childList: true});\n",
       "}}\n",
       "\n",
       "                        })\n",
       "                };\n",
       "                });\n",
       "            </script>\n",
       "        </div>"
      ]
     },
     "metadata": {},
     "output_type": "display_data"
    }
   ],
   "source": [
    "print(\"3-D plot (Stress, Anxiety and Age)\")\n",
    "import plotly.graph_objs as go\n",
    "trace1 = go.Scatter3d(x = df.stress,\n",
    "                      y = df.anxiety,\n",
    "                      z = df.Age,\n",
    "                      mode = 'markers',\n",
    "                      marker = dict(size = 10, color = df.Gender, colorscale = 'sunset', opacity = 0.7)\n",
    "                     )\n",
    "# in trace1, color changes according to the research\n",
    "# we can also arrange size values as color, for instance, we can set size = dataframe.citations\n",
    "\n",
    "data = [trace1]\n",
    "layout = go.Layout(title=\"3-D plot(Stress, Anxiety and Age)\",\n",
    "                   margin = dict(l=0, r=0, b=0, t=0), \n",
    "                   scene = dict(\n",
    "                    xaxis_title='Stress Score',\n",
    "                    yaxis_title='Anxiety Score',\n",
    "                    zaxis_title='Age'),)\n",
    "fig = go.Figure(data=data, layout=layout)\n",
    "pyo.iplot(fig)\n",
    "#plt.savefig('3D_Scatter.png')"
   ]
  },
  {
   "cell_type": "code",
   "execution_count": null,
   "metadata": {},
   "outputs": [],
   "source": []
  }
 ],
 "metadata": {
  "kernelspec": {
   "display_name": "Python 3",
   "language": "python",
   "name": "python3"
  },
  "language_info": {
   "codemirror_mode": {
    "name": "ipython",
    "version": 3
   },
   "file_extension": ".py",
   "mimetype": "text/x-python",
   "name": "python",
   "nbconvert_exporter": "python",
   "pygments_lexer": "ipython3",
   "version": "3.8.3"
  }
 },
 "nbformat": 4,
 "nbformat_minor": 4
}
