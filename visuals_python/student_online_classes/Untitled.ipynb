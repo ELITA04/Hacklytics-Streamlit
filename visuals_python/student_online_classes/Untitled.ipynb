{
 "cells": [
  {
   "cell_type": "code",
   "execution_count": 1,
   "metadata": {},
   "outputs": [],
   "source": [
    "import pandas as pd"
   ]
  },
  {
   "cell_type": "code",
   "execution_count": 3,
   "metadata": {},
   "outputs": [],
   "source": [
    "data = pd.read_csv('covid_19_student_responses.csv')"
   ]
  },
  {
   "cell_type": "code",
   "execution_count": 4,
   "metadata": {},
   "outputs": [
    {
     "data": {
      "text/plain": [
       "ID                                                                                     0\n",
       "Region of residence                                                                    0\n",
       "Age of Subject                                                                         0\n",
       "Time spent on Online Class                                                             0\n",
       "Rating of Online Class experience                                                     24\n",
       "Medium for online class                                                               51\n",
       "Time spent on self study                                                               0\n",
       "Time spent on fitness                                                                  0\n",
       "Time spent on sleep                                                                    0\n",
       "Time spent on social media                                                             0\n",
       "Prefered social media platform                                                         0\n",
       "Time spent on TV                                                                       0\n",
       "Number of meals per day                                                                0\n",
       "Change in your weight                                                                  0\n",
       "Health issue during lockdown                                                           0\n",
       "Stress busters                                                                         0\n",
       "Time utilized                                                                          0\n",
       "Do you find yourself more connected with your family, close friends , relatives  ?     0\n",
       "What you miss the most                                                                 0\n",
       "dtype: int64"
      ]
     },
     "execution_count": 4,
     "metadata": {},
     "output_type": "execute_result"
    }
   ],
   "source": [
    "data.isnull().sum()"
   ]
  },
  {
   "cell_type": "code",
   "execution_count": 5,
   "metadata": {},
   "outputs": [
    {
     "data": {
      "text/plain": [
       "array(['YES', 'NO'], dtype=object)"
      ]
     },
     "execution_count": 5,
     "metadata": {},
     "output_type": "execute_result"
    }
   ],
   "source": [
    "data['Do you find yourself more connected with your family, close friends , relatives  ?'].unique()"
   ]
  },
  {
   "cell_type": "code",
   "execution_count": 6,
   "metadata": {},
   "outputs": [
    {
     "data": {
      "text/plain": [
       "YES    831\n",
       "NO     351\n",
       "Name: Do you find yourself more connected with your family, close friends , relatives  ?, dtype: int64"
      ]
     },
     "execution_count": 6,
     "metadata": {},
     "output_type": "execute_result"
    }
   ],
   "source": [
    "data['Do you find yourself more connected with your family, close friends , relatives  ?'].value_counts()"
   ]
  },
  {
   "cell_type": "code",
   "execution_count": 8,
   "metadata": {},
   "outputs": [
    {
     "data": {
      "text/plain": [
       "'temp-plot.html'"
      ]
     },
     "execution_count": 8,
     "metadata": {},
     "output_type": "execute_result"
    }
   ],
   "source": [
    "import plotly.offline as py\n",
    "import plotly.graph_objects as go\n",
    "\n",
    "field_1 = ['YES', 'NO']\n",
    "field_1_counts = [831,351]\n",
    "\n",
    "# Use the hovertext kw argument for hover text\n",
    "fig = go.Figure(data=[go.Bar(x=field_1, y=field_1_counts,\n",
    "            hovertext=['Response:Yes', 'Response:No'])])\n",
    "# Customize aspect\n",
    "fig.update_traces(marker_color='rgb(158,202,225)', marker_line_color='rgb(8,48,107)',\n",
    "                  marker_line_width=1.5, opacity=0.6)\n",
    "fig.update_layout(title_text='Responses to the survey question \"Do you find yourself more connected with your family, close friends , relatives  ?\"')\n",
    "py.plot(fig)"
   ]
  },
  {
   "cell_type": "code",
   "execution_count": null,
   "metadata": {},
   "outputs": [],
   "source": []
  }
 ],
 "metadata": {
  "kernelspec": {
   "display_name": "Python 3",
   "language": "python",
   "name": "python3"
  },
  "language_info": {
   "codemirror_mode": {
    "name": "ipython",
    "version": 3
   },
   "file_extension": ".py",
   "mimetype": "text/x-python",
   "name": "python",
   "nbconvert_exporter": "python",
   "pygments_lexer": "ipython3",
   "version": "3.8.3"
  }
 },
 "nbformat": 4,
 "nbformat_minor": 4
}
