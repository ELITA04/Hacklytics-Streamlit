{
  "nbformat": 4,
  "nbformat_minor": 0,
  "metadata": {
    "colab": {
      "name": "TestModel.ipynb",
      "provenance": []
    },
    "kernelspec": {
      "name": "python3",
      "display_name": "Python 3"
    }
  },
  "cells": [
    {
      "cell_type": "code",
      "metadata": {
        "id": "fsqEYLeMLPm_"
      },
      "source": [
        "import librosa\r\n",
        "import numpy as np\r\n",
        "import pickle\r\n",
        "import pandas as pd"
      ],
      "execution_count": null,
      "outputs": []
    },
    {
      "cell_type": "code",
      "metadata": {
        "colab": {
          "base_uri": "https://localhost:8080/"
        },
        "id": "8grW2stYaPoJ",
        "outputId": "a133607b-bb02-4aa9-de43-9d4155b163a1"
      },
      "source": [
        "from google.colab import drive\r\n",
        "drive.mount('/content/drive')"
      ],
      "execution_count": null,
      "outputs": [
        {
          "output_type": "stream",
          "text": [
            "Mounted at /content/drive\n"
          ],
          "name": "stdout"
        }
      ]
    },
    {
      "cell_type": "code",
      "metadata": {
        "id": "R8BU3CzYLGMQ"
      },
      "source": [
        "def extract_features(data):\r\n",
        "    # ZCR\r\n",
        "    result = np.array([])\r\n",
        "    zcr = np.mean(librosa.feature.zero_crossing_rate(y=data).T, axis=0)\r\n",
        "    result=np.hstack((result, zcr)) # stacking horizontally\r\n",
        "\r\n",
        "    # Chroma_stft\r\n",
        "    stft = np.abs(librosa.stft(data))\r\n",
        "    chroma_stft = np.mean(librosa.feature.chroma_stft(S=stft, sr=sample_rate).T, axis=0)\r\n",
        "    result = np.hstack((result, chroma_stft)) # stacking horizontally\r\n",
        "\r\n",
        "    # MFCC\r\n",
        "    mfcc = np.mean(librosa.feature.mfcc(y=data, sr=sample_rate).T, axis=0)\r\n",
        "    result = np.hstack((result, mfcc)) # stacking horizontally\r\n",
        "\r\n",
        "    # Root Mean Square Value\r\n",
        "    rms = np.mean(librosa.feature.rms(y=data).T, axis=0)\r\n",
        "    result = np.hstack((result, rms)) # stacking horizontally\r\n",
        "\r\n",
        "    # MelSpectogram\r\n",
        "    mel = np.mean(librosa.feature.melspectrogram(y=data, sr=sample_rate).T, axis=0)\r\n",
        "    result = np.hstack((result, mel)) # stacking horizontally\r\n",
        "    \r\n",
        "    return result\r\n",
        "\r\n",
        "def get_features(path):\r\n",
        "    # duration and offset are used to take care of the no audio in start and the ending of each audio files as seen above.\r\n",
        "    data, sample_rate = librosa.load(path, duration=2.5, offset=0.6)\r\n",
        "    \r\n",
        "    # without augmentation\r\n",
        "    res1 = extract_features(data)\r\n",
        "    result = np.array(res1)\r\n",
        "    \r\n",
        "    # data with noise\r\n",
        "    noise_data = noise(data)\r\n",
        "    res2 = extract_features(noise_data)\r\n",
        "    result = np.vstack((result, res2)) # stacking vertically\r\n",
        "    \r\n",
        "    # data with stretching and pitching\r\n",
        "    new_data = stretch(data)\r\n",
        "    data_stretch_pitch = pitch(new_data, sample_rate)\r\n",
        "    res3 = extract_features(data_stretch_pitch)\r\n",
        "    result = np.vstack((result, res3)) # stacking vertically\r\n",
        "    \r\n",
        "    return result"
      ],
      "execution_count": null,
      "outputs": []
    },
    {
      "cell_type": "code",
      "metadata": {
        "id": "D6PhNuQsb4uY"
      },
      "source": [
        "def noise(data):\r\n",
        "  noise_amp = 0.035*np.random.uniform()*np.amax(data)\r\n",
        "  data = data + noise_amp*np.random.normal(size=data.shape[0])\r\n",
        "  return data\r\n",
        "\r\n",
        "def stretch(data, rate = 0.8):\r\n",
        "  return librosa.effects.time_stretch(data, rate)\r\n",
        "\r\n",
        "def shift(data):\r\n",
        "  shift_range = int(np.random.uniform(low=-5, high = 5)*1000)\r\n",
        "  return np.roll(data, shift_range)\r\n",
        "\r\n",
        "def pitch(data, sampling_rate, pitch_factor=0.7):\r\n",
        "    return librosa.effects.pitch_shift(data, sampling_rate, pitch_factor)"
      ],
      "execution_count": null,
      "outputs": []
    },
    {
      "cell_type": "code",
      "metadata": {
        "colab": {
          "base_uri": "https://localhost:8080/"
        },
        "id": "dEv9sMiQK8fb",
        "outputId": "c5c872f8-47c5-4f5c-87ee-6db3b2d786ff"
      },
      "source": [
        "from keras.models import model_from_json\r\n",
        "\r\n",
        "json_file = open('/content/drive/MyDrive/AudioEmotionDetection/model.json', 'r')\r\n",
        "loaded_model_json = json_file.read()\r\n",
        "json_file.close()\r\n",
        "loaded_model = model_from_json(loaded_model_json)\r\n",
        "# load weights into new model\r\n",
        "loaded_model.load_weights(\"/content/drive/MyDrive/AudioEmotionDetection/model.h5\")\r\n",
        "print(\"Loaded model from disk\")"
      ],
      "execution_count": null,
      "outputs": [
        {
          "output_type": "stream",
          "text": [
            "Loaded model from disk\n"
          ],
          "name": "stdout"
        }
      ]
    },
    {
      "cell_type": "code",
      "metadata": {
        "colab": {
          "base_uri": "https://localhost:8080/"
        },
        "id": "IevY4gXxLFLU",
        "outputId": "115c8268-f818-4930-a57e-1794259fa1d5"
      },
      "source": [
        "### Script for using model for prediction\r\n",
        "predict_path = '/content/drive/MyDrive/AudioEmotionDetection/data/audio_speech_actors_01-24/Actor_01/03-01-08-01-01-01-01.wav'\r\n",
        "\r\n",
        "data, sample_rate = librosa.load(predict_path)\r\n",
        "X = []\r\n",
        "feature = get_features(predict_path)\r\n",
        "for ele in feature:\r\n",
        "    X.append(ele)\r\n",
        "\r\n",
        "X = pd.DataFrame(X)\r\n",
        "\r\n",
        "scaler = pickle.load(open('/content/drive/MyDrive/AudioEmotionDetection/scaler.pkl','rb'))\r\n",
        "X = scaler.transform(X)\r\n",
        "X = np.expand_dims(X, axis=2)\r\n",
        "\r\n",
        "pred_test = loaded_model.predict(X)\r\n",
        "encoder = pickle.load(open('/content/drive/MyDrive/AudioEmotionDetection/encoder.pkl','rb'))\r\n",
        "y_pred = encoder.inverse_transform(pred_test)\r\n",
        "print(y_pred)"
      ],
      "execution_count": null,
      "outputs": [
        {
          "output_type": "stream",
          "text": [
            "[['surprise']\n",
            " ['surprise']\n",
            " ['surprise']]\n"
          ],
          "name": "stdout"
        }
      ]
    },
    {
      "cell_type": "code",
      "metadata": {
        "id": "J-v1w0_DbaKD"
      },
      "source": [
        ""
      ],
      "execution_count": null,
      "outputs": []
    }
  ]
}